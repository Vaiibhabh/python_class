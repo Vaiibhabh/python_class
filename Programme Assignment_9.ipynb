{
 "cells": [
  {
   "cell_type": "markdown",
   "id": "b13da127",
   "metadata": {},
   "source": [
    "# 1.\tWrite a Python program to check if the given number is a Disarium Number?"
   ]
  },
  {
   "cell_type": "code",
   "execution_count": 23,
   "id": "89a680e7",
   "metadata": {},
   "outputs": [],
   "source": [
    "def disanum():\n",
    "    num= input('enter the number: ')\n",
    "    total=0\n",
    "    for i in range(len(num)):\n",
    "        total= total+ int(num[i])**(i+1)\n",
    "    if total== int(num):\n",
    "        print ('the given number is disarium number')\n",
    "    else:\n",
    "        print ('the given number is not a disarium number')\n",
    "    "
   ]
  },
  {
   "cell_type": "code",
   "execution_count": 26,
   "id": "9614a615",
   "metadata": {},
   "outputs": [
    {
     "name": "stdout",
     "output_type": "stream",
     "text": [
      "enter the number: 1457\n",
      "the given number is not a disarium number\n"
     ]
    }
   ],
   "source": [
    "disanum()"
   ]
  },
  {
   "cell_type": "code",
   "execution_count": 29,
   "id": "552e7ae3",
   "metadata": {},
   "outputs": [
    {
     "name": "stdout",
     "output_type": "stream",
     "text": [
      "enter the number: 598\n",
      "the given number is disarium number\n"
     ]
    }
   ],
   "source": [
    "disanum()\n"
   ]
  },
  {
   "cell_type": "markdown",
   "id": "f3d3b883",
   "metadata": {},
   "source": [
    "# 2.\tWrite a Python program to print all disarium numbers between 1 to 100?"
   ]
  },
  {
   "cell_type": "code",
   "execution_count": 39,
   "id": "869b962f",
   "metadata": {},
   "outputs": [
    {
     "name": "stdout",
     "output_type": "stream",
     "text": [
      "Disarium no in range 1 to 100\n",
      "[1, 2, 3, 4, 5, 6, 7, 8, 9, 89]\n"
     ]
    }
   ],
   "source": [
    "def Disarium(number):\n",
    "    total = 0\n",
    "    while(number>0):\n",
    "        length= len(str(number))\n",
    "        remainder= number%10\n",
    "        total= total + remainder**length   \n",
    "        length= length-1\n",
    "        number = number//10\n",
    "    return total\n",
    "\n",
    "print(\"Disarium no in range 1 to 100\")\n",
    "\n",
    "disnumber = []\n",
    "\n",
    "for i in range(1,101):\n",
    "    total = 0\n",
    "    total = Disarium(i)\n",
    "    if total == i:\n",
    "        disnumber.append(i)        \n",
    "print(disnumber)"
   ]
  },
  {
   "cell_type": "markdown",
   "id": "0ea670cf",
   "metadata": {},
   "source": [
    "# 3.\tWrite a Python program to check if the given number is Happy Number?"
   ]
  },
  {
   "cell_type": "code",
   "execution_count": 56,
   "id": "4dff3f6c",
   "metadata": {},
   "outputs": [
    {
     "name": "stdout",
     "output_type": "stream",
     "text": [
      "Enter the number :79\n",
      "79 Is a Happy Number\n"
     ]
    }
   ],
   "source": [
    "def Happy(number):\n",
    "    total = 0\n",
    "    while(number>0):\n",
    "        digit = number%10\n",
    "        total= total + digit**2        \n",
    "        number = number//10\n",
    "    return total\n",
    "\n",
    "number = int(input(\"Enter the number :\"))\n",
    "result = number\n",
    "\n",
    "\n",
    "while (result != 1 and result != 4):\n",
    "    result = Happy(result)\n",
    "\n",
    "if result == 1:\n",
    "    print(number,\"Is a Happy Number\")\n",
    "else:\n",
    "    print(number,\" Is a Unhappy Number\")"
   ]
  },
  {
   "cell_type": "markdown",
   "id": "e7d47d5a",
   "metadata": {},
   "source": [
    "# 4.\tWrite a Python program to print all happy numbers between 1 and 100?"
   ]
  },
  {
   "cell_type": "code",
   "execution_count": 53,
   "id": "c74a8437",
   "metadata": {},
   "outputs": [
    {
     "name": "stdout",
     "output_type": "stream",
     "text": [
      "Happy numbers in range 1 to 100\n",
      "[1, 7, 10, 13, 19, 23, 28, 31, 32, 44, 49, 68, 70, 79, 82, 86, 91, 94, 97, 100]\n"
     ]
    }
   ],
   "source": [
    "def Happy(number):\n",
    "    total = 0\n",
    "    while(number>0):\n",
    "        digit = number%10\n",
    "        total= total + digit**2        \n",
    "        number = number//10\n",
    "    return total\n",
    "\n",
    "print(\"Happy numbers in range 1 to 100\")\n",
    "result=number=i=0\n",
    "happyNo = []\n",
    "for i in range(1,101):\n",
    "    result = i\n",
    "    while (result != 1 and result != 4):\n",
    "        result = Happy(result)    \n",
    "    if result == 1:\n",
    "        happyNo.append(i)\n",
    "print(happyNo)"
   ]
  },
  {
   "cell_type": "markdown",
   "id": "b9ded23d",
   "metadata": {},
   "source": [
    "# 5.\tWrite a Python program to determine whether the given number is a Harshad Number?"
   ]
  },
  {
   "cell_type": "code",
   "execution_count": 58,
   "id": "38ea0b54",
   "metadata": {},
   "outputs": [
    {
     "name": "stdout",
     "output_type": "stream",
     "text": [
      "Enter no. :79\n",
      "79 Is not a Harshad number\n"
     ]
    }
   ],
   "source": [
    "def digsum(number):\n",
    "    total = 0\n",
    "    while(number>0):\n",
    "        digit = number%10\n",
    "        total= total + digit      \n",
    "        number = number//10\n",
    "    return total\n",
    "\n",
    "number = int(input(\"Enter no. :\"))\n",
    "total = digsum(number)\n",
    "\n",
    "if number % total == 0:\n",
    "    print(number,\"Is a Harshad number\")\n",
    "else:\n",
    "    print(number,\"Is not a Harshad number\")"
   ]
  },
  {
   "cell_type": "markdown",
   "id": "647fd925",
   "metadata": {},
   "source": [
    "# 6.\tWrite a Python program to print all pronic numbers between 1 and 100?"
   ]
  },
  {
   "cell_type": "code",
   "execution_count": 61,
   "id": "b307335e",
   "metadata": {},
   "outputs": [
    {
     "name": "stdout",
     "output_type": "stream",
     "text": [
      "Pronic numbers in range 1 to 100\n",
      "[2, 6, 12, 20, 30, 42, 56, 72, 90]\n"
     ]
    }
   ],
   "source": [
    "def PronicNo(num):\n",
    "    Pronic = False\n",
    "    for i in range(1,num+1):\n",
    "        if i*(i+1) == num:\n",
    "            Pronic = True\n",
    "            break\n",
    "    return Pronic\n",
    "\n",
    "print(\"Pronic numbers in range 1 to 100\")\n",
    "pronicno = []\n",
    "for i in range(1,101):\n",
    "    if PronicNo(i):\n",
    "        pronicno.append(i)\n",
    "print(pronicno)"
   ]
  }
 ],
 "metadata": {
  "kernelspec": {
   "display_name": "Python 3 (ipykernel)",
   "language": "python",
   "name": "python3"
  },
  "language_info": {
   "codemirror_mode": {
    "name": "ipython",
    "version": 3
   },
   "file_extension": ".py",
   "mimetype": "text/x-python",
   "name": "python",
   "nbconvert_exporter": "python",
   "pygments_lexer": "ipython3",
   "version": "3.9.12"
  }
 },
 "nbformat": 4,
 "nbformat_minor": 5
}
