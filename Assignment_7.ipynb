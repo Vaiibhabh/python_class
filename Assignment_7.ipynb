{
 "cells": [
  {
   "cell_type": "markdown",
   "id": "a1327693",
   "metadata": {},
   "source": [
    "# 1. What is the name of the feature responsible for generating Regex objects?"
   ]
  },
  {
   "cell_type": "raw",
   "id": "650a63ec",
   "metadata": {},
   "source": [
    "Ans. re.compile(), it the name of feature for generating REgex objects."
   ]
  },
  {
   "cell_type": "code",
   "execution_count": 1,
   "id": "935c9f6d",
   "metadata": {},
   "outputs": [
    {
     "name": "stdout",
     "output_type": "stream",
     "text": [
      "Phone number found: 0361-258-353930\n"
     ]
    }
   ],
   "source": [
    "import re\n",
    "phoneNumRegex = re.compile(r'\\d\\d\\d\\d-\\d\\d\\d-\\d\\d\\d\\d\\d\\d')\n",
    "mo = phoneNumRegex.search('My number is 0361-258-353930.')\n",
    "print('Phone number found: ' + mo.group())"
   ]
  },
  {
   "cell_type": "code",
   "execution_count": 7,
   "id": "de47277c",
   "metadata": {},
   "outputs": [
    {
     "name": "stdout",
     "output_type": "stream",
     "text": [
      "HaHaHa\n"
     ]
    }
   ],
   "source": [
    "haRegex = re.compile(r'(Ha){3}')\n",
    "mo1 = haRegex.search('HaHaHahahaha')\n",
    "print(mo1.group())"
   ]
  },
  {
   "cell_type": "markdown",
   "id": "860d9ac7",
   "metadata": {},
   "source": [
    "# 2. Why do raw strings often appear in Regex objects?"
   ]
  },
  {
   "cell_type": "raw",
   "id": "11bb65e9",
   "metadata": {},
   "source": [
    "Ans. 2. Raw strings are used so that backslashes do not have to be escaped."
   ]
  },
  {
   "cell_type": "markdown",
   "id": "9f649bb0",
   "metadata": {},
   "source": [
    "# 3. What is the return value of the search() method?"
   ]
  },
  {
   "cell_type": "raw",
   "id": "77e4c36d",
   "metadata": {},
   "source": [
    "Ans. The serach method returns a match object created using the raw strings."
   ]
  },
  {
   "cell_type": "markdown",
   "id": "cc0b2abc",
   "metadata": {},
   "source": [
    "# 4. From a Match item, how do you get the actual strings that match the pattern?"
   ]
  },
  {
   "cell_type": "raw",
   "id": "a4b5cc1b",
   "metadata": {},
   "source": [
    "Ans. Calling the group() method returns the string that is exactly matched to a text."
   ]
  },
  {
   "cell_type": "markdown",
   "id": "79e01c95",
   "metadata": {},
   "source": [
    "# 5. In the regex which created from the r'(\\d\\d\\d)-(\\d\\d\\d-\\d\\d\\d\\d)', what does group zero cover? Group 2? Group 1?"
   ]
  },
  {
   "cell_type": "raw",
   "id": "3676e0f3",
   "metadata": {},
   "source": [
    "Ans. group zero group()- It covers the entire matched string created in the Regex object. For above example it will return exact matched string to this regex object- (\\d\\d\\d)-(\\d\\d\\d-\\d\\d\\d\\d)\n",
    "\n",
    "group(2)- Group 2 will cover  second parenthesis group that is (\\d\\d\\d-\\d\\d\\d\\d).\n",
    "\n",
    "group (1)- Group 1 will cover  first parenthesis group that is (\\d\\d\\d)."
   ]
  },
  {
   "cell_type": "markdown",
   "id": "54f4fa9d",
   "metadata": {},
   "source": [
    "# 6. In standard expression syntax, parentheses and intervals have distinct meanings. How can you tell a regex that you want it to fit real parentheses and periods?"
   ]
  },
  {
   "cell_type": "raw",
   "id": "31e6c121",
   "metadata": {},
   "source": [
    "Ans. Periods and parentheses can be escaped with a backslash, that is after backlash immediate character is escaped for eg.- \\., \\(,  \\)"
   ]
  },
  {
   "cell_type": "markdown",
   "id": "a59b621f",
   "metadata": {},
   "source": [
    "# 7. The findall() method returns a string list or a list of string tuples. What causes it to return one of the two options?"
   ]
  },
  {
   "cell_type": "raw",
   "id": "75625f8a",
   "metadata": {},
   "source": [
    "Ans: If the regex has no groups, a list of strings is returned. If the regex has groups, a list of tuples of strings is returned."
   ]
  },
  {
   "cell_type": "code",
   "execution_count": 10,
   "id": "ef1f8aec",
   "metadata": {},
   "outputs": [
    {
     "name": "stdout",
     "output_type": "stream",
     "text": [
      "['each', 'adder']\n"
     ]
    }
   ],
   "source": [
    "import re\n",
    "\n",
    "s = \"bleach, bladder and brake\"\n",
    "pattern = r'bl(\\w+)'   #It has no group so will return a list of strings\n",
    "matches = re.findall(pattern,s)\n",
    "\n",
    "print(matches)"
   ]
  },
  {
   "cell_type": "code",
   "execution_count": 13,
   "id": "ef3a030b",
   "metadata": {},
   "outputs": [
    {
     "name": "stdout",
     "output_type": "stream",
     "text": [
      "[('bleach', 'each'), ('bladder', 'adder')]\n"
     ]
    }
   ],
   "source": [
    "import re\n",
    "\n",
    "s = \"bleach, bladder and brake\"\n",
    "pattern = r'(bl(\\w+))'   #It has two group so will return a list of tuples of strings\n",
    "matches = re.findall(pattern,s)\n",
    "\n",
    "print(matches)"
   ]
  },
  {
   "cell_type": "markdown",
   "id": "f84cd836",
   "metadata": {},
   "source": [
    "# 8. In standard expressions, what does the | character mean?"
   ]
  },
  {
   "cell_type": "raw",
   "id": "e3156d88",
   "metadata": {},
   "source": [
    "Ans: The | character signifies matching “either, or” between two groups."
   ]
  },
  {
   "cell_type": "markdown",
   "id": "b3496b7e",
   "metadata": {},
   "source": [
    "# 9. In regular expressions, what does the character stand for?"
   ]
  },
  {
   "cell_type": "raw",
   "id": "ef9ab8ad",
   "metadata": {},
   "source": [
    "did not understood the question."
   ]
  },
  {
   "cell_type": "markdown",
   "id": "dc8bc6c0",
   "metadata": {},
   "source": [
    "# 10.In regular expressions, what is the difference between the + and * characters?"
   ]
  },
  {
   "cell_type": "raw",
   "id": "58940132",
   "metadata": {},
   "source": [
    "Ans. these expressions are known as quntifiers. star quantifiers (*) means to match a zero or more string from the preceding expressions\n",
    "a*  ---> a{0,}  ---> Match a or aa or aaaaa or an empty string\n",
    "\n",
    "plus qunatifiers(+) means to match atleast a non-empty string\n",
    "a+  ---> a{1,}  ---> Match a or aa or aaaa but not a string empty"
   ]
  },
  {
   "cell_type": "markdown",
   "id": "52a46047",
   "metadata": {},
   "source": [
    "# 11. What is the difference between {4} and {4,5} in regular expression?"
   ]
  },
  {
   "cell_type": "raw",
   "id": "34629db0",
   "metadata": {},
   "source": [
    " Ans. The {4} matches exactly three instances of the preceding group. The {4,5} matches between four and five instances."
   ]
  },
  {
   "cell_type": "markdown",
   "id": "93b3be26",
   "metadata": {},
   "source": [
    "# 12. What do you mean by the \\d, \\w, and \\s shorthand character classes signify in regular expressions?"
   ]
  },
  {
   "cell_type": "raw",
   "id": "80ea1ac8",
   "metadata": {},
   "source": [
    "Ans.\n",
    "\\d - single digit charecters\n",
    "\\w- single  word  charecter\n",
    "\\s - single  space charecter"
   ]
  },
  {
   "cell_type": "markdown",
   "id": "f514692f",
   "metadata": {},
   "source": [
    "# 13. What do means by \\D, \\W, and \\S shorthand character classes signify in regular expressions?"
   ]
  },
  {
   "cell_type": "raw",
   "id": "b6d6fadf",
   "metadata": {},
   "source": [
    "Ans.\n",
    "\\D- single non-digit charecter\n",
    "\\W- single non-word charecter \n",
    "\\S - single non-space charecter"
   ]
  },
  {
   "cell_type": "markdown",
   "id": "64621a5d",
   "metadata": {},
   "source": [
    "# 14. What is the difference between .* ? and .* ?"
   ]
  },
  {
   "cell_type": "raw",
   "id": "31fad35d",
   "metadata": {},
   "source": [
    "Ans. \n",
    "Both are same .*? performs a nongreedy match\n",
    "if the assked about .* it performs a greedy match."
   ]
  },
  {
   "cell_type": "markdown",
   "id": "1e108a22",
   "metadata": {},
   "source": [
    "# 15. What is the syntax for matching both numbers and lowercase letters with a character class?"
   ]
  },
  {
   "cell_type": "raw",
   "id": "2fad4be4",
   "metadata": {},
   "source": [
    "Ans. Either [0-9a-z] or [a-z0-9]"
   ]
  },
  {
   "cell_type": "markdown",
   "id": "f8819a16",
   "metadata": {},
   "source": [
    "# 16. What is the procedure for making a normal expression in regax case insensitive?"
   ]
  },
  {
   "cell_type": "raw",
   "id": "f5a9dc7f",
   "metadata": {},
   "source": [
    "Ans.  Passing re.I or re.IGNORECASE as the second argument to re.compile() will make the matching case insensitive."
   ]
  },
  {
   "cell_type": "raw",
   "id": "f5a4950d",
   "metadata": {},
   "source": [
    "syntax - regex_name = re.compile(r'^(Mr\\.|Mrs\\.|Ms\\.) ([a-z]+)( [a-z]+)*( [a-z]+)*$', \n",
    "              re.IGNORECASE)"
   ]
  },
  {
   "cell_type": "markdown",
   "id": "d7ba9fde",
   "metadata": {},
   "source": [
    "# 17. What does the . character normally match? What does it match if re.DOTALL is passed as 2nd argument in re.compile()?"
   ]
  },
  {
   "cell_type": "raw",
   "id": "34bd4fd0",
   "metadata": {},
   "source": [
    "Ans. Typically, the dot character matches all characters except the newline character. If the second input to re.compile() is re.DOTALL, then the dot will also match newline characters."
   ]
  },
  {
   "cell_type": "markdown",
   "id": "519732d8",
   "metadata": {},
   "source": [
    "# 18. If numReg = re.compile(r'\\d+'), what will numRegex.sub('X', '11 drummers, 10 pipers, five rings, 4 hen') return?"
   ]
  },
  {
   "cell_type": "code",
   "execution_count": 19,
   "id": "40159c08",
   "metadata": {},
   "outputs": [
    {
     "ename": "NameError",
     "evalue": "name 'numRegex' is not defined",
     "output_type": "error",
     "traceback": [
      "\u001b[1;31m---------------------------------------------------------------------------\u001b[0m",
      "\u001b[1;31mNameError\u001b[0m                                 Traceback (most recent call last)",
      "Input \u001b[1;32mIn [19]\u001b[0m, in \u001b[0;36m<cell line: 3>\u001b[1;34m()\u001b[0m\n\u001b[0;32m      1\u001b[0m \u001b[38;5;28;01mimport\u001b[39;00m \u001b[38;5;21;01mre\u001b[39;00m\n\u001b[0;32m      2\u001b[0m numReg \u001b[38;5;241m=\u001b[39m re\u001b[38;5;241m.\u001b[39mcompile(\u001b[38;5;124mr\u001b[39m\u001b[38;5;124m'\u001b[39m\u001b[38;5;124m\\\u001b[39m\u001b[38;5;124md+\u001b[39m\u001b[38;5;124m'\u001b[39m)\n\u001b[1;32m----> 3\u001b[0m \u001b[43mnumRegex\u001b[49m\u001b[38;5;241m.\u001b[39msub(\u001b[38;5;124m'\u001b[39m\u001b[38;5;124mX\u001b[39m\u001b[38;5;124m'\u001b[39m, \u001b[38;5;124m'\u001b[39m\u001b[38;5;124m11 drummers, 10 pipers, five rings, 4 hen\u001b[39m\u001b[38;5;124m'\u001b[39m)\n",
      "\u001b[1;31mNameError\u001b[0m: name 'numRegex' is not defined"
     ]
    }
   ],
   "source": [
    "import re\n",
    "numReg = re.compile(r'\\d+')\n",
    "numRegex.sub('X', '11 drummers, 10 pipers, five rings, 4 hen')"
   ]
  },
  {
   "cell_type": "code",
   "execution_count": null,
   "id": "04ca8396",
   "metadata": {},
   "outputs": [],
   "source": [
    "Above given code will give an error,because numRegex is not defind. It will give NameError."
   ]
  },
  {
   "cell_type": "code",
   "execution_count": 18,
   "id": "8912d096",
   "metadata": {},
   "outputs": [
    {
     "data": {
      "text/plain": [
       "'X drummers, X pipers, five rings, X hen'"
      ]
     },
     "execution_count": 18,
     "metadata": {},
     "output_type": "execute_result"
    }
   ],
   "source": [
    "import re\n",
    "numReg = re.compile(r'\\d+')\n",
    "numReg.sub('X', '11 drummers, 10 pipers, five rings, 4 hen')"
   ]
  },
  {
   "cell_type": "markdown",
   "id": "e46a8cbb",
   "metadata": {},
   "source": [
    "# 19. What does passing re.VERBOSE as the 2nd argument to re.compile() allow to do?"
   ]
  },
  {
   "cell_type": "raw",
   "id": "90425004",
   "metadata": {},
   "source": [
    "Ans. The re.VERBOSE argument permits the addition of whitespace and comments to the string supplied to re.compile ()"
   ]
  },
  {
   "cell_type": "markdown",
   "id": "6bd564da",
   "metadata": {},
   "source": [
    "# 20. How would you write a regex that match a number with comma for every three digits? It must match the given following:\n",
    "\n",
    "'42'\n",
    "\n",
    "'1,234'\n",
    "\n",
    "'6,368,745'\n",
    "\n",
    "but not the following:\n",
    "\n",
    "    '12,34,567' (which has only two digits between the commas)\n",
    "\n",
    "    '1234' (which lacks commas)\n"
   ]
  },
  {
   "cell_type": "raw",
   "id": "4a0dc7b7",
   "metadata": {},
   "source": [
    "Ans: re.compile(r'^\\d{1,3}(,{3})*$') will create this regex, but other regex strings can produce a similar regular expression"
   ]
  },
  {
   "cell_type": "markdown",
   "id": "c70a8d65",
   "metadata": {},
   "source": [
    "# 21. How would you write a regex that matches the full name of someone whose last name is Watanabe? You can assume that the first name that comes before it will always be one word that begins with a capital letter. The regex must match the following:\n",
    "\n",
    "'Haruto Watanabe'\n",
    "\n",
    "'Alice Watanabe'\n",
    "\n",
    "'RoboCop Watanabe'\n",
    "\n",
    "but not the following:\n",
    "\n",
    "'haruto Watanabe' (where the first name is not capitalized)\n",
    "\n",
    "'Mr. Watanabe' (where the preceding word has a nonletter character)\n",
    "\n",
    "'Watanabe' (which has no first name)\n",
    "\n",
    "'Haruto watanabe' (where Watanabe is not capitalized)\n"
   ]
  },
  {
   "cell_type": "code",
   "execution_count": 21,
   "id": "39d38f3a",
   "metadata": {},
   "outputs": [
    {
     "name": "stdout",
     "output_type": "stream",
     "text": [
      "<re.Match object; span=(0, 15), match='Haruto Watanabe'>\n"
     ]
    }
   ],
   "source": [
    "import re\n",
    "namesearch= re.compile(r'[A-Z][a-z]*\\sWatanabe')\n",
    "Rslt= namesearch.search(\"Haruto Watanabe\")\n",
    "print(Rslt) "
   ]
  },
  {
   "cell_type": "code",
   "execution_count": 23,
   "id": "d1db61ed",
   "metadata": {},
   "outputs": [
    {
     "name": "stdout",
     "output_type": "stream",
     "text": [
      "None\n"
     ]
    }
   ],
   "source": [
    "import re\n",
    "namesearch= re.compile(r'[A-Z][a-z]*\\sWatanabe')\n",
    "Rslt= namesearch.search(\"Mr. Watanabe\")\n",
    "print(Rslt) "
   ]
  },
  {
   "cell_type": "markdown",
   "id": "f75c5501",
   "metadata": {},
   "source": [
    "# 22. How would you write a regex that matches a sentence where the first word is either Alice, Bob, or Carol; the second word is either eats, pets, or throws; the third word is apples, cats, or baseballs; and the sentence ends with a period? This regex should be case-insensitive. It must match the following:\n",
    "\n",
    "'Alice eats apples.'\n",
    "\n",
    "'Bob pets cats.'\n",
    "\n",
    "'Carol throws baseballs.'\n",
    "\n",
    "'Alice throws Apples.'\n",
    "\n",
    "'BOB EATS CATS.'\n",
    "\n",
    "but not the following:\n",
    "\n",
    "'RoboCop eats apples.'\n",
    "\n",
    "'ALICE THROWS FOOTBALLS.'\n",
    "\n",
    "'Carol eats 7 cats.'\n"
   ]
  },
  {
   "cell_type": "code",
   "execution_count": 31,
   "id": "becf2203",
   "metadata": {},
   "outputs": [
    {
     "name": "stdout",
     "output_type": "stream",
     "text": [
      "Alice\n"
     ]
    }
   ],
   "source": [
    "regex=re.compile(r'Alice|Bob|Carol\\seats|pets|throws\\sapples\\.|cats\\.|baseballs\\.',re.IGNORECASE)\n",
    "mo=regex.search('Alice eats apples.')\n",
    "ma=mo.group()\n",
    "print(ma)"
   ]
  },
  {
   "cell_type": "code",
   "execution_count": 32,
   "id": "d32fbf30",
   "metadata": {},
   "outputs": [
    {
     "name": "stdout",
     "output_type": "stream",
     "text": [
      "Bob\n"
     ]
    }
   ],
   "source": [
    "regex=re.compile(r'Alice|Bob|Carol\\seats|pets|throws\\sapples\\.|cats\\.|baseballs\\.',re.IGNORECASE)\n",
    "mo=regex.search('Bob pets cats.')\n",
    "ma=mo.group()\n",
    "print(ma)"
   ]
  },
  {
   "cell_type": "code",
   "execution_count": null,
   "id": "2abc7dba",
   "metadata": {},
   "outputs": [],
   "source": []
  }
 ],
 "metadata": {
  "kernelspec": {
   "display_name": "Python 3 (ipykernel)",
   "language": "python",
   "name": "python3"
  },
  "language_info": {
   "codemirror_mode": {
    "name": "ipython",
    "version": 3
   },
   "file_extension": ".py",
   "mimetype": "text/x-python",
   "name": "python",
   "nbconvert_exporter": "python",
   "pygments_lexer": "ipython3",
   "version": "3.9.12"
  }
 },
 "nbformat": 4,
 "nbformat_minor": 5
}
