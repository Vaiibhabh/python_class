{
 "cells": [
  {
   "cell_type": "markdown",
   "id": "4a6e4e44",
   "metadata": {},
   "source": [
    "# Question 1:\n",
    "Please write a program using generator to print the numbers which can be divisible by 5 and 7 between 0 and n in comma separated form while n is input by console.\n",
    "Example:\n",
    "If the following n is given as input to the program:\n",
    "100\n",
    "Then, the output of the program should be:\n",
    "0,35,70\n"
   ]
  },
  {
   "cell_type": "code",
   "execution_count": 18,
   "id": "ceef1708",
   "metadata": {},
   "outputs": [],
   "source": [
    "def divisiblity():\n",
    "    n= int(input('enter the number: '))\n",
    "    l=[]\n",
    "    for i in range(0,n+1):\n",
    "        if i%7==0 and i%5==0:\n",
    "            l.append(str(i))\n",
    "           \n",
    "    print(','.join(l))\n",
    "            "
   ]
  },
  {
   "cell_type": "code",
   "execution_count": 19,
   "id": "963cdf94",
   "metadata": {},
   "outputs": [
    {
     "name": "stdout",
     "output_type": "stream",
     "text": [
      "enter the number: 100\n",
      "0,35,70\n"
     ]
    }
   ],
   "source": [
    "divisiblity()"
   ]
  },
  {
   "cell_type": "markdown",
   "id": "f26e6ed7",
   "metadata": {},
   "source": [
    "# Question 2:\n",
    "Please write a program using generator to print the even numbers between 0 and n in comma separated form while n is input by console.\n",
    "Example:\n",
    "If the following n is given as input to the program:\n",
    "10\n",
    "Then, the output of the program should be:\n",
    "0,2,4,6,8,10\n"
   ]
  },
  {
   "cell_type": "code",
   "execution_count": 21,
   "id": "b0511308",
   "metadata": {},
   "outputs": [],
   "source": [
    "def divisiblity_1():\n",
    "    n= int(input('enter the number: '))\n",
    "    l=[]\n",
    "    for i in range(0,n+1):\n",
    "        if i%2==0 :\n",
    "            l.append(str(i))\n",
    "           \n",
    "    print(','.join(l))\n",
    "            "
   ]
  },
  {
   "cell_type": "code",
   "execution_count": 22,
   "id": "6963923d",
   "metadata": {},
   "outputs": [
    {
     "name": "stdout",
     "output_type": "stream",
     "text": [
      "enter the number: 10\n",
      "0,2,4,6,8,10\n"
     ]
    }
   ],
   "source": [
    "divisiblity_1()"
   ]
  },
  {
   "cell_type": "markdown",
   "id": "d9670d4c",
   "metadata": {},
   "source": [
    "# Question 3:\n",
    "The Fibonacci Sequence is computed based on the following formula:\n",
    "f(n)=0 if n=0\n",
    "f(n)=1 if n=1\n",
    "f(n)=f(n-1)+f(n-2) if n>1\n",
    "Please write a program using list comprehension to print the Fibonacci Sequence in comma separated form with a given n input by console.\n",
    "Example:\n",
    "If the following n is given as input to the program:\n",
    "7\n",
    "\n",
    "Then, the output of the program should be:\n",
    "0,1,1,2,3,5,8,13\n"
   ]
  },
  {
   "cell_type": "code",
   "execution_count": 35,
   "id": "3086bbab",
   "metadata": {},
   "outputs": [
    {
     "name": "stdout",
     "output_type": "stream",
     "text": [
      "enter the total number of fibonnaci number need starting from 0 : 7\n",
      "0,1,1,2,3,5,8,13\n"
     ]
    }
   ],
   "source": [
    "def fibbo(n):\n",
    "    \n",
    "    if n == 0: \n",
    "            return 0    \n",
    "    elif n == 1: \n",
    "            return 1    \n",
    "    else: \n",
    "            return fibbo(n-1)+fibbo(n-2)\n",
    "n= int(input('enter the total number of fibonnaci number need starting from 0 : '))\n",
    "for i in range(0, n+1):\n",
    "    numbers = [str(fibbo(x)) for x in range(0, n+1)] \n",
    "print(\",\".join(numbers))"
   ]
  },
  {
   "cell_type": "markdown",
   "id": "28e054f0",
   "metadata": {},
   "source": [
    "# Question 4:\n",
    "Assuming that we have some email addresses in the \"username@companyname.com\" format, please write program to print the user name of a given email address. Both user names and company names are composed of letters only.\n",
    "Example:\n",
    "If the following email address is given as input to the program:\n",
    "john@google.com\n",
    "Then, the output of the program should be:\n",
    "john\n"
   ]
  },
  {
   "cell_type": "code",
   "execution_count": 45,
   "id": "196f2ebf",
   "metadata": {},
   "outputs": [],
   "source": [
    "def username():\n",
    "    email= input('enter the email address: ')\n",
    "    email= email.split('@')\n",
    "    print('user name: ',email[0])\n",
    "    print('company name: ',email[1])\n",
    "    "
   ]
  },
  {
   "cell_type": "code",
   "execution_count": 46,
   "id": "804d42d8",
   "metadata": {},
   "outputs": [
    {
     "name": "stdout",
     "output_type": "stream",
     "text": [
      "enter the email address: john@google.com \n",
      "user name:  john\n",
      "company name:  google.com \n"
     ]
    }
   ],
   "source": [
    "username()"
   ]
  },
  {
   "cell_type": "markdown",
   "id": "369bed52",
   "metadata": {},
   "source": [
    "# Question 5:\n",
    "Define a class named Shape and its subclass Square. The Square class has an init function which takes a length as argument. Both classes have a area function which can print the area of the shape where Shape's area is 0 by default.\n"
   ]
  },
  {
   "cell_type": "code",
   "execution_count": 58,
   "id": "e364bbf7",
   "metadata": {},
   "outputs": [],
   "source": [
    "class Shape():\n",
    "    def __init__(self):\n",
    "        pass\n",
    "    \n",
    "    def area(self):\n",
    "        return 0\n",
    "\n",
    "    \n",
    "class Square(Shape):\n",
    "    def __init__(self,length):\n",
    "        self.length= length\n",
    "        \n",
    "    def area(self):\n",
    "        return self.length*self.length"
   ]
  },
  {
   "cell_type": "code",
   "execution_count": 61,
   "id": "00b5731e",
   "metadata": {},
   "outputs": [],
   "source": [
    "square_1= Square(25)"
   ]
  },
  {
   "cell_type": "code",
   "execution_count": 62,
   "id": "7581e513",
   "metadata": {},
   "outputs": [
    {
     "data": {
      "text/plain": [
       "625"
      ]
     },
     "execution_count": 62,
     "metadata": {},
     "output_type": "execute_result"
    }
   ],
   "source": [
    "square_1.area()\n"
   ]
  },
  {
   "cell_type": "code",
   "execution_count": null,
   "id": "2dc25305",
   "metadata": {},
   "outputs": [],
   "source": []
  }
 ],
 "metadata": {
  "kernelspec": {
   "display_name": "Python 3 (ipykernel)",
   "language": "python",
   "name": "python3"
  },
  "language_info": {
   "codemirror_mode": {
    "name": "ipython",
    "version": 3
   },
   "file_extension": ".py",
   "mimetype": "text/x-python",
   "name": "python",
   "nbconvert_exporter": "python",
   "pygments_lexer": "ipython3",
   "version": "3.9.12"
  }
 },
 "nbformat": 4,
 "nbformat_minor": 5
}
