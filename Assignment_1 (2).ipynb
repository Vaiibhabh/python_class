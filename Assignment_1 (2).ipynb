{
 "cells": [
  {
   "cell_type": "markdown",
   "id": "42881c6e",
   "metadata": {},
   "source": [
    "# 1. In the below elements which of them are values or an expression? eg:- values can be\n",
    "integer or string and expressions will be mathematical operators.\n",
    "*\n",
    "'hello'\n",
    "-87.8\n",
    "-\n",
    "/\n",
    "+\n",
    "6"
   ]
  },
  {
   "cell_type": "markdown",
   "id": "8432639f",
   "metadata": {},
   "source": [
    "values | expression\n",
    "-|-\n",
    "'hello'|*\n",
    "-87.8 |-\n",
    "6 |/\n",
    " |+"
   ]
  },
  {
   "cell_type": "markdown",
   "id": "dee0beca",
   "metadata": {},
   "source": [
    "# 2. What is the difference between string and variable?\n",
    "Answer: String is a type of data that you can store in the form of variable.\n",
    "variable is a information that contains different data types."
   ]
  },
  {
   "cell_type": "markdown",
   "id": "9beed7e3",
   "metadata": {},
   "source": [
    "# 3. Describe three different data types.\n",
    "Ans. (i) Character data type- it is stored in the form of strings between two \"stings\" or 'strings'.\n",
    "(ii) integer data tyep - these are the numerical values with no decimal points, eg. 1, 10, 0, -1\n",
    "(iii) float data type - these are the numerical values with decimal point, eg. 10.20, 0.26, 35.01,20.00\n",
    "(iv) Complex data type - these are the complex number defined as eg. 3+ 6j\n"
   ]
  },
  {
   "cell_type": "markdown",
   "id": "7a091527",
   "metadata": {},
   "source": [
    "# 4. What is an expression made up of? What do all expressions do?\n",
    "Answer: Expression is made up of mathematical operators, values, variables that are interpretes by the python to express and display the results between different data types.\n",
    "some basic expression examples are given below:"
   ]
  },
  {
   "cell_type": "code",
   "execution_count": 15,
   "id": "0a181a22",
   "metadata": {},
   "outputs": [
    {
     "data": {
      "text/plain": [
       "5"
      ]
     },
     "execution_count": 15,
     "metadata": {},
     "output_type": "execute_result"
    }
   ],
   "source": [
    "2+3"
   ]
  },
  {
   "cell_type": "code",
   "execution_count": 16,
   "id": "d9ce9bac",
   "metadata": {},
   "outputs": [
    {
     "data": {
      "text/plain": [
       "-1"
      ]
     },
     "execution_count": 16,
     "metadata": {},
     "output_type": "execute_result"
    }
   ],
   "source": [
    "5-6"
   ]
  },
  {
   "cell_type": "code",
   "execution_count": 17,
   "id": "46725478",
   "metadata": {},
   "outputs": [
    {
     "data": {
      "text/plain": [
       "81"
      ]
     },
     "execution_count": 17,
     "metadata": {},
     "output_type": "execute_result"
    }
   ],
   "source": [
    "9**2"
   ]
  },
  {
   "cell_type": "markdown",
   "id": "8ce171c3",
   "metadata": {},
   "source": [
    "# 5. This assignment statements, like spam = 10. What is the difference between an\n",
    "expression and a statement?\n",
    "Answer:  A statement is an instruction that the Python interpreter can execute. \n",
    "in given example 'spam =10' is a statment which is interpreted by python to execute.\n",
    "Expression : it is the mathematical operators that are that interpreted by python to give the desired output."
   ]
  },
  {
   "cell_type": "markdown",
   "id": "9a4ce73f",
   "metadata": {},
   "source": [
    " # 6. After running the following code, what does the variable bacon contain?\n",
    "bacon = 22\n",
    "bacon + 1\n",
    "Answer= variable will always contain bacon= 22, because the variable 'bacon' has not been reassigned any new value.\n"
   ]
  },
  {
   "cell_type": "code",
   "execution_count": 18,
   "id": "55903dde",
   "metadata": {},
   "outputs": [
    {
     "name": "stdout",
     "output_type": "stream",
     "text": [
      "22\n",
      "23\n",
      " bacon value again: 22\n"
     ]
    }
   ],
   "source": [
    "bacon= 22\n",
    "print (bacon)\n",
    "\n",
    "print (bacon + 1)\n",
    "print (f' bacon value again: {bacon}') # no change in value"
   ]
  },
  {
   "cell_type": "markdown",
   "id": "0ae9a68c",
   "metadata": {},
   "source": [
    "# 7. What should the values of the following two terms be?\n",
    "'spam' + 'spamspam'\n",
    "'spam' * 3\n",
    "Answer:"
   ]
  },
  {
   "cell_type": "code",
   "execution_count": 19,
   "id": "97bec958",
   "metadata": {},
   "outputs": [
    {
     "name": "stdout",
     "output_type": "stream",
     "text": [
      "spamspamspam\n",
      "spamspamspam\n"
     ]
    }
   ],
   "source": [
    "answer= 'spam' + 'spamspam'\n",
    "print ('spam' + 'spamspam') # concatenate the two different strings with addition operator\n",
    "print ('spam' * 3) # concatenate the same strings with multiplication operator"
   ]
  },
  {
   "cell_type": "markdown",
   "id": "1aa4297c",
   "metadata": {},
   "source": [
    "# 8. Why is eggs a valid variable name while 100 is invalid?\n",
    "Answer: Beacuse a variable name can not start with a number, on the other hand it can start with alphabets, alphabet followed by number is also acceptale."
   ]
  },
  {
   "cell_type": "markdown",
   "id": "a3def960",
   "metadata": {},
   "source": [
    "# 9. What three functions can be used to get the integer, floating-point number, or string version of a value?\n",
    "Answer: 'int' for integer, 'float' for floating-point number and 'str' for string vesrion of value."
   ]
  },
  {
   "cell_type": "markdown",
   "id": "30bcc6f3",
   "metadata": {},
   "source": [
    "# 10. Why does this expression cause an error? How can you fix it?\n",
    "'I have eaten ' + 99 + ' burritos.'\n",
    "Answer: this expression cause an error because we can not concatenate strings with integer. to fix this we have to change the integer data to a string as shown below:\n"
   ]
  },
  {
   "cell_type": "code",
   "execution_count": 20,
   "id": "9a8c3519",
   "metadata": {},
   "outputs": [
    {
     "data": {
      "text/plain": [
       "'I have eaten 99 burritos.'"
      ]
     },
     "execution_count": 20,
     "metadata": {},
     "output_type": "execute_result"
    }
   ],
   "source": [
    "'I have eaten ' + '99' + ' burritos.'"
   ]
  },
  {
   "cell_type": "code",
   "execution_count": 21,
   "id": "8f22895e",
   "metadata": {},
   "outputs": [
    {
     "data": {
      "text/plain": [
       "'I have eaten 99 burritos.'"
      ]
     },
     "execution_count": 21,
     "metadata": {},
     "output_type": "execute_result"
    }
   ],
   "source": [
    "'I have eaten ' + str(99) + ' burritos.'"
   ]
  },
  {
   "cell_type": "code",
   "execution_count": null,
   "id": "51023bba",
   "metadata": {},
   "outputs": [],
   "source": []
  }
 ],
 "metadata": {
  "kernelspec": {
   "display_name": "Python 3 (ipykernel)",
   "language": "python",
   "name": "python3"
  },
  "language_info": {
   "codemirror_mode": {
    "name": "ipython",
    "version": 3
   },
   "file_extension": ".py",
   "mimetype": "text/x-python",
   "name": "python",
   "nbconvert_exporter": "python",
   "pygments_lexer": "ipython3",
   "version": "3.9.12"
  }
 },
 "nbformat": 4,
 "nbformat_minor": 5
}
