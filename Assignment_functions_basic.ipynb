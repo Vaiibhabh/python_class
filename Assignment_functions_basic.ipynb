{
 "cells": [
  {
   "cell_type": "markdown",
   "id": "f6c7a1a7",
   "metadata": {},
   "source": [
    "# 1. write a fucntion which will try to find out length of string without using an inbuilt len fucntion."
   ]
  },
  {
   "cell_type": "code",
   "execution_count": 53,
   "id": "9b2d48a9",
   "metadata": {},
   "outputs": [
    {
     "name": "stdout",
     "output_type": "stream",
     "text": [
      "enter string :raja ram mohan pyare\n",
      "length is 20\n"
     ]
    }
   ],
   "source": [
    "\n",
    "def str_reader(a):\n",
    "    '''Gives the length of the string without a using a len operator'''\n",
    "    x =0\n",
    "    for i in a:\n",
    "        if type(i) == str:\n",
    "            x = x + 1\n",
    "    return x\n",
    "\n",
    "a = input(\"enter string :\")\n",
    "length_of_string = str_reader(a)\n",
    "\n",
    "print(f'length is {length_of_string}')"
   ]
  },
  {
   "cell_type": "markdown",
   "id": "16d4bedb",
   "metadata": {},
   "source": [
    "# 2. write a fcunction which will be able to print an index of list element without using an index function."
   ]
  },
  {
   "cell_type": "code",
   "execution_count": 108,
   "id": "722b4805",
   "metadata": {},
   "outputs": [],
   "source": [
    "list1 = [4, 2, 7, 'vaiibhabh', 'ineuron', 6.78, 'ram']"
   ]
  },
  {
   "cell_type": "code",
   "execution_count": 124,
   "id": "068407dd",
   "metadata": {},
   "outputs": [],
   "source": [
    "def find_index():\n",
    "    '''use to find the index of element after giving the element in the if block'''\n",
    "    index_no = []\n",
    "    for i in range(len(list1)):\n",
    "            if list1[i]=='vaiibhabh':\n",
    "                index_no.append(i)\n",
    "    return index_no\n",
    "\n"
   ]
  },
  {
   "cell_type": "code",
   "execution_count": 125,
   "id": "638c7a0f",
   "metadata": {},
   "outputs": [
    {
     "data": {
      "text/plain": [
       "[3]"
      ]
     },
     "execution_count": 125,
     "metadata": {},
     "output_type": "execute_result"
    }
   ],
   "source": [
    "find_index()"
   ]
  },
  {
   "cell_type": "markdown",
   "id": "44371a58",
   "metadata": {},
   "source": [
    "# 3.  write a fucntion which will be able to print an IP address of your system"
   ]
  },
  {
   "cell_type": "code",
   "execution_count": 8,
   "id": "09196140",
   "metadata": {},
   "outputs": [],
   "source": [
    "def ip_address():\n",
    "    '''use this to find the ip address of your computer'''\n",
    "    import socket\n",
    "    computer_name = socket.gethostname()\n",
    "    IP_address = socket.gethostbyname(computer_name)\n",
    "    return computer_name, IP_address"
   ]
  },
  {
   "cell_type": "code",
   "execution_count": 9,
   "id": "69c58805",
   "metadata": {},
   "outputs": [
    {
     "data": {
      "text/plain": [
       "('DESKTOP-TAC21HI', '172.16.75.185')"
      ]
     },
     "execution_count": 9,
     "metadata": {},
     "output_type": "execute_result"
    }
   ],
   "source": [
    "ip_address()"
   ]
  },
  {
   "cell_type": "markdown",
   "id": "5fc29588",
   "metadata": {},
   "source": [
    "#  4. write a function which will shut down your system."
   ]
  },
  {
   "cell_type": "code",
   "execution_count": 1,
   "id": "1076a983",
   "metadata": {},
   "outputs": [],
   "source": [
    "def shut_down():\n",
    "    '''use this to shud down your system instantly after given a user input in yes or no'''\n",
    "    import os\n",
    "  \n",
    "    shutdown_system = input(\"are you willing to shut down your system? (yes / no): \")\n",
    "  \n",
    "    if shutdown_system == 'no':\n",
    "        exit()\n",
    "    else:\n",
    "        os.system(\"shutdown /s /t 1\")"
   ]
  },
  {
   "cell_type": "code",
   "execution_count": 2,
   "id": "77768b7a",
   "metadata": {},
   "outputs": [
    {
     "name": "stdout",
     "output_type": "stream",
     "text": [
      "are you willing to shut down your system? (yes / no): no\n"
     ]
    }
   ],
   "source": [
    "shut_down()"
   ]
  },
  {
   "cell_type": "markdown",
   "id": "03643ffb",
   "metadata": {},
   "source": [
    "# 5. write a function which will take input as a list with any kind of numeric value and give an out as a mutliplication of all the numeric data l= [3.5, 6.56, 4,5, 'sudh', 'ineuron', 'fsda bootcamp 2.0']\n",
    " \n",
    "\n"
   ]
  },
  {
   "cell_type": "code",
   "execution_count": 72,
   "id": "5b86bea0",
   "metadata": {},
   "outputs": [],
   "source": [
    "l1= [3.5, 6.56, 4,5, 'sudh', 'ineuron', 'fsda bootcamp 2.0']"
   ]
  },
  {
   "cell_type": "code",
   "execution_count": 96,
   "id": "d040c595",
   "metadata": {},
   "outputs": [],
   "source": [
    "def multi(l):\n",
    "    x= 1\n",
    "    for i in l:\n",
    "        \n",
    "        if type(i)== int or type(i)== float:\n",
    "            x = x*i\n",
    "            \n",
    "    return x"
   ]
  },
  {
   "cell_type": "code",
   "execution_count": 97,
   "id": "686f4fe9",
   "metadata": {},
   "outputs": [
    {
     "data": {
      "text/plain": [
       "459.19999999999993"
      ]
     },
     "execution_count": 97,
     "metadata": {},
     "output_type": "execute_result"
    }
   ],
   "source": [
    "multi(l1)"
   ]
  },
  {
   "cell_type": "markdown",
   "id": "3de983c5",
   "metadata": {},
   "source": [
    "# 6. write a fucntion which will be able to read all the mails"
   ]
  },
  {
   "cell_type": "code",
   "execution_count": null,
   "id": "ec4724bd",
   "metadata": {},
   "outputs": [],
   "source": []
  },
  {
   "cell_type": "markdown",
   "id": "b030095d",
   "metadata": {},
   "source": [
    "# 7. write a fucntion which will be able to send a mail to anyone"
   ]
  },
  {
   "cell_type": "code",
   "execution_count": null,
   "id": "780a923d",
   "metadata": {},
   "outputs": [],
   "source": []
  },
  {
   "cell_type": "markdown",
   "id": "1dc83f9f",
   "metadata": {},
   "source": [
    "#  8. write a fucntion which will be able to read a doc/word file from your system"
   ]
  },
  {
   "cell_type": "code",
   "execution_count": null,
   "id": "3cba534b",
   "metadata": {},
   "outputs": [],
   "source": []
  },
  {
   "cell_type": "code",
   "execution_count": null,
   "id": "fcf518c7",
   "metadata": {},
   "outputs": [],
   "source": []
  }
 ],
 "metadata": {
  "kernelspec": {
   "display_name": "Python 3 (ipykernel)",
   "language": "python",
   "name": "python3"
  },
  "language_info": {
   "codemirror_mode": {
    "name": "ipython",
    "version": 3
   },
   "file_extension": ".py",
   "mimetype": "text/x-python",
   "name": "python",
   "nbconvert_exporter": "python",
   "pygments_lexer": "ipython3",
   "version": "3.9.12"
  }
 },
 "nbformat": 4,
 "nbformat_minor": 5
}
