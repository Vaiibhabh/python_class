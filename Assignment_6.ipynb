{
 "cells": [
  {
   "cell_type": "markdown",
   "id": "567961e2",
   "metadata": {},
   "source": [
    "# 1. What are escape characters, and how do you use them?"
   ]
  },
  {
   "cell_type": "markdown",
   "id": "cef2f8dd",
   "metadata": {},
   "source": [
    "Characters known as \"escape characters\" are used in string values to represent characters that would otherwise be difficult or impossible to type into code."
   ]
  },
  {
   "cell_type": "code",
   "execution_count": 18,
   "id": "2d886283",
   "metadata": {},
   "outputs": [
    {
     "name": "stdout",
     "output_type": "stream",
     "text": [
      "I don't have to go to the moveies\n",
      "it's just a new line\n",
      "any symbol can be used after providing escape charetcters like $, % \n"
     ]
    }
   ],
   "source": [
    "# for exapmles\n",
    "print ('I don\\'t have to go to the moveies')\n",
    "print ('it\\'s just a new line')"
   ]
  },
  {
   "cell_type": "markdown",
   "id": "3ecc9bb9",
   "metadata": {},
   "source": [
    "# 2. What do the escape characters n and t stand for?"
   ]
  },
  {
   "cell_type": "markdown",
   "id": "4f8c9809",
   "metadata": {},
   "source": [
    "\\n stands for new line\n",
    "\n",
    "\\t stands for tab spacing"
   ]
  },
  {
   "cell_type": "code",
   "execution_count": 21,
   "id": "8c4eba73",
   "metadata": {},
   "outputs": [
    {
     "name": "stdout",
     "output_type": "stream",
     "text": [
      " this is a two line \n",
      " output\n"
     ]
    }
   ],
   "source": [
    "print (' this is a two line \\n output')"
   ]
  },
  {
   "cell_type": "code",
   "execution_count": 22,
   "id": "4efba4de",
   "metadata": {},
   "outputs": [
    {
     "name": "stdout",
     "output_type": "stream",
     "text": [
      "the spacing is equal to a tab \t space\n"
     ]
    }
   ],
   "source": [
    "print ('the spacing is equal to a tab \\t space')"
   ]
  },
  {
   "cell_type": "markdown",
   "id": "86156da1",
   "metadata": {},
   "source": [
    "# 3. What is the way to include backslash characters in a string?"
   ]
  },
  {
   "cell_type": "code",
   "execution_count": 26,
   "id": "1f76d673",
   "metadata": {},
   "outputs": [
    {
     "name": "stdout",
     "output_type": "stream",
     "text": [
      "vaibhav\n",
      "jaiswal\n",
      "vaibhav\tjaiswal\n"
     ]
    }
   ],
   "source": [
    "s = 'vaibhav\\njaiswal'\n",
    "print (s)\n",
    "s1 = 'vaibhav\\tjaiswal'\n",
    "print (s1)"
   ]
  },
  {
   "cell_type": "markdown",
   "id": "33b50e9c",
   "metadata": {},
   "source": [
    "# 4. The string \"Howl's Moving Castle\" is a correct value. Why isn't the single quote character in the word Howl's not escaped a problem?"
   ]
  },
  {
   "cell_type": "code",
   "execution_count": 32,
   "id": "17212c8c",
   "metadata": {},
   "outputs": [
    {
     "name": "stdout",
     "output_type": "stream",
     "text": [
      "Howl's Moving Castle\n",
      "it does't require a escape charecter within double quote\n"
     ]
    }
   ],
   "source": [
    "print (\"Howl's Moving Castle\") # we have used dounle quotes out side to define the string and within those we have used sindle quote\n",
    "print (\"this line does't require a escape charecter within double quote\")"
   ]
  },
  {
   "cell_type": "markdown",
   "id": "0c967135",
   "metadata": {},
   "source": [
    "# 5. How do you write a string of newlines if you don't want to use the n character?"
   ]
  },
  {
   "cell_type": "code",
   "execution_count": 33,
   "id": "5bee1bee",
   "metadata": {},
   "outputs": [
    {
     "name": "stdout",
     "output_type": "stream",
     "text": [
      " whatever is going on \n",
      "in your life, i am \n",
      "very happy to here \n",
      "about it\n"
     ]
    }
   ],
   "source": [
    "print (\"\"\" whatever is going on \n",
    "in your life, i am \n",
    "very happy to here \n",
    "about it\"\"\") # we use three times single or double quotes instead of n character"
   ]
  },
  {
   "cell_type": "markdown",
   "id": "5e9c6db4",
   "metadata": {},
   "source": [
    "# 6. What are the values of the given expressions?\n",
    "'Hello, world!'[1]\n",
    "\n",
    "'Hello, world!'[0:5]\n",
    "\n",
    "'Hello, world!'[:5]\n",
    "\n",
    "'Hello, world!'[3:]\n"
   ]
  },
  {
   "cell_type": "code",
   "execution_count": 34,
   "id": "a37fcde0",
   "metadata": {},
   "outputs": [
    {
     "data": {
      "text/plain": [
       "'e'"
      ]
     },
     "execution_count": 34,
     "metadata": {},
     "output_type": "execute_result"
    }
   ],
   "source": [
    "'Hello, world!'[1] # index element at first index 'e'"
   ]
  },
  {
   "cell_type": "code",
   "execution_count": 35,
   "id": "0976590e",
   "metadata": {},
   "outputs": [
    {
     "data": {
      "text/plain": [
       "'Hello'"
      ]
     },
     "execution_count": 35,
     "metadata": {},
     "output_type": "execute_result"
    }
   ],
   "source": [
    "'Hello, world!'[0:5] # index element from zeroth positon to 4th index 'Hello'"
   ]
  },
  {
   "cell_type": "code",
   "execution_count": 36,
   "id": "d8eacd30",
   "metadata": {},
   "outputs": [
    {
     "data": {
      "text/plain": [
       "'Hello'"
      ]
     },
     "execution_count": 36,
     "metadata": {},
     "output_type": "execute_result"
    }
   ],
   "source": [
    "'Hello, world!'[:5] # index element from zeroth positon to 4th index 'Hello' "
   ]
  },
  {
   "cell_type": "code",
   "execution_count": 37,
   "id": "fd9160a9",
   "metadata": {},
   "outputs": [
    {
     "data": {
      "text/plain": [
       "'lo, world!'"
      ]
     },
     "execution_count": 37,
     "metadata": {},
     "output_type": "execute_result"
    }
   ],
   "source": [
    "'Hello, world!'[3:] # element from third index to last index 'lo, world!'"
   ]
  },
  {
   "cell_type": "markdown",
   "id": "6c55399f",
   "metadata": {},
   "source": [
    "# 7. What are the values of the following expressions?\n",
    "'Hello'.upper()\n",
    "\n",
    "'Hello'.upper().isupper()\n",
    "\n",
    "'Hello'.upper().lower()\n"
   ]
  },
  {
   "cell_type": "code",
   "execution_count": 38,
   "id": "6c0413df",
   "metadata": {},
   "outputs": [
    {
     "data": {
      "text/plain": [
       "'HELLO'"
      ]
     },
     "execution_count": 38,
     "metadata": {},
     "output_type": "execute_result"
    }
   ],
   "source": [
    "'Hello'.upper() # whole string in upper letters"
   ]
  },
  {
   "cell_type": "code",
   "execution_count": 39,
   "id": "c0e4ae74",
   "metadata": {},
   "outputs": [
    {
     "data": {
      "text/plain": [
       "True"
      ]
     },
     "execution_count": 39,
     "metadata": {},
     "output_type": "execute_result"
    }
   ],
   "source": [
    "'Hello'.upper().isupper() # True"
   ]
  },
  {
   "cell_type": "code",
   "execution_count": 40,
   "id": "f16d065f",
   "metadata": {},
   "outputs": [
    {
     "data": {
      "text/plain": [
       "'hello'"
      ]
     },
     "execution_count": 40,
     "metadata": {},
     "output_type": "execute_result"
    }
   ],
   "source": [
    "'Hello'.upper().lower() #  # whole string in lower letters"
   ]
  },
  {
   "cell_type": "markdown",
   "id": "5485e426",
   "metadata": {},
   "source": [
    "# 8. What are the values of the following expressions?\n",
    "'Remember, remember, the fifth of July.'.split()\n",
    "\n",
    "'-'.join('There can only one.'.split())\n"
   ]
  },
  {
   "cell_type": "code",
   "execution_count": 47,
   "id": "12e2d9e7",
   "metadata": {},
   "outputs": [
    {
     "name": "stdout",
     "output_type": "stream",
     "text": [
      "<class 'list'>\n",
      "['Remember,', 'remember,', 'the', 'fifth', 'of', 'July.']\n"
     ]
    }
   ],
   "source": [
    "l = 'Remember, remember, the fifth of July.'.split() # string will get split by space charecter and will be stored as a list\n",
    "print (type(l))\n",
    "print (l)"
   ]
  },
  {
   "cell_type": "code",
   "execution_count": 48,
   "id": "9480fa23",
   "metadata": {},
   "outputs": [
    {
     "name": "stdout",
     "output_type": "stream",
     "text": [
      "<class 'str'>\n",
      "There-can-only-one.\n"
     ]
    }
   ],
   "source": [
    "l1 = '-'.join('There can only one.'.split()) # sentece will be joined by '-' character in the final output as string\n",
    "print(type(l1))\n",
    "print(l1)"
   ]
  },
  {
   "cell_type": "markdown",
   "id": "16039a2d",
   "metadata": {},
   "source": [
    "# 9. What are the methods for right-justifying, left-justifying, and centering a string?"
   ]
  },
  {
   "cell_type": "markdown",
   "id": "4ce2787a",
   "metadata": {},
   "source": [
    "str.ljust(s, width[, fillchar]) \n",
    "\n",
    "str.rjust(s, width[, fillchar])\n",
    "\n",
    "str.center(s, width[, fillchar])"
   ]
  },
  {
   "cell_type": "code",
   "execution_count": 56,
   "id": "2acd8f0b",
   "metadata": {},
   "outputs": [
    {
     "name": "stdout",
     "output_type": "stream",
     "text": [
      "The original string is : I love Ineuron \n",
      "\n",
      "The right justified string is : \n",
      "                          I love Ineuron \n",
      "\n",
      "The left justified string is : \n",
      "I love Ineuron                           \n",
      "\n",
      "The center aligned string is : \n",
      "             I love Ineuron              \n",
      "\n"
     ]
    }
   ],
   "source": [
    "e_str = \"I love Ineuron\"\n",
    "  \n",
    "# Printing the original string\n",
    "print (f\"The original string is : {e_str} \\n\")\n",
    "\n",
    "# Printing the right_justifying string \n",
    "print (\"The right justified string is : \")\n",
    "print (e_str.rjust(40), \"\\n\")\n",
    "\n",
    "# Printing the left justified string \n",
    "print (\"The left justified string is : \")\n",
    "print (e_str.ljust (40), \"\\n\")\n",
    "\n",
    "# Printing the center aligned string \n",
    "print (\"The center aligned string is : \")\n",
    "print (e_str.center(40), \"\\n\")\n"
   ]
  },
  {
   "cell_type": "markdown",
   "id": "42672d2d",
   "metadata": {},
   "source": [
    "# 10. What is the best way to remove whitespace characters from the start or end?"
   ]
  },
  {
   "cell_type": "code",
   "execution_count": 64,
   "id": "d9c0c05a",
   "metadata": {},
   "outputs": [
    {
     "data": {
      "text/plain": [
       "23"
      ]
     },
     "execution_count": 64,
     "metadata": {},
     "output_type": "execute_result"
    }
   ],
   "source": [
    "s= ' raja ram mohan rai    '\n",
    "len(s)"
   ]
  },
  {
   "cell_type": "code",
   "execution_count": 68,
   "id": "8f85391b",
   "metadata": {},
   "outputs": [
    {
     "name": "stdout",
     "output_type": "stream",
     "text": [
      "19\n",
      " raja ram mohan rai\n"
     ]
    }
   ],
   "source": [
    "t = s.rstrip() # removed whitespace from right side of th string\n",
    "print (len(t))\n",
    "print (t)"
   ]
  },
  {
   "cell_type": "code",
   "execution_count": 69,
   "id": "3c71983b",
   "metadata": {},
   "outputs": [
    {
     "name": "stdout",
     "output_type": "stream",
     "text": [
      "22\n",
      "raja ram mohan rai    \n"
     ]
    }
   ],
   "source": [
    "t = s.lstrip() # removed whitespace from left side of th string\n",
    "print (len(t))\n",
    "print (t)"
   ]
  },
  {
   "cell_type": "code",
   "execution_count": null,
   "id": "17fef20e",
   "metadata": {},
   "outputs": [],
   "source": []
  }
 ],
 "metadata": {
  "kernelspec": {
   "display_name": "Python 3 (ipykernel)",
   "language": "python",
   "name": "python3"
  },
  "language_info": {
   "codemirror_mode": {
    "name": "ipython",
    "version": 3
   },
   "file_extension": ".py",
   "mimetype": "text/x-python",
   "name": "python",
   "nbconvert_exporter": "python",
   "pygments_lexer": "ipython3",
   "version": "3.9.12"
  }
 },
 "nbformat": 4,
 "nbformat_minor": 5
}
