{
 "cells": [
  {
   "cell_type": "markdown",
   "id": "cbe198d9",
   "metadata": {},
   "source": [
    "# 1.\tWrite a Python program to find sum of elements in list?"
   ]
  },
  {
   "cell_type": "code",
   "execution_count": 5,
   "id": "b1008d69",
   "metadata": {},
   "outputs": [
    {
     "name": "stdout",
     "output_type": "stream",
     "text": [
      "enter the number: 20\n",
      "[1, 2, 3, 4, 5, 6, 7, 8, 9, 10, 11, 12, 13, 14, 15, 16, 17, 18, 19]\n",
      "190\n"
     ]
    }
   ],
   "source": [
    "def sum_list(l):\n",
    "    total=0\n",
    "    for i in l:\n",
    "        total= total+i\n",
    "    print (total)\n",
    "\n",
    "number= input('enter the number: ')\n",
    "l=[]\n",
    "for j in range(1,int(number)):\n",
    "    l.append(j)\n",
    "print(l)\n",
    "sum_list(l)"
   ]
  },
  {
   "cell_type": "markdown",
   "id": "43f16d89",
   "metadata": {},
   "source": [
    "# 2.\tWrite a Python program to  Multiply all numbers in the list?"
   ]
  },
  {
   "cell_type": "code",
   "execution_count": 9,
   "id": "7d5d6972",
   "metadata": {},
   "outputs": [
    {
     "name": "stdout",
     "output_type": "stream",
     "text": [
      "enter the number: 10\n",
      "[1, 2, 3, 4, 5, 6, 7, 8, 9]\n",
      "362880\n"
     ]
    }
   ],
   "source": [
    "def mul_list(l):\n",
    "    total=1\n",
    "    for i in l:\n",
    "        total= total*i\n",
    "    print (total)\n",
    "\n",
    "number= input('enter the number: ')\n",
    "l=[]\n",
    "for j in range(1,int(number)):\n",
    "    l.append(j)\n",
    "print(l)\n",
    "mul_list(l)"
   ]
  },
  {
   "cell_type": "markdown",
   "id": "8e55feec",
   "metadata": {},
   "source": [
    "# 3.\tWrite a Python program to find smallest number in a list?"
   ]
  },
  {
   "cell_type": "code",
   "execution_count": 17,
   "id": "66a49e86",
   "metadata": {},
   "outputs": [],
   "source": [
    "def find_smal(n):\n",
    "    l = []\n",
    "    for i in range(n):\n",
    "        l.append(int(input()))\n",
    "    print(\"The entered list is \",l)\n",
    "    print(\"The Smallest no. in the list is :\",min(l))\n",
    "    "
   ]
  },
  {
   "cell_type": "code",
   "execution_count": 18,
   "id": "96514a2c",
   "metadata": {},
   "outputs": [
    {
     "name": "stdout",
     "output_type": "stream",
     "text": [
      "6\n",
      "4\n",
      "89\n",
      "3\n",
      "7\n",
      "9\n",
      "The entered list is  [6, 4, 89, 3, 7, 9]\n",
      "The Smallest no. in the list is : 3\n"
     ]
    }
   ],
   "source": [
    "find_smal(6)"
   ]
  },
  {
   "cell_type": "markdown",
   "id": "cf7bd41a",
   "metadata": {},
   "source": [
    "# 4.\tWrite a Python program to find largest number in a list?"
   ]
  },
  {
   "cell_type": "code",
   "execution_count": 21,
   "id": "ad059a3e",
   "metadata": {},
   "outputs": [],
   "source": [
    "def find_larg(n):\n",
    "    l = []\n",
    "    for i in range(n):\n",
    "        l.append(int(input()))\n",
    "    print(\"The entered list is \",l)\n",
    "    print(\"The largest no. in the list is :\",max(l))"
   ]
  },
  {
   "cell_type": "code",
   "execution_count": 22,
   "id": "332242f5",
   "metadata": {},
   "outputs": [
    {
     "name": "stdout",
     "output_type": "stream",
     "text": [
      "67\n",
      "45\n",
      "34\n",
      "97\n",
      "56\n",
      "The entered list is  [67, 45, 34, 97, 56]\n",
      "The largest no. in the list is : 97\n"
     ]
    }
   ],
   "source": [
    "find_larg(5)"
   ]
  },
  {
   "cell_type": "markdown",
   "id": "1e4c285d",
   "metadata": {},
   "source": [
    "# 5.\tWrite a Python program to find second largest number in a list?"
   ]
  },
  {
   "cell_type": "code",
   "execution_count": 23,
   "id": "da80a5e6",
   "metadata": {},
   "outputs": [],
   "source": [
    "def sec_large(n):\n",
    "    \n",
    "    l = []\n",
    "\n",
    "    for i in range(n):\n",
    "        l.append(int(input()))\n",
    "    print(\"The entered list is \",l)\n",
    "    l.sort()\n",
    "    print(\"The sorted list is \",l)\n",
    "    print(\"The second largest number in the list is \",l[-2])"
   ]
  },
  {
   "cell_type": "code",
   "execution_count": 24,
   "id": "8f0eeabf",
   "metadata": {},
   "outputs": [
    {
     "name": "stdout",
     "output_type": "stream",
     "text": [
      "28\n",
      "54\n",
      "34\n",
      "98\n",
      "56\n",
      "The entered list is  [28, 54, 34, 98, 56]\n",
      "The sorted list is  [28, 34, 54, 56, 98]\n",
      "The second largest number in the list is  56\n"
     ]
    }
   ],
   "source": [
    "sec_large(5)"
   ]
  },
  {
   "cell_type": "markdown",
   "id": "6e3e61bd",
   "metadata": {},
   "source": [
    "# 6.\tWrite a Python program to find N largest elements from a list?"
   ]
  },
  {
   "cell_type": "code",
   "execution_count": 30,
   "id": "5b8acbda",
   "metadata": {},
   "outputs": [],
   "source": [
    "def nth_large(n):\n",
    "    l = []\n",
    "    for i in range(n):\n",
    "        l.append(int(input()))\n",
    "    print(\"The entered list is \",l)\n",
    "    l.sort()\n",
    "    print(\"The sorted list is \",l)\n",
    "    nth_num = int(input(\"Enter how many largest number you want from list:\"))\n",
    "\n",
    "    if n < nth_num :\n",
    "        print(\"enterted value is larger then the length of list\")\n",
    "    else:\n",
    "        print(nth_num,\"largest elements from the list are :\",l[(n-nth_num):])"
   ]
  },
  {
   "cell_type": "code",
   "execution_count": 31,
   "id": "0c4abbdf",
   "metadata": {},
   "outputs": [
    {
     "name": "stdout",
     "output_type": "stream",
     "text": [
      "67\n",
      "35\n",
      "43\n",
      "21\n",
      "67\n",
      "98\n",
      "07\n",
      "67\n",
      "56\n",
      "89\n",
      "The entered list is  [67, 35, 43, 21, 67, 98, 7, 67, 56, 89]\n",
      "The sorted list is  [7, 21, 35, 43, 56, 67, 67, 67, 89, 98]\n",
      "Enter how many largest number you want from list:5\n",
      "5 largest elements from the list are : [67, 67, 67, 89, 98]\n"
     ]
    }
   ],
   "source": [
    "nth_large(10)"
   ]
  },
  {
   "cell_type": "markdown",
   "id": "f8b22eef",
   "metadata": {},
   "source": [
    "# 7.\tWrite a Python program to print even numbers in a list?"
   ]
  },
  {
   "cell_type": "code",
   "execution_count": 45,
   "id": "bfea39b7",
   "metadata": {},
   "outputs": [],
   "source": [
    "def find_even(n):\n",
    "    l=[]\n",
    "    for i in range(n):\n",
    "        l.append(int(input()))\n",
    "    print(\"The entered list is \",l)\n",
    "    lst=[]\n",
    "    for j in l:\n",
    "        if j%2==0:\n",
    "            lst.append(j)\n",
    "    print(lst)"
   ]
  },
  {
   "cell_type": "code",
   "execution_count": 46,
   "id": "6b7eaf00",
   "metadata": {},
   "outputs": [
    {
     "name": "stdout",
     "output_type": "stream",
     "text": [
      "56\n",
      "89\n",
      "34\n",
      "90\n",
      "87\n",
      "The entered list is  [56, 89, 34, 90, 87]\n",
      "[56, 34, 90]\n"
     ]
    }
   ],
   "source": [
    "find_even(5)"
   ]
  },
  {
   "cell_type": "markdown",
   "id": "64806862",
   "metadata": {},
   "source": [
    "# 8.\tWrite a Python program to print odd numbers in a List?"
   ]
  },
  {
   "cell_type": "code",
   "execution_count": 47,
   "id": "97038364",
   "metadata": {},
   "outputs": [],
   "source": [
    "def find_odd(n):\n",
    "    l=[]\n",
    "    for i in range(n):\n",
    "        l.append(int(input()))\n",
    "    print(\"The entered list is \",l)\n",
    "    lst=[]\n",
    "    for j in l:\n",
    "        if j%2!=0:\n",
    "            lst.append(j)\n",
    "    print(lst)"
   ]
  },
  {
   "cell_type": "code",
   "execution_count": 48,
   "id": "8bfe357e",
   "metadata": {},
   "outputs": [
    {
     "name": "stdout",
     "output_type": "stream",
     "text": [
      "45\n",
      "67\n",
      "34\n",
      "88\n",
      "55\n",
      "The entered list is  [45, 67, 34, 88, 55]\n",
      "[45, 67, 55]\n"
     ]
    }
   ],
   "source": [
    "find_odd(5)"
   ]
  },
  {
   "cell_type": "markdown",
   "id": "c3ac97b8",
   "metadata": {},
   "source": [
    "# 9.\tWrite a Python program to Remove empty List from List?"
   ]
  },
  {
   "cell_type": "code",
   "execution_count": 49,
   "id": "23dc1de6",
   "metadata": {},
   "outputs": [],
   "source": [
    "def rem_empty(l):\n",
    "    lst=[]\n",
    "    for i in l:\n",
    "        if i!=[]:\n",
    "            lst.append(i)\n",
    "            \n",
    "    print(lst)\n",
    "l= [55,[],14,75,[],96,80,[],36]           "
   ]
  },
  {
   "cell_type": "code",
   "execution_count": 50,
   "id": "c82fe8d4",
   "metadata": {},
   "outputs": [
    {
     "name": "stdout",
     "output_type": "stream",
     "text": [
      "[55, 14, 75, 96, 80, 36]\n"
     ]
    }
   ],
   "source": [
    "rem_empty(l)"
   ]
  },
  {
   "cell_type": "markdown",
   "id": "13e87b00",
   "metadata": {},
   "source": [
    "# 10.\tWrite a Python program to Cloning or Copying a list?"
   ]
  },
  {
   "cell_type": "code",
   "execution_count": 56,
   "id": "b8bf7f83",
   "metadata": {},
   "outputs": [],
   "source": [
    "def clon_lis(n):\n",
    "    l = []\n",
    "\n",
    "    for i in range(n):\n",
    "        l.append(int(input()))\n",
    "    print(\"The List is \",l)\n",
    "\n",
    "    l_copy = l.copy()\n",
    "    print(\"the clone of the list l by copying list \",l_copy)"
   ]
  },
  {
   "cell_type": "code",
   "execution_count": 57,
   "id": "6bb51a75",
   "metadata": {},
   "outputs": [
    {
     "name": "stdout",
     "output_type": "stream",
     "text": [
      "56\n",
      "56\n",
      "45\n",
      "89\n",
      "70\n",
      "The List is  [56, 56, 45, 89, 70]\n",
      "the clone of the list l by copying list  [56, 56, 45, 89, 70]\n"
     ]
    }
   ],
   "source": [
    "clon_lis(5)"
   ]
  },
  {
   "cell_type": "markdown",
   "id": "1baf7cf0",
   "metadata": {},
   "source": [
    "# 11.\tWrite a Python program to Count occurrences of an element in a list?"
   ]
  },
  {
   "cell_type": "code",
   "execution_count": 58,
   "id": "e364949d",
   "metadata": {},
   "outputs": [],
   "source": [
    "def count_occur(n):\n",
    "    l = []\n",
    "\n",
    "    for i in range(n):\n",
    "        l.append(int(input()))\n",
    "    print(\"The List is \",l)\n",
    "    element= int(input(\"Enter the element to find its occurance : \"))\n",
    "    print(element,\"has occured {} times in the list \".format(l.count(element)))"
   ]
  },
  {
   "cell_type": "code",
   "execution_count": 59,
   "id": "0d259873",
   "metadata": {},
   "outputs": [
    {
     "name": "stdout",
     "output_type": "stream",
     "text": [
      "67\n",
      "67\n",
      "54\n",
      "89\n",
      "67\n",
      "34\n",
      "The List is  [67, 67, 54, 89, 67, 34]\n",
      "Enter the element to find its occurance : 67\n",
      "67 has occured 3 times in the list \n"
     ]
    }
   ],
   "source": [
    "count_occur(6)"
   ]
  },
  {
   "cell_type": "code",
   "execution_count": null,
   "id": "8b8dee7a",
   "metadata": {},
   "outputs": [],
   "source": []
  }
 ],
 "metadata": {
  "kernelspec": {
   "display_name": "Python 3 (ipykernel)",
   "language": "python",
   "name": "python3"
  },
  "language_info": {
   "codemirror_mode": {
    "name": "ipython",
    "version": 3
   },
   "file_extension": ".py",
   "mimetype": "text/x-python",
   "name": "python",
   "nbconvert_exporter": "python",
   "pygments_lexer": "ipython3",
   "version": "3.9.12"
  }
 },
 "nbformat": 4,
 "nbformat_minor": 5
}
