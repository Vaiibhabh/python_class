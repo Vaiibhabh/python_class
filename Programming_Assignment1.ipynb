{
 "cells": [
  {
   "cell_type": "markdown",
   "id": "2644894a",
   "metadata": {},
   "source": [
    "# 1.\tWrite a Python program to print \"Hello Python\"?"
   ]
  },
  {
   "cell_type": "code",
   "execution_count": 2,
   "id": "0b6b2ffd",
   "metadata": {},
   "outputs": [
    {
     "name": "stdout",
     "output_type": "stream",
     "text": [
      "\"Hello Python\"\n"
     ]
    }
   ],
   "source": [
    "# it can be done in many ways\n",
    "a= '\"Hello Python\"'\n",
    "print(a)"
   ]
  },
  {
   "cell_type": "markdown",
   "id": "3da91bd5",
   "metadata": {},
   "source": [
    "# 2. Write a Python program to do arithmetical operations addition and division?"
   ]
  },
  {
   "cell_type": "code",
   "execution_count": 4,
   "id": "4fb2144c",
   "metadata": {},
   "outputs": [],
   "source": [
    "def addition(a,b):\n",
    "    return a+b"
   ]
  },
  {
   "cell_type": "code",
   "execution_count": 5,
   "id": "6b665d19",
   "metadata": {},
   "outputs": [
    {
     "data": {
      "text/plain": [
       "7"
      ]
     },
     "execution_count": 5,
     "metadata": {},
     "output_type": "execute_result"
    }
   ],
   "source": [
    "addition(5,2)"
   ]
  },
  {
   "cell_type": "code",
   "execution_count": 7,
   "id": "0194b8b2",
   "metadata": {},
   "outputs": [
    {
     "name": "stdout",
     "output_type": "stream",
     "text": [
      "19\n"
     ]
    }
   ],
   "source": [
    "a= 9\n",
    "b= 10\n",
    "c= a+b\n",
    "print (c)"
   ]
  },
  {
   "cell_type": "code",
   "execution_count": 8,
   "id": "61bf3805",
   "metadata": {},
   "outputs": [],
   "source": [
    "def division(a,b):\n",
    "    return a/b"
   ]
  },
  {
   "cell_type": "code",
   "execution_count": 17,
   "id": "3d171be3",
   "metadata": {},
   "outputs": [
    {
     "data": {
      "text/plain": [
       "3.3333333333333335"
      ]
     },
     "execution_count": 17,
     "metadata": {},
     "output_type": "execute_result"
    }
   ],
   "source": [
    "division(10,3)"
   ]
  },
  {
   "cell_type": "code",
   "execution_count": 12,
   "id": "e7f3c5a7",
   "metadata": {},
   "outputs": [
    {
     "name": "stdout",
     "output_type": "stream",
     "text": [
      "4.29\n"
     ]
    }
   ],
   "source": [
    "a= 73 \n",
    "b= 17\n",
    "c = a/b\n",
    "print(round(c,2))"
   ]
  },
  {
   "cell_type": "markdown",
   "id": "d7dd8614",
   "metadata": {},
   "source": [
    "# 3. Write a Python program to find the area of a triangle?"
   ]
  },
  {
   "cell_type": "code",
   "execution_count": 18,
   "id": "98bb8dcc",
   "metadata": {},
   "outputs": [],
   "source": [
    "# Area of triangle is given by 0.5* base* height\n",
    "def area_triangle(a,b)->int:\n",
    "    return (0.5*a*b)"
   ]
  },
  {
   "cell_type": "code",
   "execution_count": 19,
   "id": "60bfce23",
   "metadata": {},
   "outputs": [
    {
     "data": {
      "text/plain": [
       "25.0"
      ]
     },
     "execution_count": 19,
     "metadata": {},
     "output_type": "execute_result"
    }
   ],
   "source": [
    "area_triangle(10,5)"
   ]
  },
  {
   "cell_type": "markdown",
   "id": "368f5c9d",
   "metadata": {},
   "source": [
    "# 4. Write a Python program to swap two variables?"
   ]
  },
  {
   "cell_type": "code",
   "execution_count": 20,
   "id": "04a556bc",
   "metadata": {},
   "outputs": [
    {
     "name": "stdout",
     "output_type": "stream",
     "text": [
      "Value of a: 60\n",
      "Value of b: 40\n"
     ]
    }
   ],
   "source": [
    "a = 40\n",
    "b = 60\n",
    "\n",
    "# we can use a third variable\n",
    "C = a\n",
    "a = b\n",
    "b = C\n",
    "\n",
    "print(f\"Value of a: {a}\")\n",
    "print(f\"Value of b: {b}\")\n"
   ]
  },
  {
   "cell_type": "markdown",
   "id": "7de5ed8f",
   "metadata": {},
   "source": [
    "# 5. Write a Python program to generate a random number?"
   ]
  },
  {
   "cell_type": "code",
   "execution_count": 21,
   "id": "df3a8812",
   "metadata": {},
   "outputs": [
    {
     "name": "stdout",
     "output_type": "stream",
     "text": [
      "0.9568963446769946\n"
     ]
    }
   ],
   "source": [
    "import random\n",
    "number = random.random()\n",
    "print(number)"
   ]
  },
  {
   "cell_type": "code",
   "execution_count": null,
   "id": "2fe1fc72",
   "metadata": {},
   "outputs": [],
   "source": []
  }
 ],
 "metadata": {
  "kernelspec": {
   "display_name": "Python 3 (ipykernel)",
   "language": "python",
   "name": "python3"
  },
  "language_info": {
   "codemirror_mode": {
    "name": "ipython",
    "version": 3
   },
   "file_extension": ".py",
   "mimetype": "text/x-python",
   "name": "python",
   "nbconvert_exporter": "python",
   "pygments_lexer": "ipython3",
   "version": "3.9.12"
  }
 },
 "nbformat": 4,
 "nbformat_minor": 5
}
