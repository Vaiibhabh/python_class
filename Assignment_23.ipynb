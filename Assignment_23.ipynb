{
 "cells": [
  {
   "cell_type": "markdown",
   "id": "a83e39f0",
   "metadata": {},
   "source": [
    "# 1. What is the result of the code, and why?\n",
    ">>> def func(a, b=6, c=8):\n",
    "\n",
    "print(a, b, c)\n",
    "\n",
    ">>> func(1, 2)"
   ]
  },
  {
   "cell_type": "code",
   "execution_count": 1,
   "id": "58d2cf7b",
   "metadata": {},
   "outputs": [],
   "source": [
    "def func(a, b=6, c=8):\n",
    "    '''This fucntion takes from 1 to 3 positional \n",
    "    arguments input and print those as Nonetype data output upon calling the function'''\n",
    "    print(a,b,c)"
   ]
  },
  {
   "cell_type": "code",
   "execution_count": 2,
   "id": "19bc8dd2",
   "metadata": {},
   "outputs": [
    {
     "name": "stdout",
     "output_type": "stream",
     "text": [
      "1 2 8\n"
     ]
    }
   ],
   "source": [
    "func(1,2) # here upon calling the unction we are giving a= 1 and b = 2 as argument and by default c value is = 6"
   ]
  },
  {
   "cell_type": "code",
   "execution_count": 3,
   "id": "9b559cf0",
   "metadata": {
    "scrolled": true
   },
   "outputs": [
    {
     "name": "stdout",
     "output_type": "stream",
     "text": [
      "1 6 8\n"
     ]
    },
    {
     "data": {
      "text/plain": [
       "NoneType"
      ]
     },
     "execution_count": 3,
     "metadata": {},
     "output_type": "execute_result"
    }
   ],
   "source": [
    "type(func(1))"
   ]
  },
  {
   "cell_type": "code",
   "execution_count": 4,
   "id": "0f4f598e",
   "metadata": {},
   "outputs": [
    {
     "name": "stdout",
     "output_type": "stream",
     "text": [
      "vaib raj 8\n"
     ]
    }
   ],
   "source": [
    "func('vaib', 'raj')"
   ]
  },
  {
   "cell_type": "markdown",
   "id": "afabc6a1",
   "metadata": {},
   "source": [
    "# 2. What is the result of this code, and why?\n",
    ">>> def func(a, b, c=5):\n",
    "\n",
    "print(a, b, c)\n",
    "\n",
    ">>> func(1, c=3, b=2)\n"
   ]
  },
  {
   "cell_type": "code",
   "execution_count": 6,
   "id": "88e0b760",
   "metadata": {},
   "outputs": [],
   "source": [
    "def func(a,b,c=5):\n",
    "    '''this function takes from 1 to 3 positional argument in order a, b and c by default as input and print\n",
    "    output a,b, and c upon calling as none data type output'''\n",
    "    print (a,b,c)\n",
    "    "
   ]
  },
  {
   "cell_type": "code",
   "execution_count": 7,
   "id": "9f1dd6ac",
   "metadata": {},
   "outputs": [
    {
     "name": "stdout",
     "output_type": "stream",
     "text": [
      "1 2 3\n"
     ]
    }
   ],
   "source": [
    "func(1, c= 3, b= 2) \n",
    "'''takes positiona argument a,b and c by defaut but here we have defined the positional argument mannually\n",
    " during calling of function'''"
   ]
  },
  {
   "cell_type": "code",
   "execution_count": 8,
   "id": "8785cc4c",
   "metadata": {},
   "outputs": [
    {
     "name": "stdout",
     "output_type": "stream",
     "text": [
      "1 vaibh 5\n"
     ]
    }
   ],
   "source": [
    "func(1,'vaibh')"
   ]
  },
  {
   "cell_type": "markdown",
   "id": "d30716b4",
   "metadata": {},
   "source": [
    "# 3. How about this code: what is its result, and why?\n",
    ">>> def func(a, *pargs):\n",
    "\n",
    "print(a, pargs)\n",
    "\n",
    ">>> func(1, 2, 3)\n"
   ]
  },
  {
   "cell_type": "code",
   "execution_count": 23,
   "id": "620461e9",
   "metadata": {},
   "outputs": [],
   "source": [
    "def func(a, *pargs):\n",
    "    \"\"\"this fucntion takes atleast 1 positional argument to print the output and *pargs gives us the flexiblity\n",
    "    to give as any as secondary input and prints them all \n",
    "    and also  * used to handle situations where the number of arguments is not fixed, \n",
    "    and also the name of the arguments is not important\n",
    "    * return postional argument in the form of tuple\"\"\"\n",
    "\n",
    "    print (a, pargs)"
   ]
  },
  {
   "cell_type": "code",
   "execution_count": 17,
   "id": "6ec6a2d1",
   "metadata": {},
   "outputs": [
    {
     "name": "stdout",
     "output_type": "stream",
     "text": [
      "1 (2, 3)\n"
     ]
    }
   ],
   "source": [
    "func(1,2,3) # here a= 1 nad under *pargs we are assigning two positional input 2 and 3"
   ]
  },
  {
   "cell_type": "code",
   "execution_count": 12,
   "id": "5f6d8430",
   "metadata": {},
   "outputs": [
    {
     "name": "stdout",
     "output_type": "stream",
     "text": [
      "1 (3, 5, 6, 7, 8, 9, 0, 1, 'vaibha')\n"
     ]
    }
   ],
   "source": [
    "func(1,3,5,6,7,8,9,0,1,'vaibha')"
   ]
  },
  {
   "cell_type": "code",
   "execution_count": 13,
   "id": "f6b49013",
   "metadata": {},
   "outputs": [
    {
     "name": "stdout",
     "output_type": "stream",
     "text": [
      "1 (3, 5, 6, 7, 8, 9, 0, 1, 'vaibha')\n"
     ]
    },
    {
     "data": {
      "text/plain": [
       "NoneType"
      ]
     },
     "execution_count": 13,
     "metadata": {},
     "output_type": "execute_result"
    }
   ],
   "source": [
    "type(func(1,3,5,6,7,8,9,0,1,'vaibha'))"
   ]
  },
  {
   "cell_type": "code",
   "execution_count": 14,
   "id": "8a12f318",
   "metadata": {},
   "outputs": [
    {
     "name": "stdout",
     "output_type": "stream",
     "text": [
      "1 ()\n"
     ]
    }
   ],
   "source": [
    "func(1)"
   ]
  },
  {
   "cell_type": "markdown",
   "id": "d6834a77",
   "metadata": {},
   "source": [
    "# 4. What does this code print, and why?\n",
    ">>> def func(a, **kargs):\n",
    "    \n",
    "print(a, kargs)\n",
    "\n",
    ">>> func(a=1, c=3, b=2)\n"
   ]
  },
  {
   "cell_type": "code",
   "execution_count": 19,
   "id": "935b6227",
   "metadata": {},
   "outputs": [],
   "source": [
    "def func(a, **kargs):\n",
    "    '''this function takes atleast one positional argument \n",
    "     and also  ** used to handle situations where the number of arguments is not fixed, \n",
    "    and also the name of the arguments is not important\n",
    "    ** return postional argument in the form of dictionary so input should be given as key and its value'''\n",
    "    print (a, kargs)"
   ]
  },
  {
   "cell_type": "code",
   "execution_count": 20,
   "id": "d143a8c2",
   "metadata": {},
   "outputs": [
    {
     "name": "stdout",
     "output_type": "stream",
     "text": [
      "1 {'c': 3, 'b': 2}\n"
     ]
    }
   ],
   "source": [
    "func(a=1, c=3, b=2) # c=3 amd b= 3 will return inside a dictionary with key: value"
   ]
  },
  {
   "cell_type": "code",
   "execution_count": 21,
   "id": "aef38bb4",
   "metadata": {},
   "outputs": [
    {
     "name": "stdout",
     "output_type": "stream",
     "text": [
      "1 {'c': 3, 'b': 2}\n"
     ]
    },
    {
     "data": {
      "text/plain": [
       "NoneType"
      ]
     },
     "execution_count": 21,
     "metadata": {},
     "output_type": "execute_result"
    }
   ],
   "source": [
    "type(func(a=1, c=3, b=2))"
   ]
  },
  {
   "cell_type": "markdown",
   "id": "ee078feb",
   "metadata": {},
   "source": [
    "# 5. What gets printed by this, and explain?\n",
    ">>> def func(a, b, c=8, d=5): \n",
    "\n",
    "print(a, b, c, d)\n",
    "\n",
    ">>> func(1, *(5, 6))\n",
    "\n"
   ]
  },
  {
   "cell_type": "code",
   "execution_count": 24,
   "id": "e507d2fe",
   "metadata": {},
   "outputs": [],
   "source": [
    "def func(a,b,c=8, d= 5):\n",
    "    '''this fucntion takes from 2 to 4 positional arguments as input and print them'''\n",
    "    print (a,b,c,d)"
   ]
  },
  {
   "cell_type": "code",
   "execution_count": 25,
   "id": "60ec1fa3",
   "metadata": {},
   "outputs": [
    {
     "name": "stdout",
     "output_type": "stream",
     "text": [
      "1 5 6 5\n"
     ]
    }
   ],
   "source": [
    "'''by putting * we have the flexibility to not define the name of positional argument and we can give \n",
    "remaining postion argument'''\n",
    "func(1,*(5,6))"
   ]
  },
  {
   "cell_type": "markdown",
   "id": "9519ae37",
   "metadata": {},
   "source": [
    "#  6. what is the result of this, and explain?\n",
    ">>> def func(a, b, c): a = 2; b[0] = 'x'; c['a'] = 'y'\n",
    "\n",
    ">>> l=1; m=[1]; n={'a':0}\n",
    "\n",
    ">>> func(l, m, n)\n"
   ]
  },
  {
   "cell_type": "code",
   "execution_count": 44,
   "id": "2392de17",
   "metadata": {},
   "outputs": [],
   "source": [
    "def func(a,b,c): \n",
    "    '''this function takes three positional argument as a,b and c and it should be assigned in the given format below\n",
    "    fisrt anything, 2nd list data type, 3rd dictonary data type'''\n",
    "    a = 2; b[0]= 'x'; c['a']= 'y' "
   ]
  },
  {
   "cell_type": "markdown",
   "id": "cff73281",
   "metadata": {},
   "source": [
    "a = 2; b[0]= 'x'; c['a']= 'y' # here we are saying that once the functiion is called then out put should change by changing the fisrt positional argument value with 2, 2nd positional argument slicing operation is done in the list, 3rd positional argument key value is changed  "
   ]
  },
  {
   "cell_type": "code",
   "execution_count": 33,
   "id": "c8882627",
   "metadata": {},
   "outputs": [],
   "source": [
    "l=1; m=[1]; n={'a':0} # here l =1 over writes value once given in the functional positional argument"
   ]
  },
  {
   "cell_type": "code",
   "execution_count": 34,
   "id": "a7abcce0",
   "metadata": {},
   "outputs": [],
   "source": [
    "func(l,m,n)"
   ]
  },
  {
   "cell_type": "code",
   "execution_count": 35,
   "id": "5215c7a9",
   "metadata": {},
   "outputs": [
    {
     "name": "stdout",
     "output_type": "stream",
     "text": [
      "1 ['x'] {'a': 'y'}\n"
     ]
    }
   ],
   "source": [
    "print (l, m,n)"
   ]
  },
  {
   "cell_type": "code",
   "execution_count": 47,
   "id": "3f43579f",
   "metadata": {},
   "outputs": [],
   "source": [
    "func(2,[3] ,{'z':9})"
   ]
  }
 ],
 "metadata": {
  "kernelspec": {
   "display_name": "Python 3 (ipykernel)",
   "language": "python",
   "name": "python3"
  },
  "language_info": {
   "codemirror_mode": {
    "name": "ipython",
    "version": 3
   },
   "file_extension": ".py",
   "mimetype": "text/x-python",
   "name": "python",
   "nbconvert_exporter": "python",
   "pygments_lexer": "ipython3",
   "version": "3.9.12"
  }
 },
 "nbformat": 4,
 "nbformat_minor": 5
}
