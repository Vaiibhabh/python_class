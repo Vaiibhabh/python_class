{
 "cells": [
  {
   "cell_type": "markdown",
   "id": "7dcf0c48",
   "metadata": {},
   "source": [
    "# 1. What does an empty dictionary's code look like?"
   ]
  },
  {
   "cell_type": "code",
   "execution_count": 3,
   "id": "54d64be9",
   "metadata": {},
   "outputs": [
    {
     "data": {
      "text/plain": [
       "dict"
      ]
     },
     "execution_count": 3,
     "metadata": {},
     "output_type": "execute_result"
    }
   ],
   "source": [
    "d = { } # It should have a space between the curly braces to make it dictionary data type\n",
    "type(d)"
   ]
  },
  {
   "cell_type": "markdown",
   "id": "1a5160ce",
   "metadata": {},
   "source": [
    "# 2. What is the value of a dictionary value with the key 'foo' and the value 42?"
   ]
  },
  {
   "cell_type": "code",
   "execution_count": 4,
   "id": "e7987820",
   "metadata": {},
   "outputs": [],
   "source": [
    "d1 = {'foo' : 42}"
   ]
  },
  {
   "cell_type": "code",
   "execution_count": 7,
   "id": "8e3e82b9",
   "metadata": {},
   "outputs": [
    {
     "data": {
      "text/plain": [
       "dict_values([42])"
      ]
     },
     "execution_count": 7,
     "metadata": {},
     "output_type": "execute_result"
    }
   ],
   "source": [
    "d1.values()"
   ]
  },
  {
   "cell_type": "markdown",
   "id": "a563af45",
   "metadata": {},
   "source": [
    "# 3. What is the most significant distinction between a dictionary and a list?"
   ]
  },
  {
   "cell_type": "markdown",
   "id": "2dd8df90",
   "metadata": {},
   "source": [
    "List:  list is an ordered sequence of objects\n",
    "\n",
    "Dictionary : dictionaries are unordered sets of objects"
   ]
  },
  {
   "cell_type": "markdown",
   "id": "f256e804",
   "metadata": {},
   "source": [
    "# 4. What happens if you try to access spam['foo'] if spam is {'bar': 100}?"
   ]
  },
  {
   "cell_type": "code",
   "execution_count": 8,
   "id": "cd628915",
   "metadata": {},
   "outputs": [],
   "source": [
    "spam = {'foo': 100}"
   ]
  },
  {
   "cell_type": "code",
   "execution_count": 9,
   "id": "cb615045",
   "metadata": {},
   "outputs": [
    {
     "data": {
      "text/plain": [
       "100"
      ]
     },
     "execution_count": 9,
     "metadata": {},
     "output_type": "execute_result"
    }
   ],
   "source": [
    "spam['foo'] # here we are calling the value assign to 'foo' key, which will be int datatype"
   ]
  },
  {
   "cell_type": "code",
   "execution_count": 10,
   "id": "01826706",
   "metadata": {},
   "outputs": [
    {
     "data": {
      "text/plain": [
       "int"
      ]
     },
     "execution_count": 10,
     "metadata": {},
     "output_type": "execute_result"
    }
   ],
   "source": [
    "type(spam['foo'])"
   ]
  },
  {
   "cell_type": "markdown",
   "id": "d6b09511",
   "metadata": {},
   "source": [
    "# 5. If a dictionary is stored in spam, what is the difference between the expressions 'cat' in spam and 'cat' in spam.keys()?"
   ]
  },
  {
   "cell_type": "markdown",
   "id": "ed3afd45",
   "metadata": {},
   "source": [
    "There is no differentiation between the two. The in operator determines whether or not a value already exists in the dictionary as a key by checking for its presence."
   ]
  },
  {
   "cell_type": "code",
   "execution_count": 23,
   "id": "85a4272f",
   "metadata": {},
   "outputs": [],
   "source": [
    "spam = {'cat': 29, 'love': 'zero', 'animal': 'cat'}"
   ]
  },
  {
   "cell_type": "code",
   "execution_count": 29,
   "id": "77e957f2",
   "metadata": {},
   "outputs": [
    {
     "data": {
      "text/plain": [
       "29"
      ]
     },
     "execution_count": 29,
     "metadata": {},
     "output_type": "execute_result"
    }
   ],
   "source": [
    "spam['cat']"
   ]
  },
  {
   "cell_type": "code",
   "execution_count": 30,
   "id": "83b2dd6a",
   "metadata": {},
   "outputs": [
    {
     "data": {
      "text/plain": [
       "dict_keys(['cat', 'love', 'animal'])"
      ]
     },
     "execution_count": 30,
     "metadata": {},
     "output_type": "execute_result"
    }
   ],
   "source": [
    "spam.keys()"
   ]
  },
  {
   "cell_type": "markdown",
   "id": "dd5eb571",
   "metadata": {},
   "source": [
    "# 6. If a dictionary is stored in spam, what is the difference between the expressions 'cat' in spam and 'cat' in spam.values()?"
   ]
  },
  {
   "cell_type": "markdown",
   "id": "df346fc6",
   "metadata": {},
   "source": [
    "'cat' in spam checks whether there is a 'cat' key in the dictionary, while 'cat' in spam.values() checks whether there is a value 'cat' for one of the keys in spam."
   ]
  },
  {
   "cell_type": "code",
   "execution_count": 26,
   "id": "6e9f8a9e",
   "metadata": {},
   "outputs": [],
   "source": [
    "spam = {'cat': 29, 'love': 'zero', 'animal': 'cat'}"
   ]
  },
  {
   "cell_type": "code",
   "execution_count": 27,
   "id": "ff6edf67",
   "metadata": {},
   "outputs": [
    {
     "data": {
      "text/plain": [
       "dict_values([29, 'zero', 'cat'])"
      ]
     },
     "execution_count": 27,
     "metadata": {},
     "output_type": "execute_result"
    }
   ],
   "source": [
    "spam.values()"
   ]
  },
  {
   "cell_type": "markdown",
   "id": "0178a39e",
   "metadata": {},
   "source": [
    "# 7. What is a shortcut for the following code?\n",
    "if 'color' not in spam:\n",
    "\n",
    "spam['color'] = 'black'\n"
   ]
  },
  {
   "cell_type": "code",
   "execution_count": 31,
   "id": "4400ee4d",
   "metadata": {},
   "outputs": [],
   "source": [
    "spam = {'cat': 29, 'love': 'zero', 'animal': 'cat'}"
   ]
  },
  {
   "cell_type": "code",
   "execution_count": 32,
   "id": "6322c7a9",
   "metadata": {},
   "outputs": [
    {
     "data": {
      "text/plain": [
       "'black'"
      ]
     },
     "execution_count": 32,
     "metadata": {},
     "output_type": "execute_result"
    }
   ],
   "source": [
    "spam.setdefault('color', 'black')"
   ]
  },
  {
   "cell_type": "code",
   "execution_count": 34,
   "id": "f0c4f0ee",
   "metadata": {},
   "outputs": [
    {
     "data": {
      "text/plain": [
       "dict_items([('cat', 29), ('love', 'zero'), ('animal', 'cat'), ('color', 'black')])"
      ]
     },
     "execution_count": 34,
     "metadata": {},
     "output_type": "execute_result"
    }
   ],
   "source": [
    "spam.items()"
   ]
  },
  {
   "cell_type": "markdown",
   "id": "8d9e8301",
   "metadata": {},
   "source": [
    "# 8. How do you \"pretty print\" dictionary values using which module and function?"
   ]
  },
  {
   "cell_type": "code",
   "execution_count": 44,
   "id": "4e887f64",
   "metadata": {},
   "outputs": [
    {
     "name": "stdout",
     "output_type": "stream",
     "text": [
      "{'animal': 'cat', 'cat': 29, 'love': 'zero'}\n"
     ]
    }
   ],
   "source": [
    "import pprint\n",
    "spam = {'cat': 29, 'love': 'zero', 'animal': 'cat'}\n",
    "pp = pprint.PrettyPrinter(indent = 1)\n",
    "pp.pprint(spam)"
   ]
  }
 ],
 "metadata": {
  "kernelspec": {
   "display_name": "Python 3 (ipykernel)",
   "language": "python",
   "name": "python3"
  },
  "language_info": {
   "codemirror_mode": {
    "name": "ipython",
    "version": 3
   },
   "file_extension": ".py",
   "mimetype": "text/x-python",
   "name": "python",
   "nbconvert_exporter": "python",
   "pygments_lexer": "ipython3",
   "version": "3.9.12"
  }
 },
 "nbformat": 4,
 "nbformat_minor": 5
}
