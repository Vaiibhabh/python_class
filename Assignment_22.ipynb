{
 "cells": [
  {
   "cell_type": "code",
   "execution_count": null,
   "id": "c06e292f",
   "metadata": {},
   "outputs": [],
   "source": [
    "1. What is the result of the code, and explain?\n",
    "\n",
    ">>> X = 'iNeuron'\n",
    "\n",
    ">>> def func():\n",
    "\n",
    "print(X)\n",
    "\n",
    ">>> func()"
   ]
  },
  {
   "cell_type": "markdown",
   "id": "f2e00517",
   "metadata": {},
   "source": [
    "Ans. Calling the func() will call the function and output will be pritend as X variable string value, i.e, 'iNeuron'"
   ]
  },
  {
   "cell_type": "code",
   "execution_count": 3,
   "id": "6f2afa24",
   "metadata": {},
   "outputs": [],
   "source": [
    "X= 'iNeuron'\n",
    "def func():\n",
    "    print(X)"
   ]
  },
  {
   "cell_type": "code",
   "execution_count": 4,
   "id": "69b4e1f0",
   "metadata": {},
   "outputs": [
    {
     "name": "stdout",
     "output_type": "stream",
     "text": [
      "iNeuron\n"
     ]
    }
   ],
   "source": [
    "func()"
   ]
  },
  {
   "cell_type": "code",
   "execution_count": null,
   "id": "894456e7",
   "metadata": {},
   "outputs": [],
   "source": [
    "2. What does this code print, and why?\n",
    "\n",
    ">>> X = 'iNeuron'\n",
    ">>> def func():\n",
    "X = 'NI'\n",
    "\n",
    "\n",
    ">>> func()\n",
    ">>> print(X)\n"
   ]
  },
  {
   "cell_type": "markdown",
   "id": "a060d21a",
   "metadata": {},
   "source": [
    "Ans. Calling function will not print or return any value, as mo print statemnet is given within the fucntion. \n",
    "print X will give 'iNeuron' as code will not run through the fucntion."
   ]
  },
  {
   "cell_type": "code",
   "execution_count": 8,
   "id": "5202e703",
   "metadata": {},
   "outputs": [],
   "source": [
    "X= 'iNeuron'\n",
    "def func():\n",
    "    X= 'NI!'\n",
    "    "
   ]
  },
  {
   "cell_type": "code",
   "execution_count": 9,
   "id": "b18af9d4",
   "metadata": {},
   "outputs": [],
   "source": [
    "func()"
   ]
  },
  {
   "cell_type": "code",
   "execution_count": 10,
   "id": "d71d03fd",
   "metadata": {},
   "outputs": [
    {
     "name": "stdout",
     "output_type": "stream",
     "text": [
      "iNeuron\n"
     ]
    }
   ],
   "source": [
    "print(X)"
   ]
  },
  {
   "cell_type": "code",
   "execution_count": null,
   "id": "a4d4cea2",
   "metadata": {},
   "outputs": [],
   "source": [
    "3. What is the result of the code, and explain?\n",
    ">>> X = 'iNeuron'\n",
    ">>> def func():\n",
    "X = 'NI!'\n",
    ">>> func()\n",
    ">>> print(X)\n"
   ]
  },
  {
   "cell_type": "markdown",
   "id": "c16c3375",
   "metadata": {},
   "source": [
    "Ans. Calling the function will print the updated value of X,i.e, 'NI!' and print X will print 'iNeuron', because value doe not get updated if we just print the variable X without calling the function."
   ]
  },
  {
   "cell_type": "code",
   "execution_count": 5,
   "id": "2db4ebdd",
   "metadata": {},
   "outputs": [],
   "source": [
    "X= 'iNeuron'\n",
    "def func():\n",
    "    X= 'NI!'\n",
    "    print(X)"
   ]
  },
  {
   "cell_type": "code",
   "execution_count": 6,
   "id": "cd440959",
   "metadata": {},
   "outputs": [
    {
     "name": "stdout",
     "output_type": "stream",
     "text": [
      "NI!\n"
     ]
    }
   ],
   "source": [
    "func()"
   ]
  },
  {
   "cell_type": "code",
   "execution_count": 7,
   "id": "7c42c5fc",
   "metadata": {},
   "outputs": [
    {
     "name": "stdout",
     "output_type": "stream",
     "text": [
      "iNeuron\n"
     ]
    }
   ],
   "source": [
    "print(X)"
   ]
  },
  {
   "cell_type": "code",
   "execution_count": null,
   "id": "dfd43a9f",
   "metadata": {},
   "outputs": [],
   "source": [
    "4. What output does this code produce? Why?\n",
    "\n",
    ">>> X = 'iNeuron'\n",
    ">>> def func():\n",
    "global X\n",
    "X = 'NI'\n",
    "\n",
    "\n",
    ">>> func()\n",
    ">>> print(X)\n"
   ]
  },
  {
   "cell_type": "markdown",
   "id": "8fe7afc2",
   "metadata": {},
   "source": [
    "Ans. Calling function will uodate the value of X on all level but will not print anaything.\n",
    "And as we print X it will return updated value of X that is 'NI!'"
   ]
  },
  {
   "cell_type": "code",
   "execution_count": 11,
   "id": "1cf7bbf1",
   "metadata": {},
   "outputs": [],
   "source": [
    "X= 'iNeuron'\n",
    "def func():\n",
    "    global X\n",
    "    X= 'NI!'"
   ]
  },
  {
   "cell_type": "code",
   "execution_count": 12,
   "id": "95612700",
   "metadata": {},
   "outputs": [],
   "source": [
    "func()"
   ]
  },
  {
   "cell_type": "code",
   "execution_count": 13,
   "id": "ef988728",
   "metadata": {},
   "outputs": [
    {
     "name": "stdout",
     "output_type": "stream",
     "text": [
      "NI!\n"
     ]
    }
   ],
   "source": [
    "print(X)"
   ]
  },
  {
   "cell_type": "code",
   "execution_count": null,
   "id": "a9924f23",
   "metadata": {},
   "outputs": [],
   "source": [
    "5. What about this code—what’s the output, and why?\n",
    ">>> X = 'iNeuron'\n",
    ">>> def func():\n",
    "X = 'NI'\n",
    "def nested():\n",
    "print(X)\n",
    "nested()\n",
    ">>> func()\n",
    ">>> X\n"
   ]
  },
  {
   "cell_type": "markdown",
   "id": "995d7b00",
   "metadata": {},
   "source": [
    "Ans.  calling fuction will print 'NI!' as the whole script will run including nested function, X will print 'iNeuron' as there is no global change in the X variable."
   ]
  },
  {
   "cell_type": "code",
   "execution_count": 8,
   "id": "d3a95a92",
   "metadata": {},
   "outputs": [],
   "source": [
    "X= 'iNeuron'\n",
    "def func():\n",
    "    X= 'NI!'\n",
    "    def nested():\n",
    "        print(X)\n",
    "    nested()"
   ]
  },
  {
   "cell_type": "code",
   "execution_count": 9,
   "id": "2b3d3f12",
   "metadata": {},
   "outputs": [
    {
     "name": "stdout",
     "output_type": "stream",
     "text": [
      "NI!\n"
     ]
    }
   ],
   "source": [
    "func()"
   ]
  },
  {
   "cell_type": "code",
   "execution_count": 7,
   "id": "8a65de05",
   "metadata": {},
   "outputs": [
    {
     "data": {
      "text/plain": [
       "'iNeuron'"
      ]
     },
     "execution_count": 7,
     "metadata": {},
     "output_type": "execute_result"
    }
   ],
   "source": [
    "X"
   ]
  },
  {
   "cell_type": "code",
   "execution_count": null,
   "id": "bcb9eacc",
   "metadata": {},
   "outputs": [],
   "source": [
    "6. How about this code: what is its output in Python 3, and explain?\n",
    "\n",
    ">>> def func():\n",
    "X = 'NI'\n",
    "def nested():\n",
    "nonlocal X\n",
    "X = 'Spam'\n",
    "nested()\n",
    "print(X)\n",
    "\n",
    ">>> func()\n"
   ]
  },
  {
   "cell_type": "markdown",
   "id": "1c392c3f",
   "metadata": {},
   "source": [
    "Ans. The nonlocal keyword is used to work with variables inside nested functions, where the variable should not belong to the inner function.Use the keyword nonlocal to declare that the variable is not local."
   ]
  },
  {
   "cell_type": "code",
   "execution_count": 10,
   "id": "d28754c7",
   "metadata": {},
   "outputs": [],
   "source": [
    "def func():\n",
    "    X = 'NI'\n",
    "    def nested():\n",
    "        nonlocal X\n",
    "        X = 'Spam'\n",
    "        nested()\n",
    "        "
   ]
  },
  {
   "cell_type": "code",
   "execution_count": 11,
   "id": "2e5bb315",
   "metadata": {},
   "outputs": [],
   "source": [
    "func()"
   ]
  },
  {
   "cell_type": "code",
   "execution_count": 12,
   "id": "a7bb3519",
   "metadata": {},
   "outputs": [
    {
     "name": "stdout",
     "output_type": "stream",
     "text": [
      "iNeuron\n"
     ]
    }
   ],
   "source": [
    "print(X)"
   ]
  },
  {
   "cell_type": "code",
   "execution_count": null,
   "id": "47c57f62",
   "metadata": {},
   "outputs": [],
   "source": []
  }
 ],
 "metadata": {
  "kernelspec": {
   "display_name": "Python 3 (ipykernel)",
   "language": "python",
   "name": "python3"
  },
  "language_info": {
   "codemirror_mode": {
    "name": "ipython",
    "version": 3
   },
   "file_extension": ".py",
   "mimetype": "text/x-python",
   "name": "python",
   "nbconvert_exporter": "python",
   "pygments_lexer": "ipython3",
   "version": "3.9.12"
  }
 },
 "nbformat": 4,
 "nbformat_minor": 5
}
