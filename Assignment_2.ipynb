{
 "cells": [
  {
   "cell_type": "markdown",
   "id": "02ef413c",
   "metadata": {},
   "source": [
    "# 1.What are the two values of the Boolean data type? How do you write them?\n",
    "Answers: Boolean data types has two values : True or False, which can be also interepreted from integer values True = 0 and False = 1. example is given below:"
   ]
  },
  {
   "cell_type": "code",
   "execution_count": 1,
   "id": "72d27163",
   "metadata": {},
   "outputs": [
    {
     "data": {
      "text/plain": [
       "False"
      ]
     },
     "execution_count": 1,
     "metadata": {},
     "output_type": "execute_result"
    }
   ],
   "source": [
    "1 == 0 # we write them through some logical operators"
   ]
  },
  {
   "cell_type": "code",
   "execution_count": 2,
   "id": "f3762a9b",
   "metadata": {},
   "outputs": [
    {
     "data": {
      "text/plain": [
       "True"
      ]
     },
     "execution_count": 2,
     "metadata": {},
     "output_type": "execute_result"
    }
   ],
   "source": [
    "5 != 6 # we write them through some logical operators"
   ]
  },
  {
   "cell_type": "markdown",
   "id": "29cfc87b",
   "metadata": {},
   "source": [
    "# 2. What are the three different types of Boolean operators?\n",
    "Answer: The three basic boolean operators are: AND, OR, and NOT"
   ]
  },
  {
   "cell_type": "markdown",
   "id": "aac90e2a",
   "metadata": {},
   "source": [
    "# 3. Make a list of each Boolean operator's truth tables (i.e. every possible combination of Boolean values for the operator and what it evaluate ).\n",
    "Answer: it is given below"
   ]
  },
  {
   "cell_type": "markdown",
   "id": "9e58ee15",
   "metadata": {},
   "source": [
    "\n",
    "Boolean|Boolean| Operator| output\n",
    "-|-|-|-\n",
    "True|True|AND|True\n",
    "True|False|AND|False\n",
    "False|True|AND|False\n",
    "False|False|AND|False\n",
    "True|True|OR|True\n",
    "True|False|OR|True\n",
    "False|True|OR|True\n",
    "False|False|OR|False\n",
    "True| |NOT|False\n",
    "False||NOT|True\n",
    "\n",
    "\n"
   ]
  },
  {
   "cell_type": "markdown",
   "id": "7a765f5e",
   "metadata": {},
   "source": [
    "# 4. What are the values of the following expressions?\n",
    "(5 > 4) and (3 == 5)\n",
    "not (5 > 4)\n",
    "(5 > 4) or (3 == 5)\n",
    "not ((5 > 4) or (3 == 5))\n",
    "(True and True) and (True == False)\n",
    "(not False) or (not True)\n"
   ]
  },
  {
   "cell_type": "markdown",
   "id": "a10e1f6f",
   "metadata": {},
   "source": [
    "values| output\n",
    "-|-\n",
    "(5 > 4) and (3 == 5)|False\n",
    "not (5 > 4)| False\n",
    "(5 > 4) or (3 == 5)| True\n",
    "not ((5 > 4) or (3 == 5))| False\n",
    "(True and True) and (True == False)| False\n",
    "(not False) or (not True) | True"
   ]
  },
  {
   "cell_type": "markdown",
   "id": "3dff7789",
   "metadata": {},
   "source": [
    "# 5. What are the six comparison operators?\n",
    "Answer:"
   ]
  },
  {
   "cell_type": "markdown",
   "id": "7d0b4db1",
   "metadata": {},
   "source": [
    "comparsion operator symbol| meaning\n",
    "-|-\n",
    "a == b | a is equal to b\n",
    "a != b| a is not equal to b\n",
    "a > b| a is greater than b\n",
    "a < b | a is less than b\n",
    "a >= b| a is greater than or equal to b\n",
    "a <= b | a is less than or equal to b"
   ]
  },
  {
   "cell_type": "markdown",
   "id": "230e02d1",
   "metadata": {},
   "source": [
    "# 6. How do you tell the difference between the equal to and assignment operators?Describe a condition and when you would use one.\n",
    "Answer:The difference between = (Assignment) and == (Equal to) operators. The  assignment '=' operator is used to assign the value to the variable, where varibale is placed at left side and assigned value is placed on the right side of assignment variable. The equal to '==' operator does the logical operation to check whether thee two values are equal or not, if found equal it return 'True' else 'False'.example is give below:\n"
   ]
  },
  {
   "cell_type": "code",
   "execution_count": 3,
   "id": "7d2337be",
   "metadata": {},
   "outputs": [
    {
     "name": "stdout",
     "output_type": "stream",
     "text": [
      "True\n"
     ]
    }
   ],
   "source": [
    "number = 10 #assignemnet operator\n",
    "a= 2\n",
    "b= 2\n",
    "print (a==b) # equal to operator"
   ]
  },
  {
   "cell_type": "code",
   "execution_count": 4,
   "id": "9584b207",
   "metadata": {},
   "outputs": [
    {
     "name": "stdout",
     "output_type": "stream",
     "text": [
      "False\n"
     ]
    }
   ],
   "source": [
    "number = 10 #assignemnet operator\n",
    "a= 2\n",
    "b= 6\n",
    "print (a==b) # equal to operator"
   ]
  },
  {
   "cell_type": "markdown",
   "id": "794d2335",
   "metadata": {},
   "source": [
    "# 7. Identify the three blocks in this code:\n",
    "Answer: "
   ]
  },
  {
   "cell_type": "code",
   "execution_count": 5,
   "id": "99dbc77f",
   "metadata": {},
   "outputs": [
    {
     "name": "stdout",
     "output_type": "stream",
     "text": [
      "ham\n",
      "spam\n",
      "spam\n"
     ]
    }
   ],
   "source": [
    "spam = 0\n",
    "if spam == 10:  # first block \n",
    "    print('eggs')\n",
    "if spam > 5:    # second block\n",
    "    print('bacon')\n",
    "else:           # Third block\n",
    "    print('ham')\n",
    "    print('spam')\n",
    "    print('spam')"
   ]
  },
  {
   "cell_type": "markdown",
   "id": "11425bf7",
   "metadata": {},
   "source": [
    "# 8. Write code that prints Hello if 1 is stored in spam, prints Howdy if 2 is stored in spam, and prints Greetings! if anything else is stored in spam."
   ]
  },
  {
   "cell_type": "code",
   "execution_count": 6,
   "id": "e09d8427",
   "metadata": {},
   "outputs": [
    {
     "name": "stdout",
     "output_type": "stream",
     "text": [
      "Greetings!\n"
     ]
    }
   ],
   "source": [
    "spam = 0\n",
    "if spam == 1:  # first block \n",
    "    print('hello')\n",
    "if spam == 2:    # second block\n",
    "    print('Howdy')\n",
    "else:           # Third block\n",
    "    print('Greetings!')"
   ]
  },
  {
   "cell_type": "code",
   "execution_count": 7,
   "id": "eb0f9730",
   "metadata": {},
   "outputs": [
    {
     "name": "stdout",
     "output_type": "stream",
     "text": [
      "hello\n",
      "Greetings!\n"
     ]
    }
   ],
   "source": [
    "spam = 1\n",
    "if spam == 1:  # first block \n",
    "    print('hello')\n",
    "if spam == 2:    # second block\n",
    "    print('Howdy')\n",
    "else:           # Third block\n",
    "    print('Greetings!')"
   ]
  },
  {
   "cell_type": "markdown",
   "id": "d5dc6630",
   "metadata": {},
   "source": [
    "# 9.If your programme is stuck in an endless loop, what keys you’ll press?\n",
    "Answer- CTRL+ C are the keys to be pressed to come out of an infinite loop."
   ]
  },
  {
   "cell_type": "markdown",
   "id": "6b58a182",
   "metadata": {},
   "source": [
    "# 10. How can you tell the difference between break and continue?\n",
    "Answer: Break: During a iteration if the condition or keyword of the braek is satisied, the iteration stops or come out of the loop.\n",
    "Continue: During an iteration if the condition or keyword is satisfied, the current iteration is skipped or performed the given succession task with continuing the next iteration step within the loop."
   ]
  },
  {
   "cell_type": "markdown",
   "id": "38d3f2f4",
   "metadata": {},
   "source": [
    "# 11. In a for loop, what is the difference between range(10), range(0, 10), and range(0, 10, 1)?\n",
    "Answer: In the given question among all cases, the loop  will be running equally, but we can control the different parametrs of the loop and it is described below: "
   ]
  },
  {
   "cell_type": "code",
   "execution_count": 8,
   "id": "a54249f7",
   "metadata": {},
   "outputs": [
    {
     "name": "stdout",
     "output_type": "stream",
     "text": [
      "0\n",
      "1\n",
      "2\n",
      "3\n",
      "4\n",
      "5\n",
      "6\n",
      "7\n",
      "8\n",
      "9\n"
     ]
    }
   ],
   "source": [
    "for  i in range (10): # here we  have defined the end point of the loop\n",
    "    print (i)"
   ]
  },
  {
   "cell_type": "code",
   "execution_count": 9,
   "id": "9b5d6115",
   "metadata": {},
   "outputs": [
    {
     "name": "stdout",
     "output_type": "stream",
     "text": [
      "0\n",
      "1\n",
      "2\n",
      "3\n",
      "4\n",
      "5\n",
      "6\n",
      "7\n",
      "8\n",
      "9\n"
     ]
    }
   ],
   "source": [
    "for  i in range (0,10): # here we  have defined the start and end point of the loop\n",
    "    print (i)"
   ]
  },
  {
   "cell_type": "code",
   "execution_count": 10,
   "id": "6b50a090",
   "metadata": {},
   "outputs": [
    {
     "name": "stdout",
     "output_type": "stream",
     "text": [
      "0\n",
      "1\n",
      "2\n",
      "3\n",
      "4\n",
      "5\n",
      "6\n",
      "7\n",
      "8\n",
      "9\n"
     ]
    }
   ],
   "source": [
    "for  i in range (0,10,1):# here we  have defined the start and end point of the loop but with defining the jump/step/skip parameters\n",
    "    print (i)"
   ]
  },
  {
   "cell_type": "markdown",
   "id": "8be2aaf9",
   "metadata": {},
   "source": [
    "# 12. Write a short program that prints the numbers 1 to 10 using a for loop. Then write an equivalent program that prints the numbers 1 to 10 using a while loop."
   ]
  },
  {
   "cell_type": "code",
   "execution_count": 14,
   "id": "113845c3",
   "metadata": {},
   "outputs": [
    {
     "name": "stdout",
     "output_type": "stream",
     "text": [
      "For Loop\n",
      "1\n",
      "2\n",
      "3\n",
      "4\n",
      "5\n",
      "6\n",
      "7\n",
      "8\n",
      "9\n",
      "10\n"
     ]
    }
   ],
   "source": [
    "print ('For Loop')\n",
    "for num in range (1,11,1):\n",
    "    print (num)"
   ]
  },
  {
   "cell_type": "code",
   "execution_count": 15,
   "id": "7c263c1d",
   "metadata": {},
   "outputs": [
    {
     "name": "stdout",
     "output_type": "stream",
     "text": [
      "While Loop\n",
      "1\n",
      "2\n",
      "3\n",
      "4\n",
      "5\n",
      "6\n",
      "7\n",
      "8\n",
      "9\n",
      "10\n"
     ]
    }
   ],
   "source": [
    "print ('While Loop')\n",
    "num = 0\n",
    "while num < 10:\n",
    "    \n",
    "    num= num+1\n",
    "    print (num)"
   ]
  },
  {
   "cell_type": "markdown",
   "id": "c5cdc446",
   "metadata": {},
   "source": [
    "# 13. If you had a function named bacon() inside a module named spam, how would you call it after importing spam?"
   ]
  },
  {
   "cell_type": "code",
   "execution_count": 16,
   "id": "696187f8",
   "metadata": {},
   "outputs": [
    {
     "ename": "ModuleNotFoundError",
     "evalue": "No module named 'spam'",
     "output_type": "error",
     "traceback": [
      "\u001b[1;31m---------------------------------------------------------------------------\u001b[0m",
      "\u001b[1;31mModuleNotFoundError\u001b[0m                       Traceback (most recent call last)",
      "Input \u001b[1;32mIn [16]\u001b[0m, in \u001b[0;36m<cell line: 3>\u001b[1;34m()\u001b[0m\n\u001b[0;32m      1\u001b[0m \u001b[38;5;66;03m# Actually I did not get the question even though i am given answer after searching ir on google,\u001b[39;00m\n\u001b[0;32m      2\u001b[0m \u001b[38;5;66;03m# we have to import spam first \u001b[39;00m\n\u001b[1;32m----> 3\u001b[0m \u001b[38;5;28;01mimport\u001b[39;00m \u001b[38;5;21;01mspam\u001b[39;00m\n\u001b[0;32m      5\u001b[0m A\u001b[38;5;241m.\u001b[39mbacon()\n",
      "\u001b[1;31mModuleNotFoundError\u001b[0m: No module named 'spam'"
     ]
    }
   ],
   "source": [
    "# Actually I did not get the question even though i am given answer after searching ir on google,\n",
    "# we have to import spam first \n",
    "import spam\n",
    "\n",
    "A.bacon() # we can call the function at later stage to do the inetended operation with the data base A"
   ]
  },
  {
   "cell_type": "code",
   "execution_count": null,
   "id": "f1bc71e4",
   "metadata": {},
   "outputs": [],
   "source": []
  }
 ],
 "metadata": {
  "kernelspec": {
   "display_name": "Python 3 (ipykernel)",
   "language": "python",
   "name": "python3"
  },
  "language_info": {
   "codemirror_mode": {
    "name": "ipython",
    "version": 3
   },
   "file_extension": ".py",
   "mimetype": "text/x-python",
   "name": "python",
   "nbconvert_exporter": "python",
   "pygments_lexer": "ipython3",
   "version": "3.9.12"
  }
 },
 "nbformat": 4,
 "nbformat_minor": 5
}
