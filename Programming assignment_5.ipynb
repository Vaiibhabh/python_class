{
 "cells": [
  {
   "cell_type": "markdown",
   "id": "6ac8c1a5",
   "metadata": {},
   "source": [
    "# 1.\tWrite a Python Program to Find LCM?"
   ]
  },
  {
   "cell_type": "code",
   "execution_count": 11,
   "id": "7343a7f8",
   "metadata": {},
   "outputs": [
    {
     "name": "stdout",
     "output_type": "stream",
     "text": [
      "6\n",
      "24\n",
      "72\n",
      "504\n",
      "6552\n",
      "6552\n"
     ]
    }
   ],
   "source": [
    "def find_lcm(n1,n2):\n",
    "    if n1>n2:\n",
    "        num= n1\n",
    "        denominator= n2\n",
    "    else:\n",
    "        num= n2\n",
    "        denominator= n1\n",
    "    # calculate reamineder\n",
    "    remainder= num%denominator\n",
    "    while (remainder!=0):\n",
    "        num= denominator\n",
    "        denominator= remainder\n",
    "        remainder= num%denominator\n",
    "    #loop comes out if above condition satisfied    \n",
    "    great_cmn_diff=  denominator\n",
    "    lcm= int(int(n1*n2)/great_cmn_diff)\n",
    "    return lcm\n",
    "\n",
    "# for an array of numbers\n",
    "l=[3,6,8,9,56,78]\n",
    "n1= l[0]\n",
    "n2= l[1]\n",
    "lcm=find_lcm(l[0],l[1])\n",
    "print (lcm)\n",
    "for i in range(2,len(l)):\n",
    "    lcm=find_lcm(lcm,l[i])\n",
    "    print(lcm)\n",
    "    \n",
    "print(lcm)"
   ]
  },
  {
   "cell_type": "markdown",
   "id": "a187c301",
   "metadata": {},
   "source": [
    "# 2.\tWrite a Python Program to Find HCF?"
   ]
  },
  {
   "cell_type": "code",
   "execution_count": 36,
   "id": "e51a7a94",
   "metadata": {},
   "outputs": [
    {
     "name": "stdout",
     "output_type": "stream",
     "text": [
      "3\n",
      "1\n"
     ]
    }
   ],
   "source": [
    "def find_gcd(n1,n2):\n",
    "    while(n2):\n",
    "        n1,n2=n2,n1%n2\n",
    "    return n1\n",
    "\n",
    "# for an array of numbers\n",
    "l=[3,6,8,9,56,78]\n",
    "n1= l[0]\n",
    "n2= l[1]\n",
    "gcd=find_gcd(l[0],l[1])\n",
    "print (gcd)\n",
    "for i in range(2,len(l)):\n",
    "    gcd=find_gcd(gcd,l[i])\n",
    "    \n",
    "    \n",
    "    \n",
    "print(gcd)"
   ]
  },
  {
   "cell_type": "markdown",
   "id": "8613f75e",
   "metadata": {},
   "source": [
    "# 3.\tWrite a Python Program to Convert Decimal to Binary, Octal and Hexadecimal?"
   ]
  },
  {
   "cell_type": "code",
   "execution_count": 53,
   "id": "91269ae2",
   "metadata": {},
   "outputs": [],
   "source": [
    "#using in built functions\n",
    "def decimal_conversion(num):\n",
    "    print('the conversion of decimal', num)\n",
    "    print('into binary is :' ,bin(num)[2:])\n",
    "    print('into octal is :' ,oct(num)[2:])\n",
    "    print('into hexadecimal is :' ,hex(num)[2:])\n"
   ]
  },
  {
   "cell_type": "code",
   "execution_count": 56,
   "id": "a59e0c34",
   "metadata": {},
   "outputs": [
    {
     "name": "stdout",
     "output_type": "stream",
     "text": [
      "the conversion of decimal 69\n",
      "into binary is : 1000101\n",
      "into octal is : 105\n",
      "into hexadecimal is : 45\n"
     ]
    }
   ],
   "source": [
    "decimal_conversion(69)"
   ]
  },
  {
   "cell_type": "markdown",
   "id": "c04b45e2",
   "metadata": {},
   "source": [
    "# 4.\tWrite a Python Program To Find ASCII value of a character?"
   ]
  },
  {
   "cell_type": "code",
   "execution_count": 57,
   "id": "8aaa6128",
   "metadata": {},
   "outputs": [],
   "source": [
    "def asciiconversion(a):\n",
    "    print('the charecter conversion of', a, 'into ASCII is :', ord(a))"
   ]
  },
  {
   "cell_type": "code",
   "execution_count": 58,
   "id": "9c0b115f",
   "metadata": {},
   "outputs": [
    {
     "name": "stdout",
     "output_type": "stream",
     "text": [
      "the charecter conversion of g into ASCII is : 103\n"
     ]
    }
   ],
   "source": [
    "asciiconversion('g')"
   ]
  },
  {
   "cell_type": "code",
   "execution_count": 59,
   "id": "e44ec2d0",
   "metadata": {},
   "outputs": [
    {
     "name": "stdout",
     "output_type": "stream",
     "text": [
      "the charecter conversion of e into ASCII is : 101\n"
     ]
    }
   ],
   "source": [
    "asciiconversion('e')"
   ]
  },
  {
   "cell_type": "markdown",
   "id": "23cceb2d",
   "metadata": {},
   "source": [
    "# 5.\tWrite a Python Program to Make a Simple Calculator with 4 basic mathematical operations?"
   ]
  },
  {
   "cell_type": "code",
   "execution_count": null,
   "id": "a3e6bb06",
   "metadata": {},
   "outputs": [],
   "source": [
    "class Calculator:\n",
    "    \n",
    "    def add(self,x,y):\n",
    "        self.x=x\n",
    "        self.y=y\n",
    "        return self.x+self.y\n",
    "    \n",
    "    def subtract(self,x,y):\n",
    "        self.x=x\n",
    "        self.y=y\n",
    "        return self.x-self.y\n",
    "    \n",
    "    def multi(self,x,y):\n",
    "        self.x=x\n",
    "        self.y=y\n",
    "        return self.x*self.y\n",
    "    \n",
    "    def divide(self,x,y):\n",
    "        self.x=x\n",
    "        self.y=y\n",
    "        return self.x/self.y\n",
    "    \n"
   ]
  },
  {
   "cell_type": "code",
   "execution_count": 62,
   "id": "445ec8c4",
   "metadata": {},
   "outputs": [],
   "source": [
    "cal=Calculator()"
   ]
  },
  {
   "cell_type": "code",
   "execution_count": 63,
   "id": "1b9e8e53",
   "metadata": {},
   "outputs": [
    {
     "data": {
      "text/plain": [
       "6"
      ]
     },
     "execution_count": 63,
     "metadata": {},
     "output_type": "execute_result"
    }
   ],
   "source": [
    "cal.add(2,4)"
   ]
  },
  {
   "cell_type": "code",
   "execution_count": 64,
   "id": "4f630d19",
   "metadata": {},
   "outputs": [
    {
     "data": {
      "text/plain": [
       "0.09195402298850575"
      ]
     },
     "execution_count": 64,
     "metadata": {},
     "output_type": "execute_result"
    }
   ],
   "source": [
    "cal.divide(8,87)"
   ]
  },
  {
   "cell_type": "code",
   "execution_count": 65,
   "id": "e5c98122",
   "metadata": {},
   "outputs": [
    {
     "data": {
      "text/plain": [
       "18"
      ]
     },
     "execution_count": 65,
     "metadata": {},
     "output_type": "execute_result"
    }
   ],
   "source": [
    "cal.multi(3,6)"
   ]
  },
  {
   "cell_type": "code",
   "execution_count": 67,
   "id": "256c75f5",
   "metadata": {},
   "outputs": [
    {
     "data": {
      "text/plain": [
       "10"
      ]
     },
     "execution_count": 67,
     "metadata": {},
     "output_type": "execute_result"
    }
   ],
   "source": [
    "cal.subtract(6,-4)"
   ]
  }
 ],
 "metadata": {
  "kernelspec": {
   "display_name": "Python 3 (ipykernel)",
   "language": "python",
   "name": "python3"
  },
  "language_info": {
   "codemirror_mode": {
    "name": "ipython",
    "version": 3
   },
   "file_extension": ".py",
   "mimetype": "text/x-python",
   "name": "python",
   "nbconvert_exporter": "python",
   "pygments_lexer": "ipython3",
   "version": "3.9.12"
  }
 },
 "nbformat": 4,
 "nbformat_minor": 5
}
