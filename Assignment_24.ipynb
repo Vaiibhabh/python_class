{
 "cells": [
  {
   "cell_type": "markdown",
   "id": "150b247a",
   "metadata": {},
   "source": [
    "# 1. What is the relationship between def statements and lambda expressions ?"
   ]
  },
  {
   "cell_type": "markdown",
   "id": "7a6cb46f",
   "metadata": {},
   "source": [
    "Def statement creates a named functions, whereas lambda creates an anonymous ficntion. Both are same object type and can perform simlilar operations former is defined as named fuction  using def statements and later as anonymous function defined by lambda statements,  respectively."
   ]
  },
  {
   "cell_type": "code",
   "execution_count": 1,
   "id": "766b0c27",
   "metadata": {},
   "outputs": [],
   "source": [
    "def test1(a,b):\n",
    "    return a+b"
   ]
  },
  {
   "cell_type": "code",
   "execution_count": 3,
   "id": "16cf0094",
   "metadata": {},
   "outputs": [
    {
     "data": {
      "text/plain": [
       "7"
      ]
     },
     "execution_count": 3,
     "metadata": {},
     "output_type": "execute_result"
    }
   ],
   "source": [
    "test1(3,4)"
   ]
  },
  {
   "cell_type": "code",
   "execution_count": 4,
   "id": "0f45bc0c",
   "metadata": {},
   "outputs": [
    {
     "data": {
      "text/plain": [
       "<function __main__.test1(a, b)>"
      ]
     },
     "execution_count": 4,
     "metadata": {},
     "output_type": "execute_result"
    }
   ],
   "source": [
    "test1"
   ]
  },
  {
   "cell_type": "code",
   "execution_count": 5,
   "id": "a1c39f73",
   "metadata": {},
   "outputs": [
    {
     "data": {
      "text/plain": [
       "<function __main__.<lambda>(a, b)>"
      ]
     },
     "execution_count": 5,
     "metadata": {},
     "output_type": "execute_result"
    }
   ],
   "source": [
    "lambda a,b : a+b"
   ]
  },
  {
   "cell_type": "markdown",
   "id": "632346d4",
   "metadata": {},
   "source": [
    "# 2. What is the benefit of lambda?"
   ]
  },
  {
   "cell_type": "markdown",
   "id": "fdb3c63c",
   "metadata": {},
   "source": [
    "In Python, the lambda keyword offers a fast cut that can be used when declaring simple anonymous functions. The behaviour of lambda functions is identical to that of normal functions that are specified with the def keyword. They are available for usage anytime the need for function objects arises."
   ]
  },
  {
   "cell_type": "markdown",
   "id": "3ed4ccff",
   "metadata": {},
   "source": [
    "# 3. Compare and contrast map, filter, and reduce."
   ]
  },
  {
   "cell_type": "markdown",
   "id": "c271263d",
   "metadata": {},
   "source": [
    "The map() function iterates through all items in the given iterable and executes the function we passed as an argument on each of them."
   ]
  },
  {
   "cell_type": "code",
   "execution_count": 10,
   "id": "9e64bef2",
   "metadata": {},
   "outputs": [],
   "source": [
    "def test2(a):\n",
    "    return a*10"
   ]
  },
  {
   "cell_type": "code",
   "execution_count": 8,
   "id": "61e57d84",
   "metadata": {},
   "outputs": [
    {
     "data": {
      "text/plain": [
       "[1, 2, 3, 4, 5, 6, 7]"
      ]
     },
     "execution_count": 8,
     "metadata": {},
     "output_type": "execute_result"
    }
   ],
   "source": [
    "l = [1, 2, 3, 4, 5, 6, 7]"
   ]
  },
  {
   "cell_type": "code",
   "execution_count": 11,
   "id": "647d0050",
   "metadata": {},
   "outputs": [
    {
     "data": {
      "text/plain": [
       "[10, 20, 30, 40, 50, 60, 70]"
      ]
     },
     "execution_count": 11,
     "metadata": {},
     "output_type": "execute_result"
    }
   ],
   "source": [
    "list (map(test2,l))"
   ]
  },
  {
   "cell_type": "markdown",
   "id": "e95057bf",
   "metadata": {},
   "source": [
    "In a way comparable to map(), the filter() function generates a new list from a function object and an iterable.\n",
    "The filter() function creates a new list that, as its name suggests, is comprised of just those items on the list that fulfil a particular criterion, namely that the function that was passed to it returns True."
   ]
  },
  {
   "cell_type": "code",
   "execution_count": 12,
   "id": "9590ad35",
   "metadata": {},
   "outputs": [],
   "source": [
    "a = lambda a:a if a%2 == 0 else None"
   ]
  },
  {
   "cell_type": "code",
   "execution_count": 13,
   "id": "58122468",
   "metadata": {},
   "outputs": [
    {
     "data": {
      "text/plain": [
       "[2, 4, 6]"
      ]
     },
     "execution_count": 13,
     "metadata": {},
     "output_type": "execute_result"
    }
   ],
   "source": [
    "list(filter(a,l))"
   ]
  },
  {
   "cell_type": "markdown",
   "id": "1bff7259",
   "metadata": {},
   "source": [
    "reduce() operates in a manner different from map() and filter() (). It does not return a new list that is generated depending on the function and iterable that we have supplied. Instead, it only returns one value at a time."
   ]
  },
  {
   "cell_type": "code",
   "execution_count": 14,
   "id": "f7f57b14",
   "metadata": {},
   "outputs": [],
   "source": [
    "from functools import reduce"
   ]
  },
  {
   "cell_type": "code",
   "execution_count": 15,
   "id": "5fabda3b",
   "metadata": {},
   "outputs": [
    {
     "data": {
      "text/plain": [
       "5040"
      ]
     },
     "execution_count": 15,
     "metadata": {},
     "output_type": "execute_result"
    }
   ],
   "source": [
    "reduce(lambda a,b: a*b, l) # it takes only two positional argument"
   ]
  },
  {
   "cell_type": "markdown",
   "id": "c3b8b16d",
   "metadata": {},
   "source": [
    "# 4. What are function annotations, and how are they used?"
   ]
  },
  {
   "cell_type": "markdown",
   "id": "4c57e855",
   "metadata": {},
   "source": [
    "Python expressions that can be anything are known as function annotations, and they are connected to different aspects of functions. These expressions are only evaluated once, during the compilation phase, and they do not exist in the runtime environment of Python. These annotations are given no significance by the Python programming language but they help in understanding the user of the function, how fucntion is designe to works by its creators."
   ]
  },
  {
   "cell_type": "code",
   "execution_count": 16,
   "id": "aa7506da",
   "metadata": {},
   "outputs": [],
   "source": [
    "def test3(a : int,b : 'func', c : int = 234 )->int:\n",
    "    '''this is my doc string to give a hint to next programmer'''\n",
    "    return a+b +str(c)"
   ]
  },
  {
   "cell_type": "code",
   "execution_count": null,
   "id": "4fdec035",
   "metadata": {},
   "outputs": [],
   "source": [
    "test3() # shift+tab will give information about the fucntion"
   ]
  },
  {
   "cell_type": "markdown",
   "id": "497f8857",
   "metadata": {},
   "source": [
    "# 5. What are recursive functions, and how are they used?"
   ]
  },
  {
   "cell_type": "markdown",
   "id": "b9b0638c",
   "metadata": {},
   "source": [
    "Python allows function recursion, thus a function can call itself.\n",
    "\n",
    "Mathematical and programming use recursion. A function self-calls. You can loop through data to get a result."
   ]
  },
  {
   "cell_type": "code",
   "execution_count": 25,
   "id": "eec3fb2d",
   "metadata": {},
   "outputs": [
    {
     "name": "stdout",
     "output_type": "stream",
     "text": [
      "Recursion Example Results\n",
      "1\n",
      "3\n",
      "6\n"
     ]
    },
    {
     "data": {
      "text/plain": [
       "6"
      ]
     },
     "execution_count": 25,
     "metadata": {},
     "output_type": "execute_result"
    }
   ],
   "source": [
    "def tri_recursion(k):\n",
    "  if(k>0):\n",
    "    result = k+tri_recursion(k-1)\n",
    "    print(result)\n",
    "  else:\n",
    "    result = 0\n",
    "  return result\n",
    "\n",
    "print(\"Recursion Example Results\")\n",
    "tri_recursion(3)"
   ]
  },
  {
   "cell_type": "markdown",
   "id": "66f234c1",
   "metadata": {},
   "source": [
    "# 6. What are some general design guidelines for coding functions?"
   ]
  },
  {
   "cell_type": "markdown",
   "id": "6f7640c0",
   "metadata": {},
   "source": [
    "Coding rules and guidelines ensure that software is:\n",
    "\n",
    "Safe: It can be used without causing harm.\n",
    "\n",
    "Secure: It can’t be hacked.\n",
    "\n",
    "Reliable: It functions as it should, every time.\n",
    "\n",
    "Testable: It can be tested at the code level.\n",
    "\n",
    "Maintainable: It can be maintained, even as your codebase grows.\n",
    "\n",
    "Portable: It works the same in every environment."
   ]
  },
  {
   "cell_type": "markdown",
   "id": "cd87a7db",
   "metadata": {},
   "source": [
    "# 7. Name three or more ways that functions can communicate results to a caller."
   ]
  },
  {
   "cell_type": "markdown",
   "id": "396b1b75",
   "metadata": {},
   "source": [
    "function without arguments and without return value.\n",
    "\n",
    "function without arguments and with return value.\n",
    "\n",
    "function with arguments and without return value.\n",
    "\n",
    "function with arguments and with return value."
   ]
  },
  {
   "cell_type": "code",
   "execution_count": null,
   "id": "a296ff04",
   "metadata": {},
   "outputs": [],
   "source": []
  },
  {
   "cell_type": "code",
   "execution_count": null,
   "id": "56660e63",
   "metadata": {},
   "outputs": [],
   "source": []
  }
 ],
 "metadata": {
  "kernelspec": {
   "display_name": "Python 3 (ipykernel)",
   "language": "python",
   "name": "python3"
  },
  "language_info": {
   "codemirror_mode": {
    "name": "ipython",
    "version": 3
   },
   "file_extension": ".py",
   "mimetype": "text/x-python",
   "name": "python",
   "nbconvert_exporter": "python",
   "pygments_lexer": "ipython3",
   "version": "3.9.12"
  }
 },
 "nbformat": 4,
 "nbformat_minor": 5
}
