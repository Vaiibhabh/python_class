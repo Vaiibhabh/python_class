{
 "cells": [
  {
   "cell_type": "markdown",
   "id": "532c79e3",
   "metadata": {},
   "source": [
    "# 1.\tWrite a Python Program to Find the Factorial of a Number?"
   ]
  },
  {
   "cell_type": "code",
   "execution_count": 5,
   "id": "4ddedae3",
   "metadata": {},
   "outputs": [],
   "source": [
    "def fact(num):\n",
    "    factorial= 1\n",
    "    if num <0:\n",
    "        print('Fatorial does not exist for number less than zero')\n",
    "    elif num ==0 or num ==1:\n",
    "        print ('Factorial for the 1 and zero is equal to 1')\n",
    "    else:\n",
    "        for i in range(1, num+1):\n",
    "            factorial= factorial*i\n",
    "        print('the factorial of the', num ,' is', factorial)\n",
    "        "
   ]
  },
  {
   "cell_type": "code",
   "execution_count": 6,
   "id": "ea134d12",
   "metadata": {},
   "outputs": [
    {
     "name": "stdout",
     "output_type": "stream",
     "text": [
      "the factorial of the 9  is 362880\n"
     ]
    }
   ],
   "source": [
    "fact(9)"
   ]
  },
  {
   "cell_type": "markdown",
   "id": "9bee68fd",
   "metadata": {},
   "source": [
    "# 2.\tWrite a Python Program to Display the multiplication Table?"
   ]
  },
  {
   "cell_type": "code",
   "execution_count": 11,
   "id": "e00a95f5",
   "metadata": {},
   "outputs": [],
   "source": [
    "def multi_table(num):\n",
    "    \n",
    "    for i in range(1,11):\n",
    "        table= num*i\n",
    "        print('The table of', num, 'is', num ,'x',i,'=',table)"
   ]
  },
  {
   "cell_type": "code",
   "execution_count": 12,
   "id": "728e6a36",
   "metadata": {},
   "outputs": [
    {
     "name": "stdout",
     "output_type": "stream",
     "text": [
      "The table of 3 is 3 x 1 = 3\n",
      "The table of 3 is 3 x 2 = 6\n",
      "The table of 3 is 3 x 3 = 9\n",
      "The table of 3 is 3 x 4 = 12\n",
      "The table of 3 is 3 x 5 = 15\n",
      "The table of 3 is 3 x 6 = 18\n",
      "The table of 3 is 3 x 7 = 21\n",
      "The table of 3 is 3 x 8 = 24\n",
      "The table of 3 is 3 x 9 = 27\n",
      "The table of 3 is 3 x 10 = 30\n"
     ]
    }
   ],
   "source": [
    "multi_table(3)"
   ]
  },
  {
   "cell_type": "markdown",
   "id": "7520bd1b",
   "metadata": {},
   "source": [
    "# 3.\tWrite a Python Program to Print the Fibonacci sequence?"
   ]
  },
  {
   "cell_type": "code",
   "execution_count": 15,
   "id": "6d2eafb5",
   "metadata": {},
   "outputs": [],
   "source": [
    "def fibo(num,num1, num2):\n",
    "    count=0\n",
    "    if num <=0:\n",
    "        print('please enter a positive integer')\n",
    "    elif num==1:\n",
    "        print('the fibonacci sequence upto', num, 'is :')\n",
    "        print(num1)\n",
    "    else:\n",
    "        print ('fibonacci sequenece is :')\n",
    "        while count <num:\n",
    "            print(num1)\n",
    "            nth= num1+num2\n",
    "            # value needs to be updated\n",
    "            num1= num2\n",
    "            num2= nth\n",
    "            count= count+1\n",
    "\n",
    "    "
   ]
  },
  {
   "cell_type": "code",
   "execution_count": 18,
   "id": "1b8c492e",
   "metadata": {},
   "outputs": [
    {
     "name": "stdout",
     "output_type": "stream",
     "text": [
      "fibonacci sequenece is :\n",
      "0\n",
      "1\n"
     ]
    }
   ],
   "source": [
    "fibo(2,0,1)"
   ]
  },
  {
   "cell_type": "markdown",
   "id": "eeaa29eb",
   "metadata": {},
   "source": [
    "# 4.\tWrite a Python Program to Check Armstrong Number?"
   ]
  },
  {
   "cell_type": "code",
   "execution_count": 45,
   "id": "8c35d4c5",
   "metadata": {},
   "outputs": [],
   "source": [
    "def armstrong(num):\n",
    "    l=len(str(num))\n",
    "    summation = 0\n",
    "    temp= num\n",
    "    while temp>0:\n",
    "        remainder= temp%10\n",
    "        summation= summation + remainder**l\n",
    "        temp=temp//10\n",
    "        \n",
    "    if num == summation:\n",
    "       print(num,\"is an Armstrong number\")\n",
    "    else:\n",
    "       print(num,\"is not an Armstrong number\")\n",
    "    \n"
   ]
  },
  {
   "cell_type": "code",
   "execution_count": 46,
   "id": "a71cadfc",
   "metadata": {},
   "outputs": [
    {
     "name": "stdout",
     "output_type": "stream",
     "text": [
      "1456 is not an Armstrong number\n"
     ]
    }
   ],
   "source": [
    "armstrong(1456)"
   ]
  },
  {
   "cell_type": "markdown",
   "id": "39adecbd",
   "metadata": {},
   "source": [
    "# 5.\tWrite a Python Program to Find Armstrong Number in an Interval?"
   ]
  },
  {
   "cell_type": "code",
   "execution_count": 58,
   "id": "2f6266a2",
   "metadata": {},
   "outputs": [
    {
     "name": "stdout",
     "output_type": "stream",
     "text": [
      "Enter a lower range number: 100\n",
      "Enter an upper range number: 10000\n",
      "Armstrong numbers between 100 and 10000 are:\n",
      "153\n",
      "370\n",
      "371\n",
      "407\n",
      "1634\n",
      "8208\n",
      "9474\n"
     ]
    }
   ],
   "source": [
    "def armstrong_interval(lower,upper):\n",
    "    print(\"Armstrong numbers between\", lower, \"and\", upper, \"are:\")\n",
    "    for num in range(lower, upper + 1):\n",
    "        order = len(str(num))\n",
    "        summation = 0\n",
    "        temp = num\n",
    "        while temp > 0:\n",
    "            digit = temp % 10\n",
    "            summation += digit ** order\n",
    "            temp //= 10\n",
    "\n",
    "        if num == summation:\n",
    "           print(num)\n",
    "lower_number = int(input(\"Enter a lower range number: \"))\n",
    "upper_number = int(input(\"Enter an upper range number: \"))\n",
    "armstrong_interval(lower_number,upper_number)"
   ]
  },
  {
   "cell_type": "markdown",
   "id": "dedb293e",
   "metadata": {},
   "source": [
    "# 6.\tWrite a Python Program to Find the Sum of Natural Numbers?"
   ]
  },
  {
   "cell_type": "code",
   "execution_count": 62,
   "id": "159c759d",
   "metadata": {},
   "outputs": [],
   "source": [
    "def sum_natural(num):\n",
    "    \n",
    "    if num<=0:\n",
    "        print('please enter a real positive number')\n",
    "    else:\n",
    "        count=0\n",
    "        while (num>0):\n",
    "            count= count+num\n",
    "            num =num-1\n",
    "        print('The summation if all natural number is: ',count)\n",
    "            \n",
    "    "
   ]
  },
  {
   "cell_type": "code",
   "execution_count": 65,
   "id": "0ca111bd",
   "metadata": {},
   "outputs": [
    {
     "name": "stdout",
     "output_type": "stream",
     "text": [
      "The summation if all natural number is:  76245\n"
     ]
    }
   ],
   "source": [
    "sum_natural(390)"
   ]
  },
  {
   "cell_type": "code",
   "execution_count": null,
   "id": "c9176855",
   "metadata": {},
   "outputs": [],
   "source": []
  }
 ],
 "metadata": {
  "kernelspec": {
   "display_name": "Python 3 (ipykernel)",
   "language": "python",
   "name": "python3"
  },
  "language_info": {
   "codemirror_mode": {
    "name": "ipython",
    "version": 3
   },
   "file_extension": ".py",
   "mimetype": "text/x-python",
   "name": "python",
   "nbconvert_exporter": "python",
   "pygments_lexer": "ipython3",
   "version": "3.9.12"
  }
 },
 "nbformat": 4,
 "nbformat_minor": 5
}
