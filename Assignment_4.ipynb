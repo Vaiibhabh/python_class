{
 "cells": [
  {
   "cell_type": "markdown",
   "id": "73326d32",
   "metadata": {},
   "source": [
    "# 1. What exactly is []?"
   ]
  },
  {
   "cell_type": "markdown",
   "id": "119b44e0",
   "metadata": {},
   "source": [
    "Its a empty square bracket which can be used to hold list data type variable. AS of now it can be said it has null elements in the list."
   ]
  },
  {
   "cell_type": "markdown",
   "id": "f11bdf60",
   "metadata": {},
   "source": [
    " # 2. In a list of values stored in a variable called spam, how would you assign the value 'hello' as the third value? (Assume [2, 4, 6, 8, 10] are in spam.)\n",
    " Let's pretend the spam includes the list ['a', 'b', 'c', 'd'] for the next three queries."
   ]
  },
  {
   "cell_type": "code",
   "execution_count": 6,
   "id": "34d90385",
   "metadata": {},
   "outputs": [],
   "source": [
    "spam= [2,4,6,8,10]"
   ]
  },
  {
   "cell_type": "code",
   "execution_count": 7,
   "id": "5a293a73",
   "metadata": {},
   "outputs": [],
   "source": [
    "spam[2]= 'hello'"
   ]
  },
  {
   "cell_type": "code",
   "execution_count": 8,
   "id": "fd0e80f8",
   "metadata": {},
   "outputs": [
    {
     "data": {
      "text/plain": [
       "[2, 4, 'hello', 8, 10]"
      ]
     },
     "execution_count": 8,
     "metadata": {},
     "output_type": "execute_result"
    }
   ],
   "source": [
    "spam"
   ]
  },
  {
   "cell_type": "markdown",
   "id": "728b0812",
   "metadata": {},
   "source": [
    "# 3. What is the value of spam[int(int('3' * 2) / 11)]?"
   ]
  },
  {
   "cell_type": "code",
   "execution_count": 9,
   "id": "1d832f43",
   "metadata": {},
   "outputs": [],
   "source": [
    "spam = ['a', 'b','c','d']"
   ]
  },
  {
   "cell_type": "code",
   "execution_count": 10,
   "id": "3013904d",
   "metadata": {},
   "outputs": [
    {
     "data": {
      "text/plain": [
       "'d'"
      ]
     },
     "execution_count": 10,
     "metadata": {},
     "output_type": "execute_result"
    }
   ],
   "source": [
    "spam[int(int('3'*2)/11)]"
   ]
  },
  {
   "cell_type": "code",
   "execution_count": 12,
   "id": "1be7582d",
   "metadata": {},
   "outputs": [
    {
     "data": {
      "text/plain": [
       "33"
      ]
     },
     "execution_count": 12,
     "metadata": {},
     "output_type": "execute_result"
    }
   ],
   "source": [
    "int('3'*2) ## '3'*2 , in this fisrt the string multiply itself to become '33' then it is conveted to int datatype 33 "
   ]
  },
  {
   "cell_type": "code",
   "execution_count": 13,
   "id": "a6583221",
   "metadata": {},
   "outputs": [],
   "source": [
    "# 33 is divided by 11 to give index 3 which in return the element 'd' after calling spam[3]"
   ]
  },
  {
   "cell_type": "markdown",
   "id": "fc10c286",
   "metadata": {},
   "source": [
    "# 4. What is the value of spam[-1]?"
   ]
  },
  {
   "cell_type": "code",
   "execution_count": 14,
   "id": "f2edf897",
   "metadata": {},
   "outputs": [
    {
     "data": {
      "text/plain": [
       "'d'"
      ]
     },
     "execution_count": 14,
     "metadata": {},
     "output_type": "execute_result"
    }
   ],
   "source": [
    "spam[-1] # it will also give element 'd'"
   ]
  },
  {
   "cell_type": "markdown",
   "id": "4bd505aa",
   "metadata": {},
   "source": [
    "# 5. What is the value of spam[:2]?"
   ]
  },
  {
   "cell_type": "code",
   "execution_count": 15,
   "id": "5e78ea18",
   "metadata": {},
   "outputs": [
    {
     "data": {
      "text/plain": [
       "['a', 'b']"
      ]
     },
     "execution_count": 15,
     "metadata": {},
     "output_type": "execute_result"
    }
   ],
   "source": [
    "spam[:2] # it will provide the elemet from index 0 to 1 and will exclude 2 and later elements"
   ]
  },
  {
   "cell_type": "markdown",
   "id": "4b8c7422",
   "metadata": {},
   "source": [
    "# Let's pretend bacon has the list [3.14, 'cat,' 11, 'cat,' True] for the next three questions.\n",
    "6. What is the value of bacon.index('cat')?\n"
   ]
  },
  {
   "cell_type": "code",
   "execution_count": 16,
   "id": "6fa12498",
   "metadata": {},
   "outputs": [],
   "source": [
    "bacon = [3.14, 'cat', 11, 'cat', True]"
   ]
  },
  {
   "cell_type": "code",
   "execution_count": 17,
   "id": "3f4b3e03",
   "metadata": {},
   "outputs": [
    {
     "data": {
      "text/plain": [
       "1"
      ]
     },
     "execution_count": 17,
     "metadata": {},
     "output_type": "execute_result"
    }
   ],
   "source": [
    "bacon.index('cat') # it retun the first index of the element specified, irrespective of repeatation of elemnet within the list  "
   ]
  },
  {
   "cell_type": "markdown",
   "id": "eeecad2a",
   "metadata": {},
   "source": [
    "# 7. How does bacon.append(99) change the look of the list value in bacon?"
   ]
  },
  {
   "cell_type": "code",
   "execution_count": 18,
   "id": "b5f78eae",
   "metadata": {},
   "outputs": [],
   "source": [
    "# it will append the list by adding a new element at the last of the list that is index 5 element will be 99 for current list\n",
    "bacon.append(99)"
   ]
  },
  {
   "cell_type": "code",
   "execution_count": 19,
   "id": "ebb86455",
   "metadata": {},
   "outputs": [
    {
     "data": {
      "text/plain": [
       "[3.14, 'cat', 11, 'cat', True, 99]"
      ]
     },
     "execution_count": 19,
     "metadata": {},
     "output_type": "execute_result"
    }
   ],
   "source": [
    "bacon"
   ]
  },
  {
   "cell_type": "markdown",
   "id": "a56b427c",
   "metadata": {},
   "source": [
    "# 8. How does bacon.remove('cat') change the look of the list in bacon?"
   ]
  },
  {
   "cell_type": "code",
   "execution_count": 20,
   "id": "d90f56bb",
   "metadata": {},
   "outputs": [],
   "source": [
    "# it will remove the first occuring element specified as'cat' from the list when called once"
   ]
  },
  {
   "cell_type": "code",
   "execution_count": 21,
   "id": "9066f24a",
   "metadata": {},
   "outputs": [],
   "source": [
    "bacon.remove('cat')"
   ]
  },
  {
   "cell_type": "code",
   "execution_count": 22,
   "id": "a74551c7",
   "metadata": {},
   "outputs": [
    {
     "data": {
      "text/plain": [
       "[3.14, 11, 'cat', True, 99]"
      ]
     },
     "execution_count": 22,
     "metadata": {},
     "output_type": "execute_result"
    }
   ],
   "source": [
    "bacon"
   ]
  },
  {
   "cell_type": "code",
   "execution_count": 24,
   "id": "75092334",
   "metadata": {},
   "outputs": [
    {
     "data": {
      "text/plain": [
       "[3.14, 11, True, 99]"
      ]
     },
     "execution_count": 24,
     "metadata": {},
     "output_type": "execute_result"
    }
   ],
   "source": [
    "# calling it second time will again remove the next occuring 'cat' element\n",
    "bacon.remove('cat')\n",
    "bacon"
   ]
  },
  {
   "cell_type": "markdown",
   "id": "0e6b1ab5",
   "metadata": {},
   "source": [
    "# 9. What are the list concatenation and list replication operators?"
   ]
  },
  {
   "cell_type": "markdown",
   "id": "4722cebc",
   "metadata": {},
   "source": [
    " list concatenation operator is + (addition operator) and list replication operator is * (multilication operator)"
   ]
  },
  {
   "cell_type": "markdown",
   "id": "cde15e36",
   "metadata": {},
   "source": [
    "# 10. What is difference between the list methods append() and insert()?"
   ]
  },
  {
   "cell_type": "code",
   "execution_count": 33,
   "id": "e736fbe0",
   "metadata": {},
   "outputs": [],
   "source": [
    "l= [1,2,3,4]"
   ]
  },
  {
   "cell_type": "code",
   "execution_count": 34,
   "id": "fa48359d",
   "metadata": {},
   "outputs": [
    {
     "data": {
      "text/plain": [
       "[1, 2, 3, 4, 'vaibh']"
      ]
     },
     "execution_count": 34,
     "metadata": {},
     "output_type": "execute_result"
    }
   ],
   "source": [
    "l.append('vaibh') # it Append object to the end of the list.\n",
    "l"
   ]
  },
  {
   "cell_type": "code",
   "execution_count": 35,
   "id": "657349c0",
   "metadata": {},
   "outputs": [
    {
     "data": {
      "text/plain": [
       "[1, 2, 'jais', 3, 4, 'vaibh']"
      ]
     },
     "execution_count": 35,
     "metadata": {},
     "output_type": "execute_result"
    }
   ],
   "source": [
    "l.insert(2,'jais') # it Insert object at specified index\n",
    "l"
   ]
  },
  {
   "cell_type": "markdown",
   "id": "4914b906",
   "metadata": {},
   "source": [
    "# 11. What are the two methods for removing items from a list?"
   ]
  },
  {
   "cell_type": "code",
   "execution_count": 38,
   "id": "d675b824",
   "metadata": {},
   "outputs": [],
   "source": [
    "l1= [1,2,3,5,4,2,2,5]"
   ]
  },
  {
   "cell_type": "code",
   "execution_count": 39,
   "id": "6e7639ee",
   "metadata": {},
   "outputs": [
    {
     "data": {
      "text/plain": [
       "[1, 2, 3, 5, 4, 2, 2]"
      ]
     },
     "execution_count": 39,
     "metadata": {},
     "output_type": "execute_result"
    }
   ],
   "source": [
    "l1.pop() #Remove and return item at index (default last)\n",
    "l1"
   ]
  },
  {
   "cell_type": "code",
   "execution_count": 41,
   "id": "56944aed",
   "metadata": {},
   "outputs": [
    {
     "data": {
      "text/plain": [
       "[1, 3, 5, 4, 2, 2]"
      ]
     },
     "execution_count": 41,
     "metadata": {},
     "output_type": "execute_result"
    }
   ],
   "source": [
    "l1.remove(2)  #Remove first occurrence of value after specifying the value or elemnt\n",
    "l1"
   ]
  },
  {
   "cell_type": "markdown",
   "id": "9b14f246",
   "metadata": {},
   "source": [
    "# 12. Describe how list values and string values are identical."
   ]
  },
  {
   "cell_type": "markdown",
   "id": "3bd9fb20",
   "metadata": {},
   "source": [
    "A string's length is equal to the number of characters included inside the string, whereas a list's length is equal to the number of items contained within the list. Both follow similar indexing phenomenon. "
   ]
  },
  {
   "cell_type": "markdown",
   "id": "b3d96248",
   "metadata": {},
   "source": [
    "# 13. What's the difference between tuples and lists?"
   ]
  },
  {
   "cell_type": "markdown",
   "id": "69f12ad6",
   "metadata": {},
   "source": [
    "The basic and most important difference is\n",
    "\n",
    "tuples - these are immutable dat types\n",
    "\n",
    "list - these are mutable data type"
   ]
  },
  {
   "cell_type": "markdown",
   "id": "35226ab3",
   "metadata": {},
   "source": [
    "# 14. How do you type a tuple value that only contains the integer 42?"
   ]
  },
  {
   "cell_type": "code",
   "execution_count": 47,
   "id": "c89695d5",
   "metadata": {},
   "outputs": [
    {
     "data": {
      "text/plain": [
       "int"
      ]
     },
     "execution_count": 47,
     "metadata": {},
     "output_type": "execute_result"
    }
   ],
   "source": [
    "t = (int(42))\n",
    "type(t)"
   ]
  },
  {
   "cell_type": "code",
   "execution_count": 49,
   "id": "1adf271b",
   "metadata": {},
   "outputs": [
    {
     "data": {
      "text/plain": [
       "tuple"
      ]
     },
     "execution_count": 49,
     "metadata": {},
     "output_type": "execute_result"
    }
   ],
   "source": [
    "t = (42,)  ## the trailing , is very important to differentiate between a tuple and a integer datatype containing one element\n",
    "type(t)"
   ]
  },
  {
   "cell_type": "markdown",
   "id": "f2972f09",
   "metadata": {},
   "source": [
    "# 15. How do you get a list value's tuple form? How do you get a tuple value's list form?"
   ]
  },
  {
   "cell_type": "code",
   "execution_count": 50,
   "id": "70739184",
   "metadata": {},
   "outputs": [
    {
     "data": {
      "text/plain": [
       "list"
      ]
     },
     "execution_count": 50,
     "metadata": {},
     "output_type": "execute_result"
    }
   ],
   "source": [
    "# using datatype casting we can do the above \n",
    "l4 = [3,4,6,7]\n",
    "type(l4)"
   ]
  },
  {
   "cell_type": "code",
   "execution_count": 52,
   "id": "523b58c5",
   "metadata": {},
   "outputs": [
    {
     "data": {
      "text/plain": [
       "(3, 4, 6, 7)"
      ]
     },
     "execution_count": 52,
     "metadata": {},
     "output_type": "execute_result"
    }
   ],
   "source": [
    "t1= tuple (l4)\n",
    "t1"
   ]
  },
  {
   "cell_type": "code",
   "execution_count": 53,
   "id": "d6be872f",
   "metadata": {},
   "outputs": [
    {
     "data": {
      "text/plain": [
       "tuple"
      ]
     },
     "execution_count": 53,
     "metadata": {},
     "output_type": "execute_result"
    }
   ],
   "source": [
    "type (t1)"
   ]
  },
  {
   "cell_type": "code",
   "execution_count": 54,
   "id": "4be4baca",
   "metadata": {},
   "outputs": [
    {
     "name": "stdout",
     "output_type": "stream",
     "text": [
      "[3, 4, 6, 7]\n"
     ]
    },
    {
     "data": {
      "text/plain": [
       "list"
      ]
     },
     "execution_count": 54,
     "metadata": {},
     "output_type": "execute_result"
    }
   ],
   "source": [
    "l5 = list(t1)\n",
    "print(l5)\n",
    "type(l5)"
   ]
  },
  {
   "cell_type": "markdown",
   "id": "7de4bc9d",
   "metadata": {},
   "source": [
    "# 16. Variables that \"contain\" list values are not necessarily lists themselves. Instead, what do they contain?"
   ]
  },
  {
   "cell_type": "markdown",
   "id": "2086a96b",
   "metadata": {},
   "source": [
    "Variables will contain references to list values rather than list values themselves"
   ]
  },
  {
   "cell_type": "markdown",
   "id": "4e1ea89c",
   "metadata": {},
   "source": [
    "# 17. How do you distinguish between copy.copy() and copy.deepcopy()?"
   ]
  },
  {
   "cell_type": "markdown",
   "id": "f40f73ac",
   "metadata": {},
   "source": [
    "copy() leaves a reference to the original object it was called on. If you make changes to a copied object, those changes will also be made to the original item. The deepcopy() function generates a new object and then makes a true copy of the original object into the new object."
   ]
  },
  {
   "cell_type": "code",
   "execution_count": 71,
   "id": "b048f22a",
   "metadata": {},
   "outputs": [
    {
     "name": "stdout",
     "output_type": "stream",
     "text": [
      "The original elements before shallow copying\n",
      "1 2 [3, 5] 4 \r\n",
      "The original elements after shallow copying\n",
      "1 2 ['vaibh', 5] 4 "
     ]
    }
   ],
   "source": [
    "#copy.copy() # it creates a copy of the  originallist but any changes in the copied list changes the orignal list\n",
    "# importing \"copy\" for copy operations\n",
    "import copy\n",
    "\n",
    "# initializing list 1\n",
    "li1 = [1, 2, [3,5], 4]\n",
    "\n",
    "# using copy to shallow copy\n",
    "li2 = copy.copy(li1)\n",
    "\n",
    "# original elements of list\n",
    "print (\"The original elements before shallow copying\")\n",
    "for i in range(0,len(li1)):\n",
    "\tprint (li1[i],end=\" \")\n",
    "\n",
    "print(\"\\r\")\n",
    "\n",
    "# adding and element to new list\n",
    "li2[2][0] = 'vaibh'\n",
    "\n",
    "# checking if change is reflected\n",
    "print (\"The original elements after shallow copying\")\n",
    "for i in range(0,len( li1)):\n",
    "\tprint (li1[i],end=\" \")\n"
   ]
  },
  {
   "cell_type": "code",
   "execution_count": 70,
   "id": "803934f9",
   "metadata": {},
   "outputs": [
    {
     "name": "stdout",
     "output_type": "stream",
     "text": [
      "The original elements before deep copying\n",
      "1 2 [3, 5] 4 \r\n",
      "The new list of elements after deep copying \n",
      "1 2 [7, 5] 4 \r\n",
      "The original elements after deep copying\n",
      "1 2 [3, 5] 4 "
     ]
    }
   ],
   "source": [
    "#'# importing \"copy\" for copy operations\n",
    "import copy\n",
    "\n",
    "# initializing list 1\n",
    "li1 = [1, 2, [3,5], 4]\n",
    "\n",
    "# using deepcopy to deep copy\n",
    "li2 = copy.deepcopy(li1)\n",
    "\n",
    "# original elements of list\n",
    "print (\"The original elements before deep copying\")\n",
    "for i in range(0,len(li1)):\n",
    "\tprint (li1[i],end=\" \")\n",
    "\n",
    "print(\"\\r\")\n",
    "\n",
    "# adding and element to new list\n",
    "li2[2][0] = 7\n",
    "\n",
    "# Change is reflected in l2\n",
    "print (\"The new list of elements after deep copying \")\n",
    "for i in range(0,len( li1)):\n",
    "\tprint (li2[i],end=\" \")\n",
    "\n",
    "print(\"\\r\")\n",
    "\n",
    "# Change is NOT reflected in original list\n",
    "# as it is a deep copy\n",
    "print (\"The original elements after deep copying\")\n",
    "for i in range(0,len( li1)):\n",
    "\tprint (li1[i],end=\" \")\n",
    "\n"
   ]
  }
 ],
 "metadata": {
  "kernelspec": {
   "display_name": "Python 3 (ipykernel)",
   "language": "python",
   "name": "python3"
  },
  "language_info": {
   "codemirror_mode": {
    "name": "ipython",
    "version": 3
   },
   "file_extension": ".py",
   "mimetype": "text/x-python",
   "name": "python",
   "nbconvert_exporter": "python",
   "pygments_lexer": "ipython3",
   "version": "3.9.12"
  }
 },
 "nbformat": 4,
 "nbformat_minor": 5
}
