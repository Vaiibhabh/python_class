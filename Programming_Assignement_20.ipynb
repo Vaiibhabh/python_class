{
 "cells": [
  {
   "cell_type": "markdown",
   "id": "d176615d",
   "metadata": {},
   "source": [
    "# Question1\n",
    "Create a function that takes a list of strings and integers, and filters out the list so that it returns a list of integers only.\n",
    "Examples\n",
    "filter_list([1, 2, 3, \"a\", \"b\", 4]) ➞ [1, 2, 3, 4]\n",
    "\n",
    "filter_list([\"A\", 0, \"Edabit\", 1729, \"Python\", \"1729\"]) ➞ [0, 1729]\n",
    "\n",
    "filter_list([\"Nothing\", \"here\"]) ➞ []\n"
   ]
  },
  {
   "cell_type": "code",
   "execution_count": 9,
   "id": "b7b1c5b7",
   "metadata": {},
   "outputs": [],
   "source": [
    "def filter_list(lst):\n",
    "    l=[]\n",
    "    for i in range(0,len(lst)):\n",
    "        if type(lst[i])==int:\n",
    "            l.append(lst[i])\n",
    "    print(l)\n",
    "    "
   ]
  },
  {
   "cell_type": "code",
   "execution_count": 12,
   "id": "dbb9105f",
   "metadata": {},
   "outputs": [
    {
     "name": "stdout",
     "output_type": "stream",
     "text": [
      "[1, 2, 3, 4]\n"
     ]
    }
   ],
   "source": [
    "filter_list([1, 2, 3, \"a\", \"b\", 4])"
   ]
  },
  {
   "cell_type": "code",
   "execution_count": 13,
   "id": "5cabb8be",
   "metadata": {},
   "outputs": [
    {
     "name": "stdout",
     "output_type": "stream",
     "text": [
      "[0, 1729]\n"
     ]
    }
   ],
   "source": [
    "filter_list([\"A\", 0, \"Edabit\", 1729, \"Python\", \"1729\"])"
   ]
  },
  {
   "cell_type": "code",
   "execution_count": 14,
   "id": "8a703fd6",
   "metadata": {},
   "outputs": [
    {
     "name": "stdout",
     "output_type": "stream",
     "text": [
      "[]\n"
     ]
    }
   ],
   "source": [
    "filter_list([\"Nothing\", \"here\"])"
   ]
  },
  {
   "cell_type": "markdown",
   "id": "ca96c11c",
   "metadata": {},
   "source": [
    "# Question2\n",
    "Given a list of numbers, create a function which returns the list but with each element's index in the list added to itself. This means you add 0 to the number at index 0, add 1 to the number at index 1, etc...\n",
    "Examples\n",
    "add_indexes([0, 0, 0, 0, 0]) ➞ [0, 1, 2, 3, 4]\n",
    "\n",
    "add_indexes([1, 2, 3, 4, 5]) ➞ [1, 3, 5, 7, 9]\n",
    "\n",
    "add_indexes([5, 4, 3, 2, 1]) ➞ [5, 5, 5, 5, 5]\n"
   ]
  },
  {
   "cell_type": "code",
   "execution_count": 17,
   "id": "96032444",
   "metadata": {},
   "outputs": [],
   "source": [
    "def add_indexes(lst):\n",
    "    l=[]\n",
    "    for i in range(0,len(lst)):\n",
    "        \n",
    "        l.append(lst[i]+i)\n",
    "        \n",
    "    print(l)"
   ]
  },
  {
   "cell_type": "code",
   "execution_count": 18,
   "id": "cda9e8f0",
   "metadata": {},
   "outputs": [
    {
     "name": "stdout",
     "output_type": "stream",
     "text": [
      "[0, 1, 2, 3, 4]\n"
     ]
    }
   ],
   "source": [
    "add_indexes([0, 0, 0, 0, 0])"
   ]
  },
  {
   "cell_type": "code",
   "execution_count": 21,
   "id": "a77ca46c",
   "metadata": {},
   "outputs": [
    {
     "name": "stdout",
     "output_type": "stream",
     "text": [
      "[1, 3, 5, 7, 9]\n"
     ]
    }
   ],
   "source": [
    "add_indexes([1, 2, 3, 4, 5]) "
   ]
  },
  {
   "cell_type": "markdown",
   "id": "c5b3fb63",
   "metadata": {},
   "source": [
    "# Question3\n",
    "Create a function that takes the height and radius of a cone as arguments and returns the volume of the cone rounded to the nearest hundredth. See the resources tab for the formula.\n",
    " \n",
    "Examples\n",
    "cone_volume(3, 2) ➞ 12.57\n",
    "\n",
    "cone_volume(15, 6) ➞ 565.49\n",
    "\n",
    "cone_volume(18, 0) ➞ 0\n"
   ]
  },
  {
   "cell_type": "code",
   "execution_count": 28,
   "id": "77846e0e",
   "metadata": {},
   "outputs": [],
   "source": [
    "import math\n",
    "def cone_volume(height,radius):\n",
    "    volume= ((math.pi*radius**2)*height)/3\n",
    "    return round(volume,2)"
   ]
  },
  {
   "cell_type": "code",
   "execution_count": 29,
   "id": "1ff9661d",
   "metadata": {},
   "outputs": [
    {
     "data": {
      "text/plain": [
       "12.57"
      ]
     },
     "execution_count": 29,
     "metadata": {},
     "output_type": "execute_result"
    }
   ],
   "source": [
    "cone_volume(3, 2)"
   ]
  },
  {
   "cell_type": "code",
   "execution_count": 30,
   "id": "9b15458e",
   "metadata": {},
   "outputs": [
    {
     "data": {
      "text/plain": [
       "565.49"
      ]
     },
     "execution_count": 30,
     "metadata": {},
     "output_type": "execute_result"
    }
   ],
   "source": [
    "cone_volume(15, 6) "
   ]
  },
  {
   "cell_type": "markdown",
   "id": "0870d580",
   "metadata": {},
   "source": [
    "# Question4\n",
    "This Triangular Number Sequence is generated from a pattern of dots that form a triangle. The first 5 numbers of the sequence, or dots, are: \n",
    "1, 3, 6, 10, 15\n",
    "This means that the first triangle has just one dot, the second one has three dots, the third one has 6 dots and so on.\n",
    "Write a function that gives the number of dots with its corresponding triangle number of the sequence.\n",
    "Examples\n",
    "triangle(1) ➞ 1\n",
    "\n",
    "triangle(6) ➞ 21\n",
    "\n",
    "triangle(215) ➞ 23220\n"
   ]
  },
  {
   "cell_type": "code",
   "execution_count": 31,
   "id": "b941d2a2",
   "metadata": {},
   "outputs": [
    {
     "name": "stdout",
     "output_type": "stream",
     "text": [
      "Enter the triangle number :10\n",
      "The 10th triangle has 55 dots \n"
     ]
    }
   ],
   "source": [
    "def triangle(n):\n",
    "    return n*(n+1)*0.5\n",
    "\n",
    "n = int(input('Enter the triangle number :'))\n",
    "print(\"The {}th triangle has {} dots \".format(n,int(triangle(n))))\n",
    "     "
   ]
  },
  {
   "cell_type": "code",
   "execution_count": 32,
   "id": "c5ea51f7",
   "metadata": {},
   "outputs": [
    {
     "data": {
      "text/plain": [
       "23220.0"
      ]
     },
     "execution_count": 32,
     "metadata": {},
     "output_type": "execute_result"
    }
   ],
   "source": [
    "triangle(215)"
   ]
  },
  {
   "cell_type": "markdown",
   "id": "de41f5ae",
   "metadata": {},
   "source": [
    "# Question5\n",
    "Create a function that takes a list of numbers between 1 and 10 (excluding one number) and returns the missing number.\n",
    "Examples\n",
    "missing_num([1, 2, 3, 4, 6, 7, 8, 9, 10]) ➞ 5\n",
    "\n",
    "missing_num([7, 2, 3, 6, 5, 9, 1, 4, 8]) ➞ 10\n",
    "\n",
    "missing_num([10, 5, 1, 2, 4, 6, 8, 3, 9]) ➞ 7\n"
   ]
  },
  {
   "cell_type": "code",
   "execution_count": 34,
   "id": "dd3095da",
   "metadata": {},
   "outputs": [],
   "source": [
    "def missing_num(lst):\n",
    "    total = sum([x for x in range(11)])\n",
    "    sum_Of_list = sum(lst)\n",
    "    return total - sum_Of_list"
   ]
  },
  {
   "cell_type": "code",
   "execution_count": 35,
   "id": "c82d908c",
   "metadata": {},
   "outputs": [
    {
     "data": {
      "text/plain": [
       "10"
      ]
     },
     "execution_count": 35,
     "metadata": {},
     "output_type": "execute_result"
    }
   ],
   "source": [
    "missing_num([7, 2, 3, 6, 5, 9, 1, 4, 8])"
   ]
  },
  {
   "cell_type": "code",
   "execution_count": 36,
   "id": "f073737f",
   "metadata": {},
   "outputs": [
    {
     "data": {
      "text/plain": [
       "7"
      ]
     },
     "execution_count": 36,
     "metadata": {},
     "output_type": "execute_result"
    }
   ],
   "source": [
    "missing_num([10, 5, 1, 2, 4, 6, 8, 3, 9])"
   ]
  },
  {
   "cell_type": "code",
   "execution_count": null,
   "id": "71e7698d",
   "metadata": {},
   "outputs": [],
   "source": []
  }
 ],
 "metadata": {
  "kernelspec": {
   "display_name": "Python 3 (ipykernel)",
   "language": "python",
   "name": "python3"
  },
  "language_info": {
   "codemirror_mode": {
    "name": "ipython",
    "version": 3
   },
   "file_extension": ".py",
   "mimetype": "text/x-python",
   "name": "python",
   "nbconvert_exporter": "python",
   "pygments_lexer": "ipython3",
   "version": "3.9.12"
  }
 },
 "nbformat": 4,
 "nbformat_minor": 5
}
