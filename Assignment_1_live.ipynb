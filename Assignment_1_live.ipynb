{
  "nbformat": 4,
  "nbformat_minor": 0,
  "metadata": {
    "colab": {
      "provenance": []
    },
    "kernelspec": {
      "name": "python3",
      "display_name": "Python 3"
    },
    "language_info": {
      "name": "python"
    }
  },
  "cells": [
    {
      "cell_type": "markdown",
      "source": [
        "# Ques 1. Find out all the types of error that we have encountered in our lecture and why? Also include the examples."
      ],
      "metadata": {
        "id": "ZXj7-RH3taI2"
      }
    },
    {
      "cell_type": "markdown",
      "source": [
        "**Examples of the types of error are below**"
      ],
      "metadata": {
        "id": "cYBwPPLatVmu"
      }
    },
    {
      "cell_type": "code",
      "execution_count": null,
      "metadata": {
        "id": "gff_QB0qZq0N"
      },
      "outputs": [],
      "source": [
        "''' Que 1. Find out all the types of error that we have encountered in our lecture and why? Also include the examples.\n",
        "# Ans. In our lectures till now we have enocuntered four types of errors namely: SyntexError, NameError, TypeError, ValueError\n",
        "# SyntexError: It occure because of grammatical mistake in the python language.\n",
        "# NameError : It occurs beacuse of  variable name is not defined and we are calling the variable in the code.\n",
        "# TypeError : It occurs, if two differet types of data type are called for different types of mathematical opertaions without \n",
        "converting the data type into similar type of data.\n",
        "# ValueError : It occurs if you enter a different type into another data type like in a int data type you are giving the value of a float data type.'''\n",
        "ten =10"
      ]
    },
    {
      "cell_type": "code",
      "source": [
        "print (ten"
      ],
      "metadata": {
        "colab": {
          "base_uri": "https://localhost:8080/",
          "height": 131
        },
        "id": "SK91g-MIa5Iq",
        "outputId": "487c0349-ea20-4b6a-fddb-a5cae4bfe0c5"
      },
      "execution_count": null,
      "outputs": [
        {
          "output_type": "error",
          "ename": "SyntaxError",
          "evalue": "ignored",
          "traceback": [
            "\u001b[0;36m  File \u001b[0;32m\"<ipython-input-3-814fc2ead12c>\"\u001b[0;36m, line \u001b[0;32m1\u001b[0m\n\u001b[0;31m    print (ten\u001b[0m\n\u001b[0m              ^\u001b[0m\n\u001b[0;31mSyntaxError\u001b[0m\u001b[0;31m:\u001b[0m unexpected EOF while parsing\n"
          ]
        }
      ]
    },
    {
      "cell_type": "code",
      "source": [
        "print (Ten)"
      ],
      "metadata": {
        "colab": {
          "base_uri": "https://localhost:8080/",
          "height": 166
        },
        "id": "PYzcWOsebHkM",
        "outputId": "e19d52e4-1a48-4268-c950-1c9bdc393244"
      },
      "execution_count": null,
      "outputs": [
        {
          "output_type": "error",
          "ename": "NameError",
          "evalue": "ignored",
          "traceback": [
            "\u001b[0;31m---------------------------------------------------------------------------\u001b[0m",
            "\u001b[0;31mNameError\u001b[0m                                 Traceback (most recent call last)",
            "\u001b[0;32m<ipython-input-4-f01d413dd269>\u001b[0m in \u001b[0;36m<module>\u001b[0;34m\u001b[0m\n\u001b[0;32m----> 1\u001b[0;31m \u001b[0mprint\u001b[0m \u001b[0;34m(\u001b[0m\u001b[0mTen\u001b[0m\u001b[0;34m)\u001b[0m\u001b[0;34m\u001b[0m\u001b[0;34m\u001b[0m\u001b[0m\n\u001b[0m",
            "\u001b[0;31mNameError\u001b[0m: name 'Ten' is not defined"
          ]
        }
      ]
    },
    {
      "cell_type": "code",
      "source": [
        "a= 20\n",
        "b = 'seven'\n",
        "c = a + b\n",
        "print (c)"
      ],
      "metadata": {
        "id": "0_PcdTrIv7vC",
        "colab": {
          "base_uri": "https://localhost:8080/",
          "height": 217
        },
        "outputId": "ab63ff13-8c07-44c7-9c13-3f321b2144ec"
      },
      "execution_count": 5,
      "outputs": [
        {
          "output_type": "error",
          "ename": "TypeError",
          "evalue": "ignored",
          "traceback": [
            "\u001b[0;31m---------------------------------------------------------------------------\u001b[0m",
            "\u001b[0;31mTypeError\u001b[0m                                 Traceback (most recent call last)",
            "\u001b[0;32m<ipython-input-5-84e43ce6999f>\u001b[0m in \u001b[0;36m<module>\u001b[0;34m\u001b[0m\n\u001b[1;32m      1\u001b[0m \u001b[0ma\u001b[0m\u001b[0;34m=\u001b[0m \u001b[0;36m20\u001b[0m\u001b[0;34m\u001b[0m\u001b[0;34m\u001b[0m\u001b[0m\n\u001b[1;32m      2\u001b[0m \u001b[0mb\u001b[0m \u001b[0;34m=\u001b[0m \u001b[0;34m'seven'\u001b[0m\u001b[0;34m\u001b[0m\u001b[0;34m\u001b[0m\u001b[0m\n\u001b[0;32m----> 3\u001b[0;31m \u001b[0mc\u001b[0m \u001b[0;34m=\u001b[0m \u001b[0ma\u001b[0m \u001b[0;34m+\u001b[0m \u001b[0mb\u001b[0m\u001b[0;34m\u001b[0m\u001b[0;34m\u001b[0m\u001b[0m\n\u001b[0m\u001b[1;32m      4\u001b[0m \u001b[0mprint\u001b[0m \u001b[0;34m(\u001b[0m\u001b[0mc\u001b[0m\u001b[0;34m)\u001b[0m\u001b[0;34m\u001b[0m\u001b[0;34m\u001b[0m\u001b[0m\n",
            "\u001b[0;31mTypeError\u001b[0m: unsupported operand type(s) for +: 'int' and 'str'"
          ]
        }
      ]
    },
    {
      "cell_type": "code",
      "source": [
        " a = input ('What is your age : ')\n",
        " b = int (input ('current year :'))\n",
        " c = b-a\n",
        " print (f'you were born on {c} ')\n"
      ],
      "metadata": {
        "colab": {
          "base_uri": "https://localhost:8080/",
          "height": 252
        },
        "id": "aSZs5SLT9ZM_",
        "outputId": "30639dc6-53d7-4aef-e1a6-c46d13fe9df4"
      },
      "execution_count": 7,
      "outputs": [
        {
          "name": "stdout",
          "output_type": "stream",
          "text": [
            "What is your age : 10.2\n",
            "current year :2022.0\n"
          ]
        },
        {
          "output_type": "error",
          "ename": "ValueError",
          "evalue": "ignored",
          "traceback": [
            "\u001b[0;31m---------------------------------------------------------------------------\u001b[0m",
            "\u001b[0;31mValueError\u001b[0m                                Traceback (most recent call last)",
            "\u001b[0;32m<ipython-input-7-7115e2bdaa4e>\u001b[0m in \u001b[0;36m<module>\u001b[0;34m\u001b[0m\n\u001b[1;32m      1\u001b[0m \u001b[0ma\u001b[0m \u001b[0;34m=\u001b[0m \u001b[0minput\u001b[0m \u001b[0;34m(\u001b[0m\u001b[0;34m'What is your age : '\u001b[0m\u001b[0;34m)\u001b[0m\u001b[0;34m\u001b[0m\u001b[0;34m\u001b[0m\u001b[0m\n\u001b[0;32m----> 2\u001b[0;31m \u001b[0mb\u001b[0m \u001b[0;34m=\u001b[0m \u001b[0mint\u001b[0m \u001b[0;34m(\u001b[0m\u001b[0minput\u001b[0m \u001b[0;34m(\u001b[0m\u001b[0;34m'current year :'\u001b[0m\u001b[0;34m)\u001b[0m\u001b[0;34m)\u001b[0m\u001b[0;34m\u001b[0m\u001b[0;34m\u001b[0m\u001b[0m\n\u001b[0m\u001b[1;32m      3\u001b[0m \u001b[0mc\u001b[0m \u001b[0;34m=\u001b[0m \u001b[0mb\u001b[0m\u001b[0;34m-\u001b[0m\u001b[0ma\u001b[0m\u001b[0;34m\u001b[0m\u001b[0;34m\u001b[0m\u001b[0m\n\u001b[1;32m      4\u001b[0m \u001b[0mprint\u001b[0m \u001b[0;34m(\u001b[0m\u001b[0;34mf'you were born on {c} '\u001b[0m\u001b[0;34m)\u001b[0m\u001b[0;34m\u001b[0m\u001b[0;34m\u001b[0m\u001b[0m\n",
            "\u001b[0;31mValueError\u001b[0m: invalid literal for int() with base 10: '2022.0'"
          ]
        }
      ]
    },
    {
      "cell_type": "markdown",
      "source": [
        "\n",
        "# Que 2. Take input A and B and print their sum, mul, div, square of the nos.\n"
      ],
      "metadata": {
        "id": "BofkbR92ALil"
      }
    },
    {
      "cell_type": "code",
      "source": [
        "# Ans 2\n",
        "A = float (input ('Enter the value of A :' ))\n",
        "B = float (input ('Enter the value of B :'))\n",
        "C = float (A+B)\n",
        "print(f'The sum of A and B is: {C}')\n",
        "D = float (A*B)\n",
        "print(f'The product of A and B is: {D}')\n",
        "E = float (A/B)\n",
        "print(f'The division of A and B is: {E}')\n",
        "F = float (A**2)\n",
        "G = float (B**2)\n",
        "print(f'The square of A and B is: {F} and {G}')"
      ],
      "metadata": {
        "colab": {
          "base_uri": "https://localhost:8080/"
        },
        "id": "ISyOfR_E_Sx1",
        "outputId": "96bae690-8ea8-41ce-af31-f497bca9b0be"
      },
      "execution_count": 13,
      "outputs": [
        {
          "output_type": "stream",
          "name": "stdout",
          "text": [
            "Enter the value of A :20\n",
            "Enter the value of B :39.75\n",
            "The sum of A and B is: 59.75\n",
            "The product of A and B is: 795.0\n",
            "The division of A and B is: 0.5031446540880503\n",
            "The square of A and B is: 400.0 and 1580.0625\n"
          ]
        }
      ]
    },
    {
      "cell_type": "markdown",
      "source": [
        "# Que 3. How many reserve keywords are there in python and why we should not use them as a variable name."
      ],
      "metadata": {
        "id": "E2dsdnBDDk14"
      }
    },
    {
      "cell_type": "markdown",
      "source": [
        "#### Ans 3- The follwoing are the reserved keywords in python:\n",
        "and as assert break class continue def del elif else except exec finally for from global \n",
        "if import in is  lambda  not  or  pass  print  raise  return  try  while  with  yield \n"
      ],
      "metadata": {
        "id": "-CzTl4y-DtEe"
      }
    },
    {
      "cell_type": "code",
      "source": [
        "'''we should not use them as varible because, once we use them in a varible during programming they will overwrite the value above \n",
        "the reserve finction intended use and later it will show TypeError'''"
      ],
      "metadata": {
        "id": "47cR_c1MCb-3"
      },
      "execution_count": 14,
      "outputs": []
    },
    {
      "cell_type": "markdown",
      "source": [
        "# Que 4. Create email ids with the user inputs. in the following format - lastname.firstname@gmail.com"
      ],
      "metadata": {
        "id": "SsdNPeevGU5d"
      }
    },
    {
      "cell_type": "code",
      "source": [
        "firstname = input ('Please enter your first name:')\n",
        "lastname = input (' Please enter your last name: ')\n",
        "print (f'You entered your first name as {firstname} and last name as {lastname}')\n",
        "print (f'You can have your email id as: {lastname}.{firstname}@gmail.com')"
      ],
      "metadata": {
        "colab": {
          "base_uri": "https://localhost:8080/"
        },
        "id": "IEbS2GECGbxN",
        "outputId": "b031ffc7-2c7d-45b3-d771-f40d942ff3a6"
      },
      "execution_count": 15,
      "outputs": [
        {
          "output_type": "stream",
          "name": "stdout",
          "text": [
            "Please enter your first name:vaibhav\n",
            " Please enter your last name: jaiswal\n",
            "You entered your first name as vaibhav and last name as jaiswal\n",
            "You can have your email id as: jaiswal.vaibhav@gmail.com\n"
          ]
        }
      ]
    },
    {
      "cell_type": "markdown",
      "source": [
        "# Que 5. Try to print the following lines -\n",
        "*   Hi I'm Sunny\n",
        "*   My address is 22\\3\n",
        "*   I earn 20$ daily\n",
        "\n",
        "\n",
        "\n",
        "\n",
        "\n",
        "\n",
        "."
      ],
      "metadata": {
        "id": "-gstkiinICZ2"
      }
    },
    {
      "cell_type": "code",
      "source": [
        "print (\"\"\"Hi I'am Sunny\"\"\")\n",
        "print (\"\"\"My address is 22/3\"\"\")\n",
        "print (\"\"\"I earn 20$ daily\"\"\")"
      ],
      "metadata": {
        "colab": {
          "base_uri": "https://localhost:8080/"
        },
        "id": "b3U0JlETIGUV",
        "outputId": "3996cc31-e357-46f0-b0bb-c3106a3c02bc"
      },
      "execution_count": 16,
      "outputs": [
        {
          "output_type": "stream",
          "name": "stdout",
          "text": [
            "Hi I'am Sunny\n",
            "My address is 22/3\n",
            "I earn 20$ daily\n"
          ]
        }
      ]
    },
    {
      "cell_type": "markdown",
      "source": [
        "# Que 6. Take user input (name, address, date of birth etc) to fill a form for your college and print their email IDs"
      ],
      "metadata": {
        "id": "-vFmV6_3JD-W"
      }
    },
    {
      "cell_type": "code",
      "source": [],
      "metadata": {
        "id": "-CWaH75DMffV"
      },
      "execution_count": null,
      "outputs": []
    },
    {
      "cell_type": "code",
      "source": [
        "name = input ('Plaese enter your name :')\n",
        "address = input ('Please enter your place: ')\n",
        "date_of_birth = input ('Please enter your DOB in ddmmyyyy format: ')\n",
        "preferred_name = input ('Please enter your preferred name for email id:')\n",
        "preferred_mail = input (\"Please enter your preferred mail wesite name: \")\n",
        "print(f'''Hey {name}, you live in {address} and you were born on {date_of_birth}. \n",
        "You choose to have  {preferred_name} as preferred name on your mail id as shown here : {preferred_name}_{date_of_birth}@{preferred_mail}.com''')"
      ],
      "metadata": {
        "colab": {
          "base_uri": "https://localhost:8080/"
        },
        "id": "MyK3MA53JH5F",
        "outputId": "058c5407-89c3-49e2-96d9-8cd451ca6e64"
      },
      "execution_count": 20,
      "outputs": [
        {
          "output_type": "stream",
          "name": "stdout",
          "text": [
            "Plaese enter your name :Rakesh\n",
            "Please enter your place: Haryana\n",
            "Please enter your DOB in ddmmyyyy format: 23111989\n",
            " Please enter your preferred name for email id:rocky\n",
            "Please enter your preferred mail wesite name: yahoo\n",
            "Hey Rakesh, you live in Haryana and you were born on 23111989. \n",
            "You choose to have  rocky as preferred name on your mail id as shown here : rocky_23111989@yahoo.com\n"
          ]
        }
      ]
    },
    {
      "cell_type": "markdown",
      "source": [
        "# Que 7. Convert the following -\n",
        "*   \"22.4\" into integer\n",
        "*   \"22\" into complex no.\n",
        "\n"
      ],
      "metadata": {
        "id": "tgrRlC0OMY9d"
      }
    },
    {
      "cell_type": "code",
      "source": [
        "A = 22.4\n",
        "print (int(A))"
      ],
      "metadata": {
        "colab": {
          "base_uri": "https://localhost:8080/"
        },
        "id": "IJI-RVbbMiXF",
        "outputId": "b4390607-d931-4d76-aae4-277a7a1c73cd"
      },
      "execution_count": 21,
      "outputs": [
        {
          "output_type": "stream",
          "name": "stdout",
          "text": [
            "22\n"
          ]
        }
      ]
    },
    {
      "cell_type": "code",
      "source": [
        "B= 22\n",
        "print (complex (B))"
      ],
      "metadata": {
        "colab": {
          "base_uri": "https://localhost:8080/"
        },
        "id": "oZTKEGz8MtB9",
        "outputId": "12d0aaef-0a94-4e9e-f311-2db303c81e57"
      },
      "execution_count": 22,
      "outputs": [
        {
          "output_type": "stream",
          "name": "stdout",
          "text": [
            "(22+0j)\n"
          ]
        }
      ]
    }
  ]
}