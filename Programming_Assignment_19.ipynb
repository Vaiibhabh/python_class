{
 "cells": [
  {
   "cell_type": "markdown",
   "id": "28abadba",
   "metadata": {},
   "source": [
    "# Question1\n",
    "Create a function that takes a string and returns a string in which each character is repeated once.\n",
    "Examples\n",
    "double_char(\"String\") ➞ \"SSttrriinngg\"\n",
    "\n",
    "double_char(\"Hello World!\") ➞ \"HHeelllloo  WWoorrlldd!!\"\n",
    "\n",
    "double_char(\"1234!_ \") ➞ \"11223344!!__  \"\n"
   ]
  },
  {
   "cell_type": "code",
   "execution_count": 19,
   "id": "832196d1",
   "metadata": {},
   "outputs": [],
   "source": [
    "def double_char(s):\n",
    "    l=[]\n",
    "    for i in range(0,len(s)):\n",
    "        s1= s[i]+s[i]\n",
    "        l.append(s1)\n",
    "    print(''.join(l))"
   ]
  },
  {
   "cell_type": "code",
   "execution_count": 20,
   "id": "0472cf8b",
   "metadata": {},
   "outputs": [
    {
     "name": "stdout",
     "output_type": "stream",
     "text": [
      "HHeelllloo  WWoorrlldd!!\n"
     ]
    }
   ],
   "source": [
    "double_char(\"Hello World!\")"
   ]
  },
  {
   "cell_type": "code",
   "execution_count": 21,
   "id": "06c2dec1",
   "metadata": {},
   "outputs": [
    {
     "name": "stdout",
     "output_type": "stream",
     "text": [
      "11223344!!__  \n"
     ]
    }
   ],
   "source": [
    "double_char(\"1234!_ \")"
   ]
  },
  {
   "cell_type": "markdown",
   "id": "8d3d990d",
   "metadata": {},
   "source": [
    "# Question2\n",
    "Create a function that reverses a boolean value and returns the string \"boolean expected\" if another variable type is given.\n",
    "Examples\n",
    "reverse(True) ➞ False\n",
    "\n",
    "reverse(False) ➞ True\n",
    "\n",
    "reverse(0) ➞ \"boolean expected\"\n",
    "\n",
    "reverse(None) ➞ \"boolean expected\"\n"
   ]
  },
  {
   "cell_type": "code",
   "execution_count": 36,
   "id": "737fed1b",
   "metadata": {},
   "outputs": [],
   "source": [
    "def reverse(n):\n",
    "    if type(n)==int:\n",
    "        return 'boolean expected'\n",
    "    elif type(n)== str:\n",
    "        return 'boolean expected'\n",
    "    elif n==True:\n",
    "        return False\n",
    "    else:\n",
    "        return True"
   ]
  },
  {
   "cell_type": "code",
   "execution_count": 37,
   "id": "c18b6c28",
   "metadata": {},
   "outputs": [
    {
     "data": {
      "text/plain": [
       "True"
      ]
     },
     "execution_count": 37,
     "metadata": {},
     "output_type": "execute_result"
    }
   ],
   "source": [
    "reverse(False) "
   ]
  },
  {
   "cell_type": "code",
   "execution_count": 38,
   "id": "05feb0fd",
   "metadata": {},
   "outputs": [
    {
     "data": {
      "text/plain": [
       "False"
      ]
     },
     "execution_count": 38,
     "metadata": {},
     "output_type": "execute_result"
    }
   ],
   "source": [
    "reverse(True)"
   ]
  },
  {
   "cell_type": "markdown",
   "id": "22434e80",
   "metadata": {},
   "source": [
    "# Question3\n",
    "Create a function that returns the thickness (in meters) of a piece of paper after folding it n number of times. The paper starts off with a thickness of 0.5mm.\n",
    "Examples\n",
    "num_layers(1) ➞ \"0.001m\"\n",
    "# Paper folded once is 1mm (equal to 0.001m)\n",
    "\n",
    "num_layers(4) ➞ \"0.008m\"\n",
    "# Paper folded 4 times is 8mm (equal to 0.008m)\n",
    "\n",
    "num_layers(21) ➞ \"1048.576m\"\n",
    "# Paper folded 21 times is 1048576mm (equal to 1048.576m)\n"
   ]
  },
  {
   "cell_type": "code",
   "execution_count": 56,
   "id": "474e8d1e",
   "metadata": {},
   "outputs": [],
   "source": [
    "def num_layers(n):\n",
    "    t=.0005\n",
    "    for _ in range(n):\n",
    "        t=t*2\n",
    "    return str(t)+ ' m'"
   ]
  },
  {
   "cell_type": "code",
   "execution_count": 57,
   "id": "e2cf32c4",
   "metadata": {},
   "outputs": [
    {
     "data": {
      "text/plain": [
       "'0.008 m'"
      ]
     },
     "execution_count": 57,
     "metadata": {},
     "output_type": "execute_result"
    }
   ],
   "source": [
    "num_layers(4)"
   ]
  },
  {
   "cell_type": "code",
   "execution_count": 58,
   "id": "3d429d97",
   "metadata": {},
   "outputs": [
    {
     "data": {
      "text/plain": [
       "'1048.576 m'"
      ]
     },
     "execution_count": 58,
     "metadata": {},
     "output_type": "execute_result"
    }
   ],
   "source": [
    "num_layers(21)"
   ]
  },
  {
   "cell_type": "markdown",
   "id": "2effff88",
   "metadata": {},
   "source": [
    "# Question4\n",
    "Create a function that takes a single string as argument and returns an ordered list containing the indices of all capital letters in the string.\n",
    "Examples\n",
    "index_of_caps(\"eDaBiT\") ➞ [1, 3, 5]\n",
    "\n",
    "index_of_caps(\"eQuINoX\") ➞ [1, 3, 4, 6]\n",
    "\n",
    "index_of_caps(\"determine\") ➞ []\n",
    "\n",
    "index_of_caps(\"STRIKE\") ➞ [0, 1, 2, 3, 4, 5]\n",
    "\n",
    "index_of_caps(\"sUn\") ➞ [1]\n"
   ]
  },
  {
   "cell_type": "code",
   "execution_count": 72,
   "id": "8b6e600d",
   "metadata": {},
   "outputs": [],
   "source": [
    "def index_of_caps(string):\n",
    "    l = []\n",
    "    for i in range(len(string)):\n",
    "        if string[i].isupper():\n",
    "             l.append(i)\n",
    "    return 'the indices is {0}'.format(l)\n"
   ]
  },
  {
   "cell_type": "code",
   "execution_count": 73,
   "id": "29f1673f",
   "metadata": {},
   "outputs": [
    {
     "data": {
      "text/plain": [
       "'the indices is [1, 3, 5]'"
      ]
     },
     "execution_count": 73,
     "metadata": {},
     "output_type": "execute_result"
    }
   ],
   "source": [
    "index_of_caps(\"eDaBiT\")"
   ]
  },
  {
   "cell_type": "code",
   "execution_count": 74,
   "id": "55a5b936",
   "metadata": {},
   "outputs": [
    {
     "data": {
      "text/plain": [
       "'the indices is [1, 3, 4, 6]'"
      ]
     },
     "execution_count": 74,
     "metadata": {},
     "output_type": "execute_result"
    }
   ],
   "source": [
    "index_of_caps(\"eQuINoX\")"
   ]
  },
  {
   "cell_type": "code",
   "execution_count": 75,
   "id": "22d1ab5e",
   "metadata": {},
   "outputs": [
    {
     "data": {
      "text/plain": [
       "'the indices is []'"
      ]
     },
     "execution_count": 75,
     "metadata": {},
     "output_type": "execute_result"
    }
   ],
   "source": [
    "index_of_caps(\"determine\")"
   ]
  },
  {
   "cell_type": "markdown",
   "id": "efaa097c",
   "metadata": {},
   "source": [
    "# Question5\n",
    "Using list comprehensions, create a function that finds all even numbers from 1 to the given number.\n",
    "Examples\n",
    "find_even_nums(8) ➞ [2, 4, 6, 8]\n",
    "\n",
    "find_even_nums(4) ➞ [2, 4]\n",
    "\n",
    "find_even_nums(2) ➞ [2]\n"
   ]
  },
  {
   "cell_type": "code",
   "execution_count": 83,
   "id": "af6d66e9",
   "metadata": {},
   "outputs": [
    {
     "name": "stdout",
     "output_type": "stream",
     "text": [
      "Enter a number : 100\n",
      "[2, 4, 6, 8, 10, 12, 14, 16, 18, 20, 22, 24, 26, 28, 30, 32, 34, 36, 38, 40, 42, 44, 46, 48, 50, 52, 54, 56, 58, 60, 62, 64, 66, 68, 70, 72, 74, 76, 78, 80, 82, 84, 86, 88, 90, 92, 94, 96, 98, 100]"
     ]
    }
   ],
   "source": [
    "def find_even_nums(n):\n",
    "    even =[ele for ele in range(2,n+1) if ele % 2 == 0]\n",
    "    print (even, end='')\n",
    "\n",
    "n = int(input('Enter a number : '))\n",
    "find_even_nums(n)\n"
   ]
  },
  {
   "cell_type": "code",
   "execution_count": null,
   "id": "0dde001d",
   "metadata": {},
   "outputs": [],
   "source": []
  }
 ],
 "metadata": {
  "kernelspec": {
   "display_name": "Python 3 (ipykernel)",
   "language": "python",
   "name": "python3"
  },
  "language_info": {
   "codemirror_mode": {
    "name": "ipython",
    "version": 3
   },
   "file_extension": ".py",
   "mimetype": "text/x-python",
   "name": "python",
   "nbconvert_exporter": "python",
   "pygments_lexer": "ipython3",
   "version": "3.9.12"
  }
 },
 "nbformat": 4,
 "nbformat_minor": 5
}
