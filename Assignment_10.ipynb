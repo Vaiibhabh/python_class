{
 "cells": [
  {
   "cell_type": "markdown",
   "id": "2c729d6e",
   "metadata": {},
   "source": [
    "# 1. How do you distinguish between shutil.copy() and shutil.copytree()?"
   ]
  },
  {
   "cell_type": "code",
   "execution_count": null,
   "id": "bcd4c3ef",
   "metadata": {},
   "outputs": [],
   "source": [
    "import shutil, os\n",
    "# shutil.copy ()- this will copy a single file\n",
    "os.chdir('d:\\\\')\n",
    "shutil.copy('d:\\\\Ramu\\\\left.txt', 'd:\\\\Ramu\\\\left2.txt')\n",
    "# shutil.copytree() - this will copy an entire folder and every folder and file conatined within it.\n",
    "os.chdir('d:\\\\')\n",
    "shutil.copytree('d:\\\\Ramu', 'd:\\\\syamau')"
   ]
  },
  {
   "cell_type": "markdown",
   "id": "9ad7fe32",
   "metadata": {},
   "source": [
    "# 2. What function is used to rename files??"
   ]
  },
  {
   "cell_type": "code",
   "execution_count": null,
   "id": "38c45345",
   "metadata": {},
   "outputs": [],
   "source": [
    "shutil.move() fucntion is used for renaming files, as well as moving them."
   ]
  },
  {
   "cell_type": "markdown",
   "id": "928c3bcd",
   "metadata": {},
   "source": [
    "# 3. What is the difference between the delete functions in the send2trash and shutil modules?"
   ]
  },
  {
   "cell_type": "code",
   "execution_count": null,
   "id": "bd197072",
   "metadata": {},
   "outputs": [],
   "source": [
    "Shutil functions permanently remove files and folders, whereas send2trash functions relocate them to the recycling bin."
   ]
  },
  {
   "cell_type": "code",
   "execution_count": 2,
   "id": "98b38bb5",
   "metadata": {},
   "outputs": [],
   "source": [
    "import send2trash"
   ]
  },
  {
   "cell_type": "code",
   "execution_count": null,
   "id": "981ba044",
   "metadata": {},
   "outputs": [],
   "source": [
    "send2trash.send2trash('loctaion of /of /the/ file')"
   ]
  },
  {
   "cell_type": "markdown",
   "id": "13c55c76",
   "metadata": {},
   "source": [
    "# 4.ZipFile objects have a close() method just like File objects’ close() method. What ZipFile method is equivalent to File objects’ open() method?"
   ]
  },
  {
   "cell_type": "code",
   "execution_count": null,
   "id": "aa1099b6",
   "metadata": {},
   "outputs": [],
   "source": [
    "The zipfile.ZipFile(filname, 'r') function is equivalent to the open() function, the first argument is the filename, and the second argument is the mode to open the ZIPfile using mode r,w,or a"
   ]
  },
  {
   "cell_type": "markdown",
   "id": "46c2220a",
   "metadata": {},
   "source": [
    "# 5. Create a programme that searches a folder tree for files with a certain file extension (such as .pdf or .jpg). Copy these files from whatever location they are in to a new folder."
   ]
  },
  {
   "cell_type": "code",
   "execution_count": null,
   "id": "11f9e6e0",
   "metadata": {},
   "outputs": [],
   "source": [
    "import shutil, os\n",
    "def move_file(foldername, fileextension, destinationfolder):\n",
    "    foldername=os.path.abspath(foldername)\n",
    "    destinationfolder= os.path.abspath(destinationfolder)\n",
    "    print('We are searching in', foldername, 'for files with extensions of', ', '.join(fileextension))\n",
    "    for folder, subfolders, file_names in os.walk(foldername):\n",
    "        for filename in file_names:\n",
    "            name, extension = os.path.splitext(filename)\n",
    "            if file_extension in fileeextension:\n",
    "                fileAbsPath = folder + os.path.sep + filename\n",
    "                print('Copying', fileAbsPath, 'to', destinationFolder)\n",
    "                shutil.copy(fileAbsPath, destinationFolder)\n",
    "\n",
    "extensions = ['.jpg', '.pdf']\n",
    "folder = 'InueronFolder'\n",
    "destFolder = 'PracticeFolder'\n",
    "move_file(foldername, fileextension, destinationfolder)"
   ]
  },
  {
   "cell_type": "code",
   "execution_count": null,
   "id": "1221a996",
   "metadata": {},
   "outputs": [],
   "source": []
  },
  {
   "cell_type": "code",
   "execution_count": null,
   "id": "236f6d51",
   "metadata": {},
   "outputs": [],
   "source": []
  }
 ],
 "metadata": {
  "kernelspec": {
   "display_name": "Python 3 (ipykernel)",
   "language": "python",
   "name": "python3"
  },
  "language_info": {
   "codemirror_mode": {
    "name": "ipython",
    "version": 3
   },
   "file_extension": ".py",
   "mimetype": "text/x-python",
   "name": "python",
   "nbconvert_exporter": "python",
   "pygments_lexer": "ipython3",
   "version": "3.9.12"
  }
 },
 "nbformat": 4,
 "nbformat_minor": 5
}
