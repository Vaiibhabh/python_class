{
 "cells": [
  {
   "cell_type": "markdown",
   "id": "10a92a8a",
   "metadata": {},
   "source": [
    "# 1. Create a list called years_list, starting with the year of your birth, and each year thereafter until the year of your fifth birthday. For example, if you were born in 1980. the list would be years_list = [1980, 1981, 1982, 1983, 1984, 1985]."
   ]
  },
  {
   "cell_type": "code",
   "execution_count": 15,
   "id": "f9db0677",
   "metadata": {},
   "outputs": [
    {
     "name": "stdout",
     "output_type": "stream",
     "text": [
      "enter the year of birth: 1990\n",
      "1\n",
      "[1990, 1991]\n",
      "2\n",
      "[1990, 1991, 1992]\n",
      "3\n",
      "[1990, 1991, 1992, 1993]\n",
      "4\n",
      "[1990, 1991, 1992, 1993, 1994]\n",
      "5\n",
      "[1990, 1991, 1992, 1993, 1994, 1995]\n"
     ]
    }
   ],
   "source": [
    "Dob = int(input ('enter the year of birth: '))\n",
    "years_list=[Dob]\n",
    "for i in range(1,6):\n",
    "    print(i)\n",
    "    years_list.append((Dob+i))\n",
    "    print(years_list)"
   ]
  },
  {
   "cell_type": "markdown",
   "id": "03b3ce38",
   "metadata": {},
   "source": [
    "# 2. In which year in years_list was your third birthday? Remember, you were 0 years of age for your first year."
   ]
  },
  {
   "cell_type": "code",
   "execution_count": 21,
   "id": "c3b1d329",
   "metadata": {},
   "outputs": [
    {
     "name": "stdout",
     "output_type": "stream",
     "text": [
      "1993\n"
     ]
    }
   ],
   "source": [
    "#Third birth day year- \n",
    "thrid_birth_year= years_list[3]\n",
    "print(thrid_birth_year)"
   ]
  },
  {
   "cell_type": "markdown",
   "id": "cfe23d40",
   "metadata": {},
   "source": [
    "# 3.In the years list, which year were you the oldest?"
   ]
  },
  {
   "cell_type": "code",
   "execution_count": 22,
   "id": "03a506d4",
   "metadata": {},
   "outputs": [
    {
     "name": "stdout",
     "output_type": "stream",
     "text": [
      "1995\n"
     ]
    }
   ],
   "source": [
    "oldest= years_list[-1]  ## last year\n",
    "print(oldest)"
   ]
  },
  {
   "cell_type": "markdown",
   "id": "7e1a70e6",
   "metadata": {},
   "source": [
    "# 4. Make a list called things with these three strings as elements: \"mozzarella\", \"cinderella\", \"salmonella\"."
   ]
  },
  {
   "cell_type": "code",
   "execution_count": 25,
   "id": "01ea5f22",
   "metadata": {},
   "outputs": [
    {
     "name": "stdout",
     "output_type": "stream",
     "text": [
      "['mozzarella']\n",
      "['mozzarella', 'cinderella']\n",
      "['mozzarella', 'cinderella', 'salmonella']\n"
     ]
    }
   ],
   "source": [
    "things= []\n",
    "things.append('mozzarella')\n",
    "print(things)\n",
    "things.append('cinderella')\n",
    "print(things)\n",
    "things.append('salmonella')\n",
    "print(things)\n",
    "\n",
    "## OR"
   ]
  },
  {
   "cell_type": "code",
   "execution_count": 26,
   "id": "0c01da40",
   "metadata": {},
   "outputs": [
    {
     "name": "stdout",
     "output_type": "stream",
     "text": [
      "0mozzarella\n",
      "1cinderella\n",
      "2salmonella\n"
     ]
    }
   ],
   "source": [
    "things=[]\n",
    "for i in range(0,3):\n",
    "    strings= input(i)\n",
    "    things.append(strings)\n",
    "    "
   ]
  },
  {
   "cell_type": "code",
   "execution_count": 27,
   "id": "9fe3440e",
   "metadata": {},
   "outputs": [
    {
     "name": "stdout",
     "output_type": "stream",
     "text": [
      "['mozzarella', 'cinderella', 'salmonella']\n"
     ]
    }
   ],
   "source": [
    "print(things)"
   ]
  },
  {
   "cell_type": "code",
   "execution_count": 28,
   "id": "ebfd2bed",
   "metadata": {},
   "outputs": [
    {
     "data": {
      "text/plain": [
       "['mozzarella', 'cinderella', 'salmonella']"
      ]
     },
     "execution_count": 28,
     "metadata": {},
     "output_type": "execute_result"
    }
   ],
   "source": [
    "things"
   ]
  },
  {
   "cell_type": "markdown",
   "id": "b5754bce",
   "metadata": {},
   "source": [
    "# 5. Capitalize the element in things that refers to a person and then print the list. Did it change the element in the list?"
   ]
  },
  {
   "cell_type": "code",
   "execution_count": 29,
   "id": "cead09bf",
   "metadata": {},
   "outputs": [
    {
     "data": {
      "text/plain": [
       "['mozzarella', 'CINDERELLA', 'salmonella']"
      ]
     },
     "execution_count": 29,
     "metadata": {},
     "output_type": "execute_result"
    }
   ],
   "source": [
    "things[1]= 'CINDERELLA'\n",
    "things\n",
    "# yes it did change the element in th list"
   ]
  },
  {
   "cell_type": "markdown",
   "id": "a1eff230",
   "metadata": {},
   "source": [
    "# 6. Make a surprise list with the elements \"Groucho,\" \"Chico,\" and \"Harpo.\""
   ]
  },
  {
   "cell_type": "code",
   "execution_count": 31,
   "id": "40d5778d",
   "metadata": {},
   "outputs": [
    {
     "name": "stdout",
     "output_type": "stream",
     "text": [
      "0Groucho\n",
      "['Groucho']\n",
      "1Chico\n",
      "['Groucho', 'Chico']\n",
      "2Harpo\n",
      "['Groucho', 'Chico', 'Harpo']\n"
     ]
    }
   ],
   "source": [
    "surprise=[]\n",
    "for i in range(0,3):\n",
    "    strings= input(i)\n",
    "    surprise.append(strings)\n",
    "    print(surprise)\n",
    "    "
   ]
  },
  {
   "cell_type": "markdown",
   "id": "f3639c2d",
   "metadata": {},
   "source": [
    "# 7. Lowercase the last element of the surprise list, reverse it, and then capitalize it."
   ]
  },
  {
   "cell_type": "code",
   "execution_count": 41,
   "id": "36505473",
   "metadata": {},
   "outputs": [
    {
     "data": {
      "text/plain": [
       "'Oprah'"
      ]
     },
     "execution_count": 41,
     "metadata": {},
     "output_type": "execute_result"
    }
   ],
   "source": [
    "surprise[-1][-1:-6:-1].capitalize()"
   ]
  },
  {
   "cell_type": "markdown",
   "id": "ea63ae76",
   "metadata": {},
   "source": [
    "# 8. Make an English-to-French dictionary called e2f and print it. Here are your starter words: dog is chien, cat is chat, and walrus is morse."
   ]
  },
  {
   "cell_type": "code",
   "execution_count": 42,
   "id": "6dfd894d",
   "metadata": {},
   "outputs": [],
   "source": [
    "e2f= {'dog': 'chien', 'cat': 'chat','walrus':'morse'}"
   ]
  },
  {
   "cell_type": "code",
   "execution_count": 43,
   "id": "ec4298a6",
   "metadata": {},
   "outputs": [
    {
     "name": "stdout",
     "output_type": "stream",
     "text": [
      "{'dog': 'chien', 'cat': 'chat', 'walrus': 'morse'}\n"
     ]
    }
   ],
   "source": [
    "print(e2f)"
   ]
  },
  {
   "cell_type": "markdown",
   "id": "11127cff",
   "metadata": {},
   "source": [
    "# 9. Write the French word for walrus in your three-word dictionary e2f."
   ]
  },
  {
   "cell_type": "code",
   "execution_count": 44,
   "id": "8d21902b",
   "metadata": {},
   "outputs": [
    {
     "data": {
      "text/plain": [
       "'morse'"
      ]
     },
     "execution_count": 44,
     "metadata": {},
     "output_type": "execute_result"
    }
   ],
   "source": [
    "e2f['walrus']"
   ]
  },
  {
   "cell_type": "markdown",
   "id": "28646094",
   "metadata": {},
   "source": [
    "# 10. Make a French-to-English dictionary called f2e from e2f. Use the items method."
   ]
  },
  {
   "cell_type": "code",
   "execution_count": 54,
   "id": "aaa558e3",
   "metadata": {},
   "outputs": [],
   "source": [
    "e2f= {'dog': 'chien', 'cat': 'chat','walrus':'morse'}\n",
    "f2e= {}\n",
    "for key, value in e2f.items():\n",
    "    if value in f2e:\n",
    "        f2e[value].append(key)\n",
    "    else:\n",
    "        f2e[value]=[key]\n",
    "# handles multiole same values"
   ]
  },
  {
   "cell_type": "code",
   "execution_count": 57,
   "id": "89e9b4dc",
   "metadata": {},
   "outputs": [
    {
     "name": "stdout",
     "output_type": "stream",
     "text": [
      "{'chien': ['dog'], 'chat': ['cat'], 'morse': ['walrus']}\n"
     ]
    }
   ],
   "source": [
    "print (dict(f2e))"
   ]
  },
  {
   "cell_type": "markdown",
   "id": "695f53a2",
   "metadata": {},
   "source": [
    "# 11. Print the English version of the French word chien using f2e."
   ]
  },
  {
   "cell_type": "code",
   "execution_count": 58,
   "id": "56823bc1",
   "metadata": {},
   "outputs": [
    {
     "name": "stdout",
     "output_type": "stream",
     "text": [
      "['dog']\n"
     ]
    }
   ],
   "source": [
    "print(f2e['chien'])"
   ]
  },
  {
   "cell_type": "markdown",
   "id": "1006bc69",
   "metadata": {},
   "source": [
    "# 12. Make and print a set of English words from the keys in e2f."
   ]
  },
  {
   "cell_type": "code",
   "execution_count": 60,
   "id": "2184434c",
   "metadata": {},
   "outputs": [
    {
     "name": "stdout",
     "output_type": "stream",
     "text": [
      "dict_keys(['dog', 'cat', 'walrus'])\n"
     ]
    }
   ],
   "source": [
    "print(e2f.keys())"
   ]
  },
  {
   "cell_type": "markdown",
   "id": "44ab9412",
   "metadata": {},
   "source": [
    "# 13. Make a multilevel dictionary called life. Use these strings for the topmost keys: 'animals', 'plants', and 'other'. Make the 'animals' key refer to another dictionary with the keys 'cats', 'octopi', and 'emus'. Make the 'cats' key refer to a list of strings with the values 'Henri', 'Grumpy', and 'Lucy'. Make all the other keys refer to empty dictionaries."
   ]
  },
  {
   "cell_type": "code",
   "execution_count": 79,
   "id": "b3ac6cac",
   "metadata": {},
   "outputs": [],
   "source": [
    "life = {'animals':{'cats':['Henri','Grumpy','Lucy'],'octopi':{},'emus':{}}, 'plants':{}, 'others':{}}"
   ]
  },
  {
   "cell_type": "code",
   "execution_count": 80,
   "id": "f731ce81",
   "metadata": {},
   "outputs": [
    {
     "data": {
      "text/plain": [
       "{'animals': {'cats': ['Henri', 'Grumpy', 'Lucy'], 'octopi': {}, 'emus': {}},\n",
       " 'plants': {},\n",
       " 'others': {}}"
      ]
     },
     "execution_count": 80,
     "metadata": {},
     "output_type": "execute_result"
    }
   ],
   "source": [
    "life"
   ]
  },
  {
   "cell_type": "markdown",
   "id": "3d461b5b",
   "metadata": {},
   "source": [
    "# 14. Print the top-level keys of life."
   ]
  },
  {
   "cell_type": "code",
   "execution_count": 81,
   "id": "47659fbd",
   "metadata": {},
   "outputs": [
    {
     "name": "stdout",
     "output_type": "stream",
     "text": [
      "dict_keys(['animals', 'plants', 'others'])\n"
     ]
    }
   ],
   "source": [
    "print(life.keys())"
   ]
  },
  {
   "cell_type": "markdown",
   "id": "afe2220a",
   "metadata": {},
   "source": [
    "# 15. Print the keys for life['animals']."
   ]
  },
  {
   "cell_type": "code",
   "execution_count": 82,
   "id": "6b51db23",
   "metadata": {},
   "outputs": [
    {
     "data": {
      "text/plain": [
       "dict_keys(['cats', 'octopi', 'emus'])"
      ]
     },
     "execution_count": 82,
     "metadata": {},
     "output_type": "execute_result"
    }
   ],
   "source": [
    "life['animals'].keys()"
   ]
  },
  {
   "cell_type": "markdown",
   "id": "2f58240e",
   "metadata": {},
   "source": [
    "# 16. Print the values for life['animals']['cats']"
   ]
  },
  {
   "cell_type": "code",
   "execution_count": 83,
   "id": "529a5950",
   "metadata": {},
   "outputs": [
    {
     "data": {
      "text/plain": [
       "['Henri', 'Grumpy', 'Lucy']"
      ]
     },
     "execution_count": 83,
     "metadata": {},
     "output_type": "execute_result"
    }
   ],
   "source": [
    "life['animals']['cats']"
   ]
  },
  {
   "cell_type": "code",
   "execution_count": null,
   "id": "10dbacee",
   "metadata": {},
   "outputs": [],
   "source": []
  }
 ],
 "metadata": {
  "kernelspec": {
   "display_name": "Python 3 (ipykernel)",
   "language": "python",
   "name": "python3"
  },
  "language_info": {
   "codemirror_mode": {
    "name": "ipython",
    "version": 3
   },
   "file_extension": ".py",
   "mimetype": "text/x-python",
   "name": "python",
   "nbconvert_exporter": "python",
   "pygments_lexer": "ipython3",
   "version": "3.9.12"
  }
 },
 "nbformat": 4,
 "nbformat_minor": 5
}
