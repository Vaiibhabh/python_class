{
 "cells": [
  {
   "cell_type": "markdown",
   "id": "716cfb70",
   "metadata": {},
   "source": [
    "# 1. To what does a relative path refer?"
   ]
  },
  {
   "cell_type": "code",
   "execution_count": 3,
   "id": "776e652f",
   "metadata": {},
   "outputs": [
    {
     "name": "stdout",
     "output_type": "stream",
     "text": [
      "File location using os.getcwd(): C:\\Users\\vaibhav jaiswal\n"
     ]
    }
   ],
   "source": [
    "import os\n",
    " \n",
    "print(\"File location using os.getcwd():\", os.getcwd())"
   ]
  },
  {
   "cell_type": "code",
   "execution_count": null,
   "id": "ab29785f",
   "metadata": {},
   "outputs": [],
   "source": [
    "# Ans. A relative path in Python specifies where a directory is located in relation to the entry point where the Python script is launched. In simpler way if you have  to run a file outside your current directory then we describe a relative path."
   ]
  },
  {
   "cell_type": "markdown",
   "id": "d481690a",
   "metadata": {},
   "source": [
    "# 2. What does an absolute path start with your operating system?"
   ]
  },
  {
   "cell_type": "code",
   "execution_count": null,
   "id": "ea415e0b",
   "metadata": {},
   "outputs": [],
   "source": [
    "Ans. A Python absolute path is the whole path from the root of the operating system's file system to the working directory."
   ]
  },
  {
   "cell_type": "code",
   "execution_count": 4,
   "id": "4f20a6f5",
   "metadata": {},
   "outputs": [
    {
     "data": {
      "text/plain": [
       "'F:\\\\python practice\\\\Ineuron\\\\example_file.txt'"
      ]
     },
     "execution_count": 4,
     "metadata": {},
     "output_type": "execute_result"
    }
   ],
   "source": [
    "import os\n",
    "\n",
    "os.path.abspath(\"F:\\python practice\\Ineuron\\example_file.txt\")"
   ]
  },
  {
   "cell_type": "markdown",
   "id": "d4bcb022",
   "metadata": {},
   "source": [
    "# 3. What do the functions os.getcwd() and os.chdir() do?"
   ]
  },
  {
   "cell_type": "code",
   "execution_count": null,
   "id": "b7efdb7d",
   "metadata": {},
   "outputs": [],
   "source": [
    "os.getcwd() -- It gives the present or current working directory\n",
    "os.chidir()-- Calling this function allows you to set or change the current working directory to path of your choice"
   ]
  },
  {
   "cell_type": "code",
   "execution_count": null,
   "id": "3aedbf2c",
   "metadata": {},
   "outputs": [],
   "source": [
    "import os\n",
    " \n",
    "print(\"File location using os.getcwd():\", os.getcwd())"
   ]
  },
  {
   "cell_type": "code",
   "execution_count": null,
   "id": "9c5f3d90",
   "metadata": {},
   "outputs": [],
   "source": [
    "os.chdir(r'F:\\python practice\\Ineuron')\n",
    "print ('Directory changed')"
   ]
  },
  {
   "cell_type": "code",
   "execution_count": null,
   "id": "df0fc126",
   "metadata": {},
   "outputs": [],
   "source": [
    "print(\"File location using os.getcwd():\", os.getcwd())"
   ]
  },
  {
   "cell_type": "markdown",
   "id": "e3fd0fba",
   "metadata": {},
   "source": [
    "# 4. What are the . and .. folders?"
   ]
  },
  {
   "cell_type": "code",
   "execution_count": null,
   "id": "f5956388",
   "metadata": {},
   "outputs": [],
   "source": [
    "Ans. The .folder represent the current folder, and ..represents the parent folder."
   ]
  },
  {
   "cell_type": "markdown",
   "id": "e4dff9b8",
   "metadata": {},
   "source": [
    "# 5 In C:\\bacon\\eggs\\spam.txt, which part is the dir name, and which part is the base name?"
   ]
  },
  {
   "cell_type": "code",
   "execution_count": null,
   "id": "f7f4f037",
   "metadata": {},
   "outputs": [],
   "source": [
    "C:\\bacon\\eggs - It is the directory name \n",
    "spam.txt - it is the base name that conatins a text file named spam."
   ]
  },
  {
   "cell_type": "markdown",
   "id": "694a9e42",
   "metadata": {},
   "source": [
    "# 6. What are the three “mode” arguments that can be passed to the open() function?"
   ]
  },
  {
   "cell_type": "code",
   "execution_count": null,
   "id": "85a430a1",
   "metadata": {},
   "outputs": [],
   "source": [
    "open(r'F:\\python practice\\Ineuron\\xyz.txt')- calling this function enables to only read file \n",
    "open(w'F:\\python practice\\Ineuron\\xyz.txt')- calling this function enables to write the file but againg opening will over write the file\n",
    "open(a'F:\\python practice\\Ineuron\\xyz.txt') - calling this function enables to append the into the file"
   ]
  },
  {
   "cell_type": "markdown",
   "id": "dd997e2f",
   "metadata": {},
   "source": [
    "# 7. What happens if an existing file is opened in write mode?"
   ]
  },
  {
   "cell_type": "code",
   "execution_count": null,
   "id": "e35e27c1",
   "metadata": {},
   "outputs": [],
   "source": [
    "Ans. An existing file that is opened in write mode is totally overwritten and wiped"
   ]
  },
  {
   "cell_type": "markdown",
   "id": "fa368226",
   "metadata": {},
   "source": [
    "# 8. How do you tell the difference between read() and readlines()?"
   ]
  },
  {
   "cell_type": "code",
   "execution_count": null,
   "id": "3a0625c7",
   "metadata": {},
   "outputs": [],
   "source": [
    "read()--  reads all of the file's contents into a string,\n",
    "readlines() --reads just a single line from the file"
   ]
  },
  {
   "cell_type": "markdown",
   "id": "8e527cc6",
   "metadata": {},
   "source": [
    "# 9. What data structure does a shelf value resemble?"
   ]
  },
  {
   "cell_type": "code",
   "execution_count": null,
   "id": "dbe7da1f",
   "metadata": {},
   "outputs": [],
   "source": [
    "Ans. a dictionary value; it has keys and values as well as keys() and values() methods that function similarly to the corresponding dictionary methods."
   ]
  },
  {
   "cell_type": "code",
   "execution_count": null,
   "id": "7c1dcc55",
   "metadata": {},
   "outputs": [],
   "source": []
  }
 ],
 "metadata": {
  "kernelspec": {
   "display_name": "Python 3 (ipykernel)",
   "language": "python",
   "name": "python3"
  },
  "language_info": {
   "codemirror_mode": {
    "name": "ipython",
    "version": 3
   },
   "file_extension": ".py",
   "mimetype": "text/x-python",
   "name": "python",
   "nbconvert_exporter": "python",
   "pygments_lexer": "ipython3",
   "version": "3.9.12"
  }
 },
 "nbformat": 4,
 "nbformat_minor": 5
}
