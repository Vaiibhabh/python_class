{
 "cells": [
  {
   "cell_type": "markdown",
   "id": "716cfb70",
   "metadata": {},
   "source": [
    "# 1. To what does a relative path refer?"
   ]
  },
  {
   "cell_type": "code",
   "execution_count": 3,
   "id": "776e652f",
   "metadata": {},
   "outputs": [
    {
     "name": "stdout",
     "output_type": "stream",
     "text": [
      "File location using os.getcwd(): C:\\Users\\vaibhav jaiswal\n"
     ]
    }
   ],
   "source": [
    "import os\n",
    " \n",
    "print(\"File location using os.getcwd():\", os.getcwd())"
   ]
  },
  {
   "cell_type": "raw",
   "id": "a5e47810",
   "metadata": {},
   "source": [
    "Ans. A relative path in Python specifies where a directory is located in relation to the entry point where the Python script is launched. In simpler way if you have  to run a file outside your current directory then we describe a relative path."
   ]
  },
  {
   "cell_type": "markdown",
   "id": "d481690a",
   "metadata": {},
   "source": [
    "# 2. What does an absolute path start with your operating system?"
   ]
  },
  {
   "cell_type": "raw",
   "id": "ea4a4166",
   "metadata": {},
   "source": [
    "Ans. A Python absolute path is the whole path from the root of the operating system's file system to the working directory."
   ]
  },
  {
   "cell_type": "code",
   "execution_count": 4,
   "id": "4f20a6f5",
   "metadata": {},
   "outputs": [
    {
     "data": {
      "text/plain": [
       "'F:\\\\python practice\\\\Ineuron\\\\example_file.txt'"
      ]
     },
     "execution_count": 4,
     "metadata": {},
     "output_type": "execute_result"
    }
   ],
   "source": [
    "import os\n",
    "\n",
    "os.path.abspath(\"F:\\python practice\\Ineuron\\example_file.txt\")"
   ]
  },
  {
   "cell_type": "markdown",
   "id": "d4bcb022",
   "metadata": {},
   "source": [
    "# 3. What do the functions os.getcwd() and os.chdir() do?"
   ]
  },
  {
   "cell_type": "code",
   "execution_count": null,
   "id": "1c7e920c",
   "metadata": {},
   "outputs": [],
   "source": []
  }
 ],
 "metadata": {
  "kernelspec": {
   "display_name": "Python 3 (ipykernel)",
   "language": "python",
   "name": "python3"
  },
  "language_info": {
   "codemirror_mode": {
    "name": "ipython",
    "version": 3
   },
   "file_extension": ".py",
   "mimetype": "text/x-python",
   "name": "python",
   "nbconvert_exporter": "python",
   "pygments_lexer": "ipython3",
   "version": "3.9.12"
  }
 },
 "nbformat": 4,
 "nbformat_minor": 5
}
