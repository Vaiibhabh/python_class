{
 "cells": [
  {
   "cell_type": "markdown",
   "id": "383030ac",
   "metadata": {},
   "source": [
    "# 1.\tWrite a Python Program to Add Two Matrices?"
   ]
  },
  {
   "cell_type": "code",
   "execution_count": 16,
   "id": "58d6cd3d",
   "metadata": {},
   "outputs": [
    {
     "name": "stdout",
     "output_type": "stream",
     "text": [
      "[[10, 4, 1], [20, 14, 4], [24, 99, 90]]\n"
     ]
    }
   ],
   "source": [
    "A= [[3,2,1],\n",
    "   [5,4,2],\n",
    "   [7,9,8]]\n",
    "\n",
    "B= [[7,2,0],\n",
    "   [15,10,2],\n",
    "   [17,90,82]]\n",
    "\n",
    "result=[[0,0,0],\n",
    "   [0,0,0],\n",
    "   [0,0,0]]\n",
    "## iteration through rows\n",
    "for i in range(len(A)):\n",
    "    ## iteration through columns\n",
    "    for j in range(len(A[0])):\n",
    "        result[i][j]=  A[i][j] + B[i][j]\n",
    "        \n",
    "print(result)      \n",
    "        "
   ]
  },
  {
   "cell_type": "markdown",
   "id": "1cf20d1e",
   "metadata": {},
   "source": [
    "# 2.\tWrite a Python Program to Multiply Two Matrices?"
   ]
  },
  {
   "cell_type": "code",
   "execution_count": 25,
   "id": "e5b844ae",
   "metadata": {},
   "outputs": [
    {
     "name": "stdout",
     "output_type": "stream",
     "text": [
      "[[117, 204, 84], [195, 408, 168], [273, 918, 672]]\n"
     ]
    }
   ],
   "source": [
    "A= [[3,2,1],\n",
    "   [5,4,2],\n",
    "   [7,9,8]]\n",
    "\n",
    "B= [[7,2,0],\n",
    "   [15,10,2],\n",
    "   [17,90,82]]\n",
    "\n",
    "result=[[0,0,0],\n",
    "   [0,0,0],\n",
    "   [0,0,0]]\n",
    "\n",
    "for i in range(len(A)):\n",
    "    \n",
    "   \n",
    "    for j in range(len(B[0])):\n",
    "        \n",
    "        for k in range (len(B)):\n",
    "            \n",
    "            result[i][j]= result [i][j] + (A[i][j]*B[k][j])\n",
    "print(result) "
   ]
  },
  {
   "cell_type": "markdown",
   "id": "98b553f7",
   "metadata": {},
   "source": [
    "# 3.\tWrite a Python Program to Transpose a Matrix?"
   ]
  },
  {
   "cell_type": "code",
   "execution_count": 26,
   "id": "2a87a4f1",
   "metadata": {},
   "outputs": [
    {
     "name": "stdout",
     "output_type": "stream",
     "text": [
      "[[3, 5, 7], [2, 4, 9], [1, 2, 8]]\n"
     ]
    }
   ],
   "source": [
    "A= [[3,2,1],\n",
    "   [5,4,2],\n",
    "   [7,9,8]]\n",
    "\n",
    "\n",
    "\n",
    "result=[[0,0,0],\n",
    "   [0,0,0],\n",
    "   [0,0,0]]\n",
    "## iteration through rows\n",
    "for i in range(len(A)):\n",
    "    ## iteration through columns\n",
    "    for j in range(len(A[0])):\n",
    "        result[j][i]=  A[i][j] \n",
    "        \n",
    "print(result)     "
   ]
  },
  {
   "cell_type": "markdown",
   "id": "4a05cd28",
   "metadata": {},
   "source": [
    "# 4.\tWrite a Python Program to Sort Words in Alphabetic Order?"
   ]
  },
  {
   "cell_type": "code",
   "execution_count": 38,
   "id": "fdb2c6b0",
   "metadata": {},
   "outputs": [],
   "source": [
    "def alphaorder():\n",
    "    given_string= input('enter the string :')\n",
    "    X= given_string.split(\" \")\n",
    "    for i in range(len(X)):\n",
    "        X[i]= X[i].lower()\n",
    "        Y= sorted(X)\n",
    "    print(Y)\n",
    "    print(' '.join(Y))"
   ]
  },
  {
   "cell_type": "code",
   "execution_count": 39,
   "id": "caec7f02",
   "metadata": {},
   "outputs": [
    {
     "name": "stdout",
     "output_type": "stream",
     "text": [
      "enter the string :makhan laal chaturvedi ki abhilasha\n",
      "['abhilasha', 'chaturvedi', 'ki', 'laal', 'makhan']\n",
      "abhilasha chaturvedi ki laal makhan\n"
     ]
    }
   ],
   "source": [
    "alphaorder()"
   ]
  },
  {
   "cell_type": "markdown",
   "id": "17fbc2de",
   "metadata": {},
   "source": [
    "# 5.\tWrite a Python Program to Remove Punctuation From a String?"
   ]
  },
  {
   "cell_type": "code",
   "execution_count": 40,
   "id": "a497b77c",
   "metadata": {},
   "outputs": [
    {
     "name": "stdout",
     "output_type": "stream",
     "text": [
      "Enter a string with punctuations : hey! do you know? about, somting [\n",
      "Entered string is :  hey! do you know? about, somting [\n",
      "After removing punctuations, the string is :  hey do you know about somting \n"
     ]
    }
   ],
   "source": [
    "punctuations = '''!()-[]{};:'\"\\,<>./?@#$%^&*_~'''\n",
    "my_str = input(\"Enter a string with punctuations : \")\n",
    "print(\"Entered string is : \",my_str)\n",
    "no_punct = \"\"\n",
    "for char in my_str:\n",
    "   if char not in punctuations:\n",
    "       no_punct = no_punct + char\n",
    "print(\"After removing punctuations, the string is : \",no_punct)"
   ]
  },
  {
   "cell_type": "code",
   "execution_count": null,
   "id": "55dcb35f",
   "metadata": {},
   "outputs": [],
   "source": []
  }
 ],
 "metadata": {
  "kernelspec": {
   "display_name": "Python 3 (ipykernel)",
   "language": "python",
   "name": "python3"
  },
  "language_info": {
   "codemirror_mode": {
    "name": "ipython",
    "version": 3
   },
   "file_extension": ".py",
   "mimetype": "text/x-python",
   "name": "python",
   "nbconvert_exporter": "python",
   "pygments_lexer": "ipython3",
   "version": "3.9.12"
  }
 },
 "nbformat": 4,
 "nbformat_minor": 5
}
