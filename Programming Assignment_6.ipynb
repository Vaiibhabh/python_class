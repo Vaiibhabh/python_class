{
 "cells": [
  {
   "cell_type": "markdown",
   "id": "e5f8d70b",
   "metadata": {},
   "source": [
    "# 1.\tWrite a Python Program to Display Fibonacci Sequence Using Recursion?"
   ]
  },
  {
   "cell_type": "code",
   "execution_count": 33,
   "id": "e508f756",
   "metadata": {},
   "outputs": [],
   "source": [
    "def fibonacci(num):\n",
    "    if num <0:\n",
    "        print('please enter a valid number')\n",
    "        \n",
    "    elif num==0:\n",
    "        print('the fibonnaci number is :' ,num)\n",
    "        \n",
    "    elif num==1 or num==2:\n",
    "        print ('the fibonnaci number is : 1' )\n",
    "        \n",
    "    else:\n",
    "        return Fibonacci(num-1)+ Fibonacci(num-2)\n",
    "    "
   ]
  },
  {
   "cell_type": "code",
   "execution_count": 34,
   "id": "b9062031",
   "metadata": {},
   "outputs": [
    {
     "data": {
      "text/plain": [
       "6765"
      ]
     },
     "execution_count": 34,
     "metadata": {},
     "output_type": "execute_result"
    }
   ],
   "source": [
    "fibonacci(20)"
   ]
  },
  {
   "cell_type": "markdown",
   "id": "4549de70",
   "metadata": {},
   "source": [
    "# 2.\tWrite a Python Program to Find Factorial of Number Using Recursion?"
   ]
  },
  {
   "cell_type": "code",
   "execution_count": 73,
   "id": "e118b024",
   "metadata": {},
   "outputs": [],
   "source": [
    "def factorial(num):\n",
    "    if num<0:\n",
    "        return 'enter the correct value'\n",
    "    elif num==0 or num ==1:\n",
    "        return 1\n",
    "        \n",
    "    else:\n",
    "        return ((num * factorial(num - 1)))"
   ]
  },
  {
   "cell_type": "code",
   "execution_count": 74,
   "id": "6703e9bc",
   "metadata": {},
   "outputs": [
    {
     "data": {
      "text/plain": [
       "'enter the correct value'"
      ]
     },
     "execution_count": 74,
     "metadata": {},
     "output_type": "execute_result"
    }
   ],
   "source": [
    "factorial(-1)"
   ]
  },
  {
   "cell_type": "code",
   "execution_count": 75,
   "id": "cce70e2f",
   "metadata": {},
   "outputs": [
    {
     "data": {
      "text/plain": [
       "3628800"
      ]
     },
     "execution_count": 75,
     "metadata": {},
     "output_type": "execute_result"
    }
   ],
   "source": [
    "factorial(10)"
   ]
  },
  {
   "cell_type": "markdown",
   "id": "fb1f8f77",
   "metadata": {},
   "source": [
    "# 3.\tWrite a Python Program to calculate your Body Mass Index?"
   ]
  },
  {
   "cell_type": "code",
   "execution_count": 84,
   "id": "34056eb8",
   "metadata": {},
   "outputs": [],
   "source": [
    "def bmi():\n",
    "    mass=int(input('enter the mass of the body in kgs :'))\n",
    "    height = float(input('enter the height of the body in meters :'))\n",
    "    \n",
    "    BMI= (mass/(height*height))\n",
    "    return 'the BMI is', round(BMI,2)\n",
    "    \n",
    "    "
   ]
  },
  {
   "cell_type": "code",
   "execution_count": 85,
   "id": "dc05fffa",
   "metadata": {},
   "outputs": [
    {
     "name": "stdout",
     "output_type": "stream",
     "text": [
      "enter the mass of the body in kgs :70\n",
      "enter the height of the body in meters :1.79\n"
     ]
    },
    {
     "data": {
      "text/plain": [
       "('the BMI is', 21.85)"
      ]
     },
     "execution_count": 85,
     "metadata": {},
     "output_type": "execute_result"
    }
   ],
   "source": [
    "bmi()"
   ]
  },
  {
   "cell_type": "markdown",
   "id": "5a0f6628",
   "metadata": {},
   "source": [
    "# 4.\tWrite a Python Program to calculate the natural logarithm of any number?"
   ]
  },
  {
   "cell_type": "code",
   "execution_count": 93,
   "id": "2c85991b",
   "metadata": {},
   "outputs": [],
   "source": [
    "def log_func(num):\n",
    "    import math\n",
    "    print('the natural logarithm value of', num, 'is', round(math.log(num), 2))"
   ]
  },
  {
   "cell_type": "code",
   "execution_count": 94,
   "id": "4758bd97",
   "metadata": {},
   "outputs": [
    {
     "name": "stdout",
     "output_type": "stream",
     "text": [
      "the natural logarithm value of 14 is 2.64\n"
     ]
    }
   ],
   "source": [
    "log_func(14)"
   ]
  },
  {
   "cell_type": "markdown",
   "id": "39faa87d",
   "metadata": {},
   "source": [
    "# 5.\tWrite a Python Program for cube sum of first n natural numbers?"
   ]
  },
  {
   "cell_type": "code",
   "execution_count": 107,
   "id": "5cb70ce2",
   "metadata": {},
   "outputs": [],
   "source": [
    "def sum_natural(num):\n",
    "    count= 0\n",
    "    while num>0:\n",
    "        count = count + num**3\n",
    "        num= num-1\n",
    "    return count"
   ]
  },
  {
   "cell_type": "code",
   "execution_count": 108,
   "id": "16be0fea",
   "metadata": {},
   "outputs": [
    {
     "data": {
      "text/plain": [
       "1296"
      ]
     },
     "execution_count": 108,
     "metadata": {},
     "output_type": "execute_result"
    }
   ],
   "source": [
    "sum_natural(8)"
   ]
  },
  {
   "cell_type": "code",
   "execution_count": null,
   "id": "54c5ac64",
   "metadata": {},
   "outputs": [],
   "source": []
  }
 ],
 "metadata": {
  "kernelspec": {
   "display_name": "Python 3 (ipykernel)",
   "language": "python",
   "name": "python3"
  },
  "language_info": {
   "codemirror_mode": {
    "name": "ipython",
    "version": 3
   },
   "file_extension": ".py",
   "mimetype": "text/x-python",
   "name": "python",
   "nbconvert_exporter": "python",
   "pygments_lexer": "ipython3",
   "version": "3.9.12"
  }
 },
 "nbformat": 4,
 "nbformat_minor": 5
}
