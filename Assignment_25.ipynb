{
 "cells": [
  {
   "cell_type": "markdown",
   "id": "dab45db9",
   "metadata": {},
   "source": [
    "# 1) . What is the difference between enclosing a list comprehension in square brackets and parentheses?"
   ]
  },
  {
   "cell_type": "markdown",
   "id": "f734e682",
   "metadata": {},
   "source": [
    "Ans. Enclosing a list comprehension in [] creates a list comprehension and it acts like a just plain range function, which gets executed immediately and retruns the list in a one go.\n",
    "Enclosing the list comprehension in () creates a generator expression, which returns the output one by one. iT saves memory consumption."
   ]
  },
  {
   "cell_type": "markdown",
   "id": "f6f99b65",
   "metadata": {},
   "source": [
    "# 2) What is the relationship between generators and iterators?"
   ]
  },
  {
   "cell_type": "markdown",
   "id": "d6246c25",
   "metadata": {},
   "source": [
    "Ans. Iterators: When iterating through iterable objects like lists, tuples, sets, etc., an iterator is an object with a countable number of values. It follows the principle of lazy evaluation, where the evaluation of the expression will be put on hold and stored in memory until the item is specifically called, helping us to avoid repeated evaluation. Iterators are implemented using a class, and a local variable for iterating is not required here. As soon as lazy evaluation is applied, only one memory location is needed to process a value, which reduces RAM wastage and eliminates the need to load the full dataset at once when employing a large dataset.\n",
    "\n",
    "The use of an iterator\n",
    "\n",
    "1.To create an iterator that contains an iterable object, use the iter() keyword.\n",
    "2.The iterable object's next element can be called with the keyword next().\n",
    "3.Reassign them to the same object in order to reuse them after the iterable object has been finished.\n",
    "\n",
    "Generator: Another straightforward method of producing iterators uses the keyword \"yield\" rather than returning it from a predefined function. A function is used to implement generators. Generators use the same principles of lazy evaluation as iterators. The yield function in this case just returns the data without changing or terminating the function. As they won't store the complete sequence in memory, it will return a sequence of data in an iterable format that we must iterate over in order to use the data.\n"
   ]
  },
  {
   "cell_type": "markdown",
   "id": "2cdd9195",
   "metadata": {},
   "source": [
    "# 3) What are the signs that a function is a generator function?"
   ]
  },
  {
   "cell_type": "markdown",
   "id": "fc978727",
   "metadata": {},
   "source": [
    "Ans.In a generator function, a yield statement is used rather than a return statement."
   ]
  },
  {
   "cell_type": "markdown",
   "id": "8c9be97f",
   "metadata": {},
   "source": [
    "# 4) What is the purpose of a yield statement?"
   ]
  },
  {
   "cell_type": "markdown",
   "id": "1ef65fa3",
   "metadata": {},
   "source": [
    "Ans. Simply said, the yield keyword converts any expression that is passed to it into a generator object and returns it to the caller. As a result, in order to access the values stored in the generator object, you must iterate through it."
   ]
  },
  {
   "cell_type": "markdown",
   "id": "55568987",
   "metadata": {},
   "source": [
    "# 5) What is the relationship between map calls and list comprehensions? Make a comparison and contrast between the two."
   ]
  },
  {
   "cell_type": "markdown",
   "id": "4c4d9ce8",
   "metadata": {},
   "source": [
    "Ans. 1.Compared to maps, list comprehension is more compact and simpler to understand.\n",
    "\n",
    "2.Understanding lists enables for filtering. There is no such facility on the map. For instance, we can write [n for n in range(100) if n%2 == 0] to display all even numbers in the range of 100. There isn't a substitute for it on the map.\n",
    "\n",
    "3.Because map only produces a map object and not a list of results, list comprehension is used when a list of results is needed.\n",
    "\n",
    "4.When evaluating expressions that are too large or complex to express, list comprehension is quicker than map.\n",
    "\n",
    "5.When calling a function that has already been declared, Map is faster (as no lambda is required)."
   ]
  }
 ],
 "metadata": {
  "kernelspec": {
   "display_name": "Python 3 (ipykernel)",
   "language": "python",
   "name": "python3"
  },
  "language_info": {
   "codemirror_mode": {
    "name": "ipython",
    "version": 3
   },
   "file_extension": ".py",
   "mimetype": "text/x-python",
   "name": "python",
   "nbconvert_exporter": "python",
   "pygments_lexer": "ipython3",
   "version": "3.9.12"
  }
 },
 "nbformat": 4,
 "nbformat_minor": 5
}
