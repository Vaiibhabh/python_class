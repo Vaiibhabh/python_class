{
 "cells": [
  {
   "cell_type": "markdown",
   "id": "688015e2",
   "metadata": {},
   "source": [
    "# 1. Write a Python program to convert kilometers to miles?"
   ]
  },
  {
   "cell_type": "code",
   "execution_count": 11,
   "id": "c3cb8575",
   "metadata": {},
   "outputs": [],
   "source": [
    "def km_to_mile():\n",
    "    n= float(input('please enter the input in kilometers: '))\n",
    "    x= n*0.621\n",
    "    return 'the converted value of kilometers in miles is :', round(x,2)"
   ]
  },
  {
   "cell_type": "code",
   "execution_count": 12,
   "id": "0fed32c3",
   "metadata": {},
   "outputs": [
    {
     "name": "stdout",
     "output_type": "stream",
     "text": [
      "please enter the input in kilometers: 4.5\n"
     ]
    },
    {
     "data": {
      "text/plain": [
       "('the converted value of kilometers in miles is :', 2.79)"
      ]
     },
     "execution_count": 12,
     "metadata": {},
     "output_type": "execute_result"
    }
   ],
   "source": [
    "km_to_mile()"
   ]
  },
  {
   "cell_type": "markdown",
   "id": "f9cb0f2f",
   "metadata": {},
   "source": [
    "# 2. Write a Python program to convert Celsius to Fahrenheit?"
   ]
  },
  {
   "cell_type": "code",
   "execution_count": 18,
   "id": "7b7e8b22",
   "metadata": {},
   "outputs": [],
   "source": [
    "def cel_to_Fahren():\n",
    "    degree_cel=  float(input('please enter the input in degree celcius: '))\n",
    "    degree_fahre= (degree_cel*(9/5)+32)\n",
    "    return 'The converted value of degree celsius to fahrenheit is :%s ' %round(degree_fahre,2)"
   ]
  },
  {
   "cell_type": "code",
   "execution_count": 19,
   "id": "d2f9d3ae",
   "metadata": {},
   "outputs": [
    {
     "name": "stdout",
     "output_type": "stream",
     "text": [
      "please enter the input in degree celcius: 89\n"
     ]
    },
    {
     "data": {
      "text/plain": [
       "'The converted value of degree celsius to fahrenheit is :192.2 '"
      ]
     },
     "execution_count": 19,
     "metadata": {},
     "output_type": "execute_result"
    }
   ],
   "source": [
    "cel_to_Fahren()"
   ]
  },
  {
   "cell_type": "markdown",
   "id": "5ce0ffdf",
   "metadata": {},
   "source": [
    "# 3. Write a Python program to display calendar?"
   ]
  },
  {
   "cell_type": "code",
   "execution_count": 26,
   "id": "f98d5d59",
   "metadata": {},
   "outputs": [
    {
     "name": "stdout",
     "output_type": "stream",
     "text": [
      "    January 2023\n",
      "Mo Tu We Th Fr Sa Su\n",
      "                   1\n",
      " 2  3  4  5  6  7  8\n",
      " 9 10 11 12 13 14 15\n",
      "16 17 18 19 20 21 22\n",
      "23 24 25 26 27 28 29\n",
      "30 31\n",
      "\n"
     ]
    }
   ],
   "source": [
    "# python has inbuilt calender display function \n",
    "# we are giving month and year as input\n",
    "import calendar as cal\n",
    "\n",
    "year= 2023\n",
    "month= 1\n",
    "\n",
    "print (cal.month(year, month))"
   ]
  },
  {
   "cell_type": "code",
   "execution_count": 31,
   "id": "b48cb210",
   "metadata": {},
   "outputs": [
    {
     "name": "stdout",
     "output_type": "stream",
     "text": [
      "                                  2023\n",
      "\n",
      "      January                   February                   March\n",
      "Mo Tu We Th Fr Sa Su      Mo Tu We Th Fr Sa Su      Mo Tu We Th Fr Sa Su\n",
      "                   1             1  2  3  4  5             1  2  3  4  5\n",
      " 2  3  4  5  6  7  8       6  7  8  9 10 11 12       6  7  8  9 10 11 12\n",
      " 9 10 11 12 13 14 15      13 14 15 16 17 18 19      13 14 15 16 17 18 19\n",
      "16 17 18 19 20 21 22      20 21 22 23 24 25 26      20 21 22 23 24 25 26\n",
      "23 24 25 26 27 28 29      27 28                     27 28 29 30 31\n",
      "30 31\n",
      "\n",
      "       April                      May                       June\n",
      "Mo Tu We Th Fr Sa Su      Mo Tu We Th Fr Sa Su      Mo Tu We Th Fr Sa Su\n",
      "                1  2       1  2  3  4  5  6  7                1  2  3  4\n",
      " 3  4  5  6  7  8  9       8  9 10 11 12 13 14       5  6  7  8  9 10 11\n",
      "10 11 12 13 14 15 16      15 16 17 18 19 20 21      12 13 14 15 16 17 18\n",
      "17 18 19 20 21 22 23      22 23 24 25 26 27 28      19 20 21 22 23 24 25\n",
      "24 25 26 27 28 29 30      29 30 31                  26 27 28 29 30\n",
      "\n",
      "        July                     August                  September\n",
      "Mo Tu We Th Fr Sa Su      Mo Tu We Th Fr Sa Su      Mo Tu We Th Fr Sa Su\n",
      "                1  2          1  2  3  4  5  6                   1  2  3\n",
      " 3  4  5  6  7  8  9       7  8  9 10 11 12 13       4  5  6  7  8  9 10\n",
      "10 11 12 13 14 15 16      14 15 16 17 18 19 20      11 12 13 14 15 16 17\n",
      "17 18 19 20 21 22 23      21 22 23 24 25 26 27      18 19 20 21 22 23 24\n",
      "24 25 26 27 28 29 30      28 29 30 31               25 26 27 28 29 30\n",
      "31\n",
      "\n",
      "      October                   November                  December\n",
      "Mo Tu We Th Fr Sa Su      Mo Tu We Th Fr Sa Su      Mo Tu We Th Fr Sa Su\n",
      "                   1             1  2  3  4  5                   1  2  3\n",
      " 2  3  4  5  6  7  8       6  7  8  9 10 11 12       4  5  6  7  8  9 10\n",
      " 9 10 11 12 13 14 15      13 14 15 16 17 18 19      11 12 13 14 15 16 17\n",
      "16 17 18 19 20 21 22      20 21 22 23 24 25 26      18 19 20 21 22 23 24\n",
      "23 24 25 26 27 28 29      27 28 29 30               25 26 27 28 29 30 31\n",
      "30 31\n",
      "\n"
     ]
    }
   ],
   "source": [
    "year1= 2023\n",
    "print(cal.calendar(year1))"
   ]
  },
  {
   "cell_type": "markdown",
   "id": "4965b3eb",
   "metadata": {},
   "source": [
    "# 4. Write a Python program to solve quadratic equation?"
   ]
  },
  {
   "cell_type": "code",
   "execution_count": 52,
   "id": "ce920b9b",
   "metadata": {},
   "outputs": [],
   "source": [
    "import math\n",
    "\n",
    "def equation(a,b,c):\n",
    "    discriminate= (b**2)- (4*a*c)\n",
    "    sqrt_dis= math.sqrt(abs(discriminate))\n",
    "     # if a is 0, then equation is incorrect\n",
    "    if a==0:\n",
    "        print ('equation is inccorect please put the correct value of coefficinets')\n",
    "        \n",
    "    else:\n",
    "        # for real and different root\n",
    "        if discriminate> 0:\n",
    "            print('Roots are real and different')\n",
    "            root1= (-b+sqrt_dis)/(2*a)\n",
    "            root2= (-b-sqrt_dis)/(2*a)\n",
    "            print('the first real solution is: ', root1)\n",
    "            print('the second real solution is: ', root2)\n",
    "        \n",
    "         # for two real and equal roots   \n",
    "        elif discriminate== 0:\n",
    "            print('roots are real and equal')\n",
    "            root= -b/(2*a)\n",
    "            print ('The two real and equal roots are: ', root)\n",
    "            \n",
    "        # for two unequal and complex roots   \n",
    "        elif discriminate < 0:\n",
    "            print('Roots are imaginary and complementary')\n",
    "            root_com1= -b/(2*a)\n",
    "            root_com2= -b/(2*a)\n",
    "            print('the first complex solution is: ', root_com1,'+ i',sqrt_dis)\n",
    "            print('the second complex solution is: ', root_com2, '- i',sqrt_dis)\n",
    "        "
   ]
  },
  {
   "cell_type": "code",
   "execution_count": 53,
   "id": "02607a83",
   "metadata": {
    "scrolled": true
   },
   "outputs": [
    {
     "name": "stdout",
     "output_type": "stream",
     "text": [
      "Roots are imaginary and complementary\n",
      "the first complex solution is:  -2.0 + i 19.595917942265423\n",
      "the second complex solution is:  -2.0 - i 19.595917942265423\n"
     ]
    }
   ],
   "source": [
    "equation(2,8,56)"
   ]
  },
  {
   "cell_type": "code",
   "execution_count": 54,
   "id": "7fff179c",
   "metadata": {},
   "outputs": [
    {
     "name": "stdout",
     "output_type": "stream",
     "text": [
      "equation is inccorect please put the correct value of coefficinets\n"
     ]
    }
   ],
   "source": [
    "equation (0,3,89)"
   ]
  },
  {
   "cell_type": "code",
   "execution_count": 57,
   "id": "b50845f7",
   "metadata": {},
   "outputs": [
    {
     "name": "stdout",
     "output_type": "stream",
     "text": [
      "Roots are real and different\n",
      "the first real solution is:  -4.0\n",
      "the second real solution is:  -6.0\n"
     ]
    }
   ],
   "source": [
    "equation (1,10,24)"
   ]
  },
  {
   "cell_type": "markdown",
   "id": "bfbb7845",
   "metadata": {},
   "source": [
    "# 5. Write a Python program to swap two variables without temp variable?"
   ]
  },
  {
   "cell_type": "code",
   "execution_count": 59,
   "id": "4e57d879",
   "metadata": {},
   "outputs": [
    {
     "name": "stdout",
     "output_type": "stream",
     "text": [
      "Before swapping: \n",
      "Value of x :  25  and y :  10\n",
      "After swapping: \n",
      "Value of x :  10  and y :  25\n"
     ]
    }
   ],
   "source": [
    "\n",
    "# This method works for any data type values like string, int, float and is easy to use. \n",
    "# without using another variable\n",
    " \n",
    " \n",
    "x = 25\n",
    "y = 10\n",
    " \n",
    "print (\"Before swapping: \")\n",
    "print(\"Value of x : \", x, \" and y : \", y)\n",
    " \n",
    "# code to swap 'x' and 'y', left, right=right, left\n",
    "x, y = y, x\n",
    " \n",
    "print (\"After swapping: \")\n",
    "print(\"Value of x : \", x, \" and y : \",y)"
   ]
  },
  {
   "cell_type": "code",
   "execution_count": 60,
   "id": "180b55ac",
   "metadata": {},
   "outputs": [
    {
     "name": "stdout",
     "output_type": "stream",
     "text": [
      "Before swapping: \n",
      "Value of x :  Ram  and y :  Laxman\n",
      "After swapping: \n",
      "Value of x :  Laxman  and y :  Ram\n"
     ]
    }
   ],
   "source": [
    "x = 'Ram'\n",
    "y = 'Laxman'\n",
    " \n",
    "print (\"Before swapping: \")\n",
    "print(\"Value of x : \", x, \" and y : \", y)\n",
    " \n",
    "# code to swap 'x' and 'y', left, right=right, left\n",
    "x, y = y, x\n",
    " \n",
    "print (\"After swapping: \")\n",
    "print(\"Value of x : \", x, \" and y : \",y)"
   ]
  },
  {
   "cell_type": "code",
   "execution_count": null,
   "id": "0ff4cd12",
   "metadata": {},
   "outputs": [],
   "source": []
  }
 ],
 "metadata": {
  "kernelspec": {
   "display_name": "Python 3 (ipykernel)",
   "language": "python",
   "name": "python3"
  },
  "language_info": {
   "codemirror_mode": {
    "name": "ipython",
    "version": 3
   },
   "file_extension": ".py",
   "mimetype": "text/x-python",
   "name": "python",
   "nbconvert_exporter": "python",
   "pygments_lexer": "ipython3",
   "version": "3.9.12"
  }
 },
 "nbformat": 4,
 "nbformat_minor": 5
}
