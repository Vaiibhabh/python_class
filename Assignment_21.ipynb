{
 "cells": [
  {
   "cell_type": "markdown",
   "id": "0c32f27e",
   "metadata": {},
   "source": [
    "# 1. Add the current date to the text file today.txt as a string."
   ]
  },
  {
   "cell_type": "code",
   "execution_count": 8,
   "id": "076e74fb",
   "metadata": {},
   "outputs": [
    {
     "data": {
      "text/plain": [
       "'2023-03-06'"
      ]
     },
     "execution_count": 8,
     "metadata": {},
     "output_type": "execute_result"
    }
   ],
   "source": [
    "import datetime\n",
    "from datetime import date\n",
    "today_date = date.today()\n",
    "current_date = today_date.isoformat()\n",
    "current_date\n",
    "     "
   ]
  },
  {
   "cell_type": "code",
   "execution_count": 9,
   "id": "928b2ed7",
   "metadata": {},
   "outputs": [],
   "source": [
    "\n",
    "with open('today_date.txt','w') as file:\n",
    "    file.write(current_date)"
   ]
  },
  {
   "cell_type": "markdown",
   "id": "4a27c0dc",
   "metadata": {},
   "source": [
    "# 2. Read the text file today.txt into the string today_string"
   ]
  },
  {
   "cell_type": "code",
   "execution_count": 13,
   "id": "e8ff4497",
   "metadata": {},
   "outputs": [
    {
     "data": {
      "text/plain": [
       "'2023-03-06'"
      ]
     },
     "execution_count": 13,
     "metadata": {},
     "output_type": "execute_result"
    }
   ],
   "source": [
    "with open('today_date.txt','r') as file:\n",
    "    todays_string= file.read()\n",
    "todays_string"
   ]
  },
  {
   "cell_type": "markdown",
   "id": "cf648538",
   "metadata": {},
   "source": [
    "# 3. Parse the date from today_string."
   ]
  },
  {
   "cell_type": "code",
   "execution_count": 14,
   "id": "48fd73e6",
   "metadata": {},
   "outputs": [
    {
     "data": {
      "text/plain": [
       "datetime.datetime(2023, 3, 6, 0, 0)"
      ]
     },
     "execution_count": 14,
     "metadata": {},
     "output_type": "execute_result"
    }
   ],
   "source": [
    "from datetime import datetime\n",
    "format = '%Y-%m-%d'\n",
    "datetime.strptime(todays_string,format)"
   ]
  },
  {
   "cell_type": "markdown",
   "id": "bf90e30c",
   "metadata": {},
   "source": [
    "# 4. List the files in your current directory"
   ]
  },
  {
   "cell_type": "code",
   "execution_count": 15,
   "id": "a80afd7a",
   "metadata": {},
   "outputs": [
    {
     "data": {
      "text/plain": [
       "['.conda',\n",
       " '.condarc',\n",
       " '.continuum',\n",
       " '.cufflinks',\n",
       " '.docker',\n",
       " '.git-for-windows-updater',\n",
       " '.gitconfig',\n",
       " '.ipynb_checkpoints',\n",
       " '.ipython',\n",
       " '.jline-jython.history',\n",
       " '.jupyter',\n",
       " '.matplotlib',\n",
       " '.Mendeley Desktop',\n",
       " '.ms-ad',\n",
       " '.QtWebEngineProcess',\n",
       " '.vscode',\n",
       " '26th feb class.ipynb',\n",
       " '3D Objects',\n",
       " '3rd_feb_graph .ipynb',\n",
       " '4th_march.ipynb',\n",
       " '8x11WordTemplates',\n",
       " '8x11WordTemplates (2)',\n",
       " 'anaconda',\n",
       " 'angle.docx',\n",
       " 'ansel',\n",
       " 'AppData',\n",
       " 'Application Data',\n",
       " 'Assignment_12.ipynb',\n",
       " 'Assignment_13.ipynb',\n",
       " 'Assignment_14.ipynb',\n",
       " 'Assignment_15.ipynb',\n",
       " 'Assignment_20.ipynb',\n",
       " 'Assignment_21.ipynb',\n",
       " 'books.csv',\n",
       " 'books.db',\n",
       " 'Calibre Library',\n",
       " 'Contacts',\n",
       " 'Cookies',\n",
       " 'Desktop',\n",
       " 'Documents',\n",
       " 'Downloads',\n",
       " 'Dropbox',\n",
       " 'Favorites',\n",
       " 'graph.ipynb',\n",
       " 'hellothere.docx',\n",
       " 'InstallAnywhere',\n",
       " 'Intel',\n",
       " 'IntelGraphicsProfiles',\n",
       " 'Links',\n",
       " 'Local Settings',\n",
       " 'M-505007290572047026857826405680826508440',\n",
       " 'M-505056056254652606420',\n",
       " 'MicrosoftEdgeBackups',\n",
       " 'Music',\n",
       " 'My Documents',\n",
       " 'NetHood',\n",
       " 'New folder',\n",
       " 'NTUSER.DAT',\n",
       " 'ntuser.dat.LOG1',\n",
       " 'ntuser.dat.LOG2',\n",
       " 'NTUSER.DAT{b9fbe179-0ef5-11eb-9409-caf02d346930}.TM.blf',\n",
       " 'NTUSER.DAT{b9fbe179-0ef5-11eb-9409-caf02d346930}.TMContainer00000000000000000001.regtrans-ms',\n",
       " 'NTUSER.DAT{b9fbe179-0ef5-11eb-9409-caf02d346930}.TMContainer00000000000000000002.regtrans-ms',\n",
       " 'ntuser.ini',\n",
       " 'OneDrive',\n",
       " 'output.html',\n",
       " 'paper.pdf',\n",
       " 'phones.csv',\n",
       " 'Pictures',\n",
       " 'Postman',\n",
       " 'PrintHood',\n",
       " 'Programme Assignment_9.ipynb',\n",
       " 'Programming Assignment_10.ipynb',\n",
       " 'Programming Assignment_11.ipynb',\n",
       " 'Programming Assignment_12.ipynb',\n",
       " 'Programming Assignment_7.ipynb',\n",
       " 'Programming Assignment_8.ipynb',\n",
       " 'Programming_Assignment1.ipynb',\n",
       " 'Recent',\n",
       " 'Roaming',\n",
       " 'Saved Games',\n",
       " 'scrapper1',\n",
       " 'seaborn-data',\n",
       " 'Searches',\n",
       " 'SendTo',\n",
       " 'Start Menu',\n",
       " 'Statement.pdf',\n",
       " 'T-3658266502056045030',\n",
       " 'Templates',\n",
       " 'test.png',\n",
       " 'test.txt',\n",
       " 'today_date.txt',\n",
       " 'Untitled.ipynb',\n",
       " 'Videos']"
      ]
     },
     "execution_count": 15,
     "metadata": {},
     "output_type": "execute_result"
    }
   ],
   "source": [
    "import os\n",
    "os.listdir('.')"
   ]
  },
  {
   "cell_type": "markdown",
   "id": "06a152d6",
   "metadata": {},
   "source": [
    "# 5. Create a list of all of the files in your parent directory (minimum five files should be available)."
   ]
  },
  {
   "cell_type": "code",
   "execution_count": 16,
   "id": "270ffc0e",
   "metadata": {},
   "outputs": [
    {
     "data": {
      "text/plain": [
       "['.conda',\n",
       " '.condarc',\n",
       " '.continuum',\n",
       " '.cufflinks',\n",
       " '.docker',\n",
       " '.git-for-windows-updater',\n",
       " '.gitconfig',\n",
       " '.ipynb_checkpoints',\n",
       " '.ipython',\n",
       " '.jline-jython.history',\n",
       " '.jupyter',\n",
       " '.matplotlib',\n",
       " '.Mendeley Desktop',\n",
       " '.ms-ad',\n",
       " '.QtWebEngineProcess',\n",
       " '.vscode',\n",
       " '26th feb class.ipynb',\n",
       " '3D Objects',\n",
       " '3rd_feb_graph .ipynb',\n",
       " '4th_march.ipynb',\n",
       " '8x11WordTemplates',\n",
       " '8x11WordTemplates (2)',\n",
       " 'anaconda',\n",
       " 'angle.docx',\n",
       " 'ansel',\n",
       " 'AppData',\n",
       " 'Application Data',\n",
       " 'Assignment_12.ipynb',\n",
       " 'Assignment_13.ipynb',\n",
       " 'Assignment_14.ipynb',\n",
       " 'Assignment_15.ipynb',\n",
       " 'Assignment_20.ipynb',\n",
       " 'Assignment_21.ipynb',\n",
       " 'books.csv',\n",
       " 'books.db',\n",
       " 'Calibre Library',\n",
       " 'Contacts',\n",
       " 'Cookies',\n",
       " 'Desktop',\n",
       " 'Documents',\n",
       " 'Downloads',\n",
       " 'Dropbox',\n",
       " 'Favorites',\n",
       " 'graph.ipynb',\n",
       " 'hellothere.docx',\n",
       " 'InstallAnywhere',\n",
       " 'Intel',\n",
       " 'IntelGraphicsProfiles',\n",
       " 'Links',\n",
       " 'Local Settings',\n",
       " 'M-505007290572047026857826405680826508440',\n",
       " 'M-505056056254652606420',\n",
       " 'MicrosoftEdgeBackups',\n",
       " 'Music',\n",
       " 'My Documents',\n",
       " 'NetHood',\n",
       " 'New folder',\n",
       " 'NTUSER.DAT',\n",
       " 'ntuser.dat.LOG1',\n",
       " 'ntuser.dat.LOG2',\n",
       " 'NTUSER.DAT{b9fbe179-0ef5-11eb-9409-caf02d346930}.TM.blf',\n",
       " 'NTUSER.DAT{b9fbe179-0ef5-11eb-9409-caf02d346930}.TMContainer00000000000000000001.regtrans-ms',\n",
       " 'NTUSER.DAT{b9fbe179-0ef5-11eb-9409-caf02d346930}.TMContainer00000000000000000002.regtrans-ms',\n",
       " 'ntuser.ini',\n",
       " 'OneDrive',\n",
       " 'output.html',\n",
       " 'paper.pdf',\n",
       " 'phones.csv',\n",
       " 'Pictures',\n",
       " 'Postman',\n",
       " 'PrintHood',\n",
       " 'Programme Assignment_9.ipynb',\n",
       " 'Programming Assignment_10.ipynb',\n",
       " 'Programming Assignment_11.ipynb',\n",
       " 'Programming Assignment_12.ipynb',\n",
       " 'Programming Assignment_7.ipynb',\n",
       " 'Programming Assignment_8.ipynb',\n",
       " 'Programming_Assignment1.ipynb',\n",
       " 'Recent',\n",
       " 'Roaming',\n",
       " 'Saved Games',\n",
       " 'scrapper1',\n",
       " 'seaborn-data',\n",
       " 'Searches',\n",
       " 'SendTo',\n",
       " 'Start Menu',\n",
       " 'Statement.pdf',\n",
       " 'T-3658266502056045030',\n",
       " 'Templates',\n",
       " 'test.png',\n",
       " 'test.txt',\n",
       " 'today_date.txt',\n",
       " 'Untitled.ipynb',\n",
       " 'Videos']"
      ]
     },
     "execution_count": 16,
     "metadata": {},
     "output_type": "execute_result"
    }
   ],
   "source": [
    "import os\n",
    "os.listdir('.')"
   ]
  },
  {
   "cell_type": "markdown",
   "id": "cc51474e",
   "metadata": {},
   "source": [
    "# 6. Use multiprocessing to create three separate processes. Make each one wait a random number of seconds between one and five, print the current time, and then exit."
   ]
  },
  {
   "cell_type": "code",
   "execution_count": null,
   "id": "210a514d",
   "metadata": {},
   "outputs": [],
   "source": [
    "import multiprocessing\n",
    "\n",
    "def printsec(seconds):\n",
    "    from datetime import datetime\n",
    "    from time import sleep\n",
    "    sleep(seconds)\n",
    "    print('wait', seconds, 'seconds, time is', datetime.utcnow())\n",
    "    \n",
    "if __name__ == '__main__':\n",
    "    import random    \n",
    "    for n in range(3):\n",
    "        seconds = random.random()\n",
    "        proc = multiprocessing.Process(target=printsec, args=(seconds,))\n",
    "        proc.start()"
   ]
  },
  {
   "cell_type": "code",
   "execution_count": null,
   "id": "bcabc6a8",
   "metadata": {},
   "outputs": [],
   "source": [
    "!python graph.ipynb"
   ]
  },
  {
   "cell_type": "markdown",
   "id": "e71bed7d",
   "metadata": {},
   "source": [
    "# 7. Create a date object of your day of birth."
   ]
  },
  {
   "cell_type": "code",
   "execution_count": 17,
   "id": "d3aeb632",
   "metadata": {},
   "outputs": [
    {
     "data": {
      "text/plain": [
       "datetime.date(1997, 7, 26)"
      ]
     },
     "execution_count": 17,
     "metadata": {},
     "output_type": "execute_result"
    }
   ],
   "source": [
    "my_dob = date(1997,7,26)\n",
    "my_dob"
   ]
  },
  {
   "cell_type": "markdown",
   "id": "56765a13",
   "metadata": {},
   "source": [
    "# 8. What day of the week was your day of birth?"
   ]
  },
  {
   "cell_type": "code",
   "execution_count": 18,
   "id": "c9d20418",
   "metadata": {},
   "outputs": [
    {
     "data": {
      "text/plain": [
       "5"
      ]
     },
     "execution_count": 18,
     "metadata": {},
     "output_type": "execute_result"
    }
   ],
   "source": [
    "my_dob.weekday()"
   ]
  },
  {
   "cell_type": "markdown",
   "id": "594768b7",
   "metadata": {},
   "source": [
    "# 9. When will you be (or when were you) 10,000 days old?"
   ]
  },
  {
   "cell_type": "code",
   "execution_count": 20,
   "id": "78070afd",
   "metadata": {},
   "outputs": [
    {
     "data": {
      "text/plain": [
       "datetime.date(2024, 12, 11)"
      ]
     },
     "execution_count": 20,
     "metadata": {},
     "output_type": "execute_result"
    }
   ],
   "source": [
    "from datetime import timedelta\n",
    "day10000 = my_dob + timedelta(days=10000)\n",
    "day10000"
   ]
  }
 ],
 "metadata": {
  "kernelspec": {
   "display_name": "Python 3 (ipykernel)",
   "language": "python",
   "name": "python3"
  },
  "language_info": {
   "codemirror_mode": {
    "name": "ipython",
    "version": 3
   },
   "file_extension": ".py",
   "mimetype": "text/x-python",
   "name": "python",
   "nbconvert_exporter": "python",
   "pygments_lexer": "ipython3",
   "version": "3.9.12"
  }
 },
 "nbformat": 4,
 "nbformat_minor": 5
}
