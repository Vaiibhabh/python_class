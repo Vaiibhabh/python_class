{
 "cells": [
  {
   "cell_type": "markdown",
   "id": "b398b43e",
   "metadata": {},
   "source": [
    "# 1. Create an assert statement that throws an AssertionError if the variable spam is a negative integer."
   ]
  },
  {
   "cell_type": "code",
   "execution_count": 22,
   "id": "972b4114",
   "metadata": {},
   "outputs": [],
   "source": [
    "def test():\n",
    "    try:\n",
    "        spam = int(input('enter a number: '))\n",
    "        assert spam>=0, 'condition satisfied'\n",
    "        print('the value of variable spam is ', spam)\n",
    "    except AssertionError as ae:\n",
    "        print ('please input the value of spam greater or equal to zero')\n",
    "        \n",
    "    "
   ]
  },
  {
   "cell_type": "code",
   "execution_count": 23,
   "id": "0c8bfdad",
   "metadata": {},
   "outputs": [
    {
     "name": "stdout",
     "output_type": "stream",
     "text": [
      "enter a number: -9\n",
      "please input the value of spam greater or equal to zero\n"
     ]
    }
   ],
   "source": [
    "test()"
   ]
  },
  {
   "cell_type": "code",
   "execution_count": 24,
   "id": "a748d0f6",
   "metadata": {},
   "outputs": [
    {
     "name": "stdout",
     "output_type": "stream",
     "text": [
      "enter a number: 5\n",
      "the value of variable spam is  5\n"
     ]
    }
   ],
   "source": [
    "test()"
   ]
  },
  {
   "cell_type": "markdown",
   "id": "af9021a6",
   "metadata": {},
   "source": [
    "# 2. Write an assert statement that triggers an AssertionError if the variables eggs and bacon contain strings that are the same as each other, even if their cases are different (that is, 'hello' and 'hello' are considered the same, and 'goodbye' and 'GOODbye' are also considered the same)."
   ]
  },
  {
   "cell_type": "code",
   "execution_count": 28,
   "id": "5bd51be3",
   "metadata": {},
   "outputs": [],
   "source": [
    "def test1():\n",
    "    eggs= input('input the first string: ')\n",
    "    bacon = input ('input the second string: ')\n",
    "    try:\n",
    "        assert eggs.lower()!=bacon.lower(), 'condtion satiesfied'\n",
    "        print('both strings are different')\n",
    "    except AssertionError as ae:\n",
    "        print('both strings variable are same please input the different value')"
   ]
  },
  {
   "cell_type": "code",
   "execution_count": 29,
   "id": "fcebaa37",
   "metadata": {},
   "outputs": [
    {
     "name": "stdout",
     "output_type": "stream",
     "text": [
      "input the first string: hello\n",
      "input the second string: HELLO\n",
      "both strings variable are same please input the different value\n"
     ]
    }
   ],
   "source": [
    "test1()"
   ]
  },
  {
   "cell_type": "code",
   "execution_count": 31,
   "id": "92901301",
   "metadata": {},
   "outputs": [
    {
     "name": "stdout",
     "output_type": "stream",
     "text": [
      "input the first string: goodbye\n",
      "input the second string: goodbye\n",
      "both strings variable are same please input the different value\n"
     ]
    }
   ],
   "source": [
    "test1()"
   ]
  },
  {
   "cell_type": "code",
   "execution_count": 32,
   "id": "8b1c2285",
   "metadata": {},
   "outputs": [
    {
     "name": "stdout",
     "output_type": "stream",
     "text": [
      "input the first string: Ram\n",
      "input the second string: ramlella\n",
      "both strings are different\n"
     ]
    }
   ],
   "source": [
    "test1()"
   ]
  },
  {
   "cell_type": "markdown",
   "id": "13688a35",
   "metadata": {},
   "source": [
    "# 3. Create an assert statement that throws an AssertionError every time."
   ]
  },
  {
   "cell_type": "code",
   "execution_count": 40,
   "id": "948940c6",
   "metadata": {},
   "outputs": [],
   "source": [
    "def test2():\n",
    "    try:\n",
    "        assert False, 'this will always give assertion error'\n",
    "        print('this line is running')\n",
    "    except AssertionError as ae:\n",
    "        print('assert boolean is set to false set it true to run the next line of code')"
   ]
  },
  {
   "cell_type": "code",
   "execution_count": 41,
   "id": "4c0cf5e0",
   "metadata": {},
   "outputs": [
    {
     "name": "stdout",
     "output_type": "stream",
     "text": [
      "assert boolean is set to false set it true to run the next line of code\n"
     ]
    }
   ],
   "source": [
    "test2()"
   ]
  },
  {
   "cell_type": "markdown",
   "id": "28234882",
   "metadata": {},
   "source": [
    "# 4. What are the two lines that must be present in your software in order to call logging.debug()?"
   ]
  },
  {
   "cell_type": "code",
   "execution_count": null,
   "id": "cde7effe",
   "metadata": {},
   "outputs": [],
   "source": [
    "import logging\n",
    "logging.basicConfig(level=logging.DEBUG)\n",
    "# above two lines are necesarry in order to call logging.debug()"
   ]
  },
  {
   "cell_type": "markdown",
   "id": "93aa1bcb",
   "metadata": {},
   "source": [
    "# 5. What are the two lines that your program must have in order to have logging.debug() send a logging message to a file named programLog.txt?"
   ]
  },
  {
   "cell_type": "code",
   "execution_count": null,
   "id": "d3e098fb",
   "metadata": {},
   "outputs": [],
   "source": [
    "import logging\n",
    "logging.basicConfig(filename= 'programLog.txt',level=logging.DEBUG, format= '%(asctime)s- %(levelname)s - %(message)s')\n",
    "# above two lines are necesarry in order to call logging.debug() and send a logging message to a file named programLog.txt"
   ]
  },
  {
   "cell_type": "markdown",
   "id": "3c5d2f83",
   "metadata": {},
   "source": [
    "# 6. What are the five levels of logging?"
   ]
  },
  {
   "cell_type": "code",
   "execution_count": null,
   "id": "4a62ec33",
   "metadata": {},
   "outputs": [],
   "source": [
    "Ans. Five levels of logging are:\n",
    "1. DEBUG- state of variables and small details\n",
    "2. INFO - general events, confirmation of working of a program\n",
    "3. WARNING - potiential problem that may create failure in the program in the future\n",
    "4. ERROR - records the error that caused failure of program\n",
    "5. CRITICAL - major error that has failed the program\n"
   ]
  },
  {
   "cell_type": "markdown",
   "id": "5b909ff0",
   "metadata": {},
   "source": [
    "# 7. What line of code would you add to your software to disable all logging messages?"
   ]
  },
  {
   "cell_type": "code",
   "execution_count": null,
   "id": "0151190c",
   "metadata": {},
   "outputs": [],
   "source": [
    "Ans. \n",
    "logging.disable(logging.DEBUG)"
   ]
  },
  {
   "cell_type": "markdown",
   "id": "7b1852cc",
   "metadata": {},
   "source": [
    "# 8.Why is using logging messages better than using print() to display the same message?"
   ]
  },
  {
   "cell_type": "markdown",
   "id": "6e8880ee",
   "metadata": {},
   "source": [
    "Ans. if codes go into the production after some time its gets crashes than we have to track application during runtime , so we need logging instead of print statemnets because codes run for 1000s of lines, which inludes many other modules (python files)."
   ]
  },
  {
   "cell_type": "markdown",
   "id": "62495de3",
   "metadata": {},
   "source": [
    "# 9. What are the differences between the Step Over, Step In, and Step Out buttons in the debugger?"
   ]
  },
  {
   "cell_type": "markdown",
   "id": "8b6aee6e",
   "metadata": {},
   "source": [
    "Ans.\n",
    "Step over- To  debug the test in a single step. When a procedure is called, the complete procedure call will be executed as a single step rather than step over, which is utilised for debugging test steps line by line. The cursor will never go inside the test procedure.\n",
    "Step in-To debug the test steps line by line, can use Step Into. Step Into allows you to enter the procedure when it is called and debugs the process steps line by line.\n",
    "Step out- Only once the debugging cursor enters a procedure will step out be enabled. The only time the test gets debugged with step into is when the cursor enters a procedure."
   ]
  },
  {
   "cell_type": "markdown",
   "id": "ad43ee14",
   "metadata": {},
   "source": [
    "# 10.After you click Continue, when will the debugger stop ?"
   ]
  },
  {
   "cell_type": "code",
   "execution_count": null,
   "id": "fe439d03",
   "metadata": {},
   "outputs": [],
   "source": [
    "Ans. After you click continue, only stop when a breakpoint is encountered."
   ]
  },
  {
   "cell_type": "markdown",
   "id": "a3a98735",
   "metadata": {},
   "source": [
    "# 11. What is the concept of a breakpoint?"
   ]
  },
  {
   "cell_type": "markdown",
   "id": "61dc9454",
   "metadata": {},
   "source": [
    "Ans. A breakpoint is a setting on a line of code that causes the debugger to pause when the program execution reaches the line."
   ]
  }
 ],
 "metadata": {
  "kernelspec": {
   "display_name": "Python 3 (ipykernel)",
   "language": "python",
   "name": "python3"
  },
  "language_info": {
   "codemirror_mode": {
    "name": "ipython",
    "version": 3
   },
   "file_extension": ".py",
   "mimetype": "text/x-python",
   "name": "python",
   "nbconvert_exporter": "python",
   "pygments_lexer": "ipython3",
   "version": "3.9.12"
  }
 },
 "nbformat": 4,
 "nbformat_minor": 5
}
