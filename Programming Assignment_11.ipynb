{
 "cells": [
  {
   "cell_type": "markdown",
   "id": "a6279cb1",
   "metadata": {},
   "source": [
    "# 1.\tWrite a Python program to find words which are greater than given length k?"
   ]
  },
  {
   "cell_type": "code",
   "execution_count": 5,
   "id": "ddcbe82f",
   "metadata": {},
   "outputs": [],
   "source": [
    "def greater(n):\n",
    "    l=[]\n",
    "    for i in range(n):\n",
    "        l.append(input())\n",
    "    print('the entered list of words is: ', l)\n",
    "    k= int(input('enter the cut-off length of words : '))\n",
    "    lst=[]\n",
    "    for j in l:\n",
    "        if len(j)> k:\n",
    "            lst.append(j)\n",
    "    print(lst)"
   ]
  },
  {
   "cell_type": "code",
   "execution_count": 6,
   "id": "7adc07b3",
   "metadata": {},
   "outputs": [
    {
     "name": "stdout",
     "output_type": "stream",
     "text": [
      "ramsita\n",
      "rravisuman\n",
      "lala\n",
      "baibhav\n",
      "neha\n",
      "kajal\n",
      "the entered list of words is:  ['ramsita', 'rravisuman', 'lala', 'baibhav', 'neha', 'kajal']\n",
      "enter the cut-off length of words : 8\n",
      "['rravisuman']\n"
     ]
    }
   ],
   "source": [
    "greater(6)"
   ]
  },
  {
   "cell_type": "markdown",
   "id": "5c604f39",
   "metadata": {},
   "source": [
    "# 2.\tWrite a Python program for removing i-th character from a string?"
   ]
  },
  {
   "cell_type": "code",
   "execution_count": 15,
   "id": "8893dd89",
   "metadata": {},
   "outputs": [],
   "source": [
    "def remove(string,n):\n",
    "    for j in range(len(string)):\n",
    "    \n",
    "        if j==n:\n",
    "            string= string.replace(string[n],'',1)\n",
    "    return string\n"
   ]
  },
  {
   "cell_type": "code",
   "execution_count": 16,
   "id": "5d215a44",
   "metadata": {},
   "outputs": [
    {
     "data": {
      "text/plain": [
       "'ramcandra'"
      ]
     },
     "execution_count": 16,
     "metadata": {},
     "output_type": "execute_result"
    }
   ],
   "source": [
    "remove('ramchandra',4)"
   ]
  },
  {
   "cell_type": "markdown",
   "id": "d52cbc3b",
   "metadata": {},
   "source": [
    "# 3.\tWrite a Python program to split and join a string?"
   ]
  },
  {
   "cell_type": "code",
   "execution_count": 59,
   "id": "76772c26",
   "metadata": {},
   "outputs": [],
   "source": [
    "def split_s(string):\n",
    "    string= string.split(' ')\n",
    "    return string\n",
    "\n",
    "def join_s(string):\n",
    "    string= '-'.join(string)\n",
    "    return string"
   ]
  },
  {
   "cell_type": "code",
   "execution_count": 60,
   "id": "05c35a8a",
   "metadata": {},
   "outputs": [
    {
     "data": {
      "text/plain": [
       "['ramchandra', 'keh', 'gaya', 'siya', 'se']"
      ]
     },
     "execution_count": 60,
     "metadata": {},
     "output_type": "execute_result"
    }
   ],
   "source": [
    "split_s('ramchandra keh gaya siya se')"
   ]
  },
  {
   "cell_type": "code",
   "execution_count": 61,
   "id": "ca6e2e86",
   "metadata": {},
   "outputs": [
    {
     "data": {
      "text/plain": [
       "'r-a-m-c-h-a-n-d-r-a- -k-e-h- -g-a-y-a- -s-i-y-a- -s-e'"
      ]
     },
     "execution_count": 61,
     "metadata": {},
     "output_type": "execute_result"
    }
   ],
   "source": [
    "join_s('ramchandra keh gaya siya se')"
   ]
  },
  {
   "cell_type": "markdown",
   "id": "693a9061",
   "metadata": {},
   "source": [
    "# 4.\tWrite a Python to check if a given string is binary string or not?"
   ]
  },
  {
   "cell_type": "code",
   "execution_count": 86,
   "id": "5dd2ad19",
   "metadata": {},
   "outputs": [],
   "source": [
    "def binary(string):\n",
    "    p= '01'\n",
    "    count=0\n",
    "    for char in string:\n",
    "        if char not in p:\n",
    "            count=1\n",
    "            break\n",
    "        else:\n",
    "            pass\n",
    "        \n",
    "    if count:\n",
    "        print('No')\n",
    "    else:\n",
    "        print('Yes')"
   ]
  },
  {
   "cell_type": "code",
   "execution_count": 84,
   "id": "996b3285",
   "metadata": {},
   "outputs": [
    {
     "name": "stdout",
     "output_type": "stream",
     "text": [
      "No\n"
     ]
    }
   ],
   "source": [
    "binary('1011011101kl0')"
   ]
  },
  {
   "cell_type": "code",
   "execution_count": 85,
   "id": "37d584a0",
   "metadata": {},
   "outputs": [
    {
     "name": "stdout",
     "output_type": "stream",
     "text": [
      "Yes\n"
     ]
    }
   ],
   "source": [
    "binary('10110111010')"
   ]
  },
  {
   "cell_type": "markdown",
   "id": "40f136ff",
   "metadata": {},
   "source": [
    "# 5.\tWrite a Python program to find uncommon words from two Strings?"
   ]
  },
  {
   "cell_type": "code",
   "execution_count": 99,
   "id": "d78fd3e1",
   "metadata": {},
   "outputs": [],
   "source": [
    "def uncommon(s1, s2):\n",
    "    s1= s1.split(' ')\n",
    "    s2= s2.split(' ')\n",
    "    lst=[]\n",
    "    for i in s1:\n",
    "        if i not in s2:\n",
    "            lst.append(i)\n",
    "    for i in s2:\n",
    "        if i not in s1:\n",
    "            lst.append(i)\n",
    "    \n",
    "    return lst"
   ]
  },
  {
   "cell_type": "code",
   "execution_count": 100,
   "id": "6a3ee10c",
   "metadata": {},
   "outputs": [
    {
     "data": {
      "text/plain": [
       "['Learning', 'from']"
      ]
     },
     "execution_count": 100,
     "metadata": {},
     "output_type": "execute_result"
    }
   ],
   "source": [
    "uncommon('Geeks for Geeks', 'Learning from Geeks for Geeks')"
   ]
  },
  {
   "cell_type": "markdown",
   "id": "84e74abf",
   "metadata": {},
   "source": [
    "# 6.\tWrite a Python to find all duplicate characters in string?"
   ]
  },
  {
   "cell_type": "code",
   "execution_count": 107,
   "id": "70cb7dbd",
   "metadata": {},
   "outputs": [],
   "source": [
    "def duplivcate(s):\n",
    "    lst=[]\n",
    "    for i in s:\n",
    "        if i not in lst and s.count(i)>1:\n",
    "            lst.append(i)\n",
    "            a= ' '.join(lst)\n",
    "    return a\n",
    "        "
   ]
  },
  {
   "cell_type": "code",
   "execution_count": 108,
   "id": "f2120853",
   "metadata": {},
   "outputs": [
    {
     "data": {
      "text/plain": [
       "'v a'"
      ]
     },
     "execution_count": 108,
     "metadata": {},
     "output_type": "execute_result"
    }
   ],
   "source": [
    "duplivcate('vaibhav')"
   ]
  },
  {
   "cell_type": "markdown",
   "id": "6afa96b1",
   "metadata": {},
   "source": [
    "# 7.\tWrite a Python Program to check if a string contains any special character?"
   ]
  },
  {
   "cell_type": "code",
   "execution_count": 109,
   "id": "a6068910",
   "metadata": {},
   "outputs": [],
   "source": [
    "def has_special_char(s):\n",
    "  for c in s:\n",
    "    if not (c.isalpha() or c.isdigit() or c == ' '):\n",
    "      return True\n",
    "  return False"
   ]
  },
  {
   "cell_type": "code",
   "execution_count": 111,
   "id": "00d5321e",
   "metadata": {},
   "outputs": [
    {
     "data": {
      "text/plain": [
       "True"
      ]
     },
     "execution_count": 111,
     "metadata": {},
     "output_type": "execute_result"
    }
   ],
   "source": [
    "has_special_char('ram # chandra keh gaye siya se')"
   ]
  },
  {
   "cell_type": "code",
   "execution_count": 112,
   "id": "41888f7a",
   "metadata": {},
   "outputs": [
    {
     "data": {
      "text/plain": [
       "False"
      ]
     },
     "execution_count": 112,
     "metadata": {},
     "output_type": "execute_result"
    }
   ],
   "source": [
    "has_special_char('ram chandra keh gaye siya se')"
   ]
  },
  {
   "cell_type": "code",
   "execution_count": null,
   "id": "f4b2d541",
   "metadata": {},
   "outputs": [],
   "source": []
  }
 ],
 "metadata": {
  "kernelspec": {
   "display_name": "Python 3 (ipykernel)",
   "language": "python",
   "name": "python3"
  },
  "language_info": {
   "codemirror_mode": {
    "name": "ipython",
    "version": 3
   },
   "file_extension": ".py",
   "mimetype": "text/x-python",
   "name": "python",
   "nbconvert_exporter": "python",
   "pygments_lexer": "ipython3",
   "version": "3.9.12"
  }
 },
 "nbformat": 4,
 "nbformat_minor": 5
}
