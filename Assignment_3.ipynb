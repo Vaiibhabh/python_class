{
 "cells": [
  {
   "cell_type": "markdown",
   "id": "16ebd1f4",
   "metadata": {},
   "source": [
    "# 1. Why are functions advantageous to have in your programs?"
   ]
  },
  {
   "cell_type": "markdown",
   "id": "8a18639e",
   "metadata": {},
   "source": [
    "Function readuce the needs of duplicate code. It helps in generalising the code for a specific work. Also it helps in built a shorter program, which is easier to read, understand and debug."
   ]
  },
  {
   "cell_type": "markdown",
   "id": "6da948e7",
   "metadata": {},
   "source": [
    "#  2. When does the code in a function run: when it's specified or when it's called?"
   ]
  },
  {
   "cell_type": "markdown",
   "id": "b06df638",
   "metadata": {},
   "source": [
    "The code in a fucntion rund when it is called no defined.  example is given below:"
   ]
  },
  {
   "cell_type": "code",
   "execution_count": 1,
   "id": "335f9514",
   "metadata": {},
   "outputs": [],
   "source": [
    "def test1(A,B): # here function is defined so its not giving anything\n",
    "    return A+B"
   ]
  },
  {
   "cell_type": "code",
   "execution_count": 2,
   "id": "d9baa84d",
   "metadata": {},
   "outputs": [
    {
     "data": {
      "text/plain": [
       "15"
      ]
     },
     "execution_count": 2,
     "metadata": {},
     "output_type": "execute_result"
    }
   ],
   "source": [
    "test1(6,9) # here fucntion is called so it is running"
   ]
  },
  {
   "cell_type": "markdown",
   "id": "32b293a3",
   "metadata": {},
   "source": [
    "# 3. What statement creates a function?"
   ]
  },
  {
   "cell_type": "markdown",
   "id": "50acc56f",
   "metadata": {},
   "source": [
    "The def keyword is used to define a function, which is then followed by a name of your choosing, a set of parentheses that contain any parameters the function will accept (they can be empty), and a colon. Example is given below:"
   ]
  },
  {
   "cell_type": "code",
   "execution_count": 4,
   "id": "c5d05a70",
   "metadata": {},
   "outputs": [],
   "source": [
    "def test2():\n",
    "    return"
   ]
  },
  {
   "cell_type": "markdown",
   "id": "76067478",
   "metadata": {},
   "source": [
    "# 4. What is the difference between a function and a function call?"
   ]
  },
  {
   "cell_type": "markdown",
   "id": "1dabb301",
   "metadata": {},
   "source": [
    "A chunk of code known as a function performs a certain task and produces a result. In most cases, it takes inputs as parameters and produces a output. The requirements are optional. The code that transfers control to a function is known as a function call."
   ]
  },
  {
   "cell_type": "markdown",
   "id": "d6a98860",
   "metadata": {},
   "source": [
    "# 5. How many global scopes are there in a Python program? How many local scopes?"
   ]
  },
  {
   "cell_type": "markdown",
   "id": "64f65777",
   "metadata": {},
   "source": [
    "There is only one global scope per python program, whereas local scope can be of any number that is defined in fuction call."
   ]
  },
  {
   "cell_type": "markdown",
   "id": "77589bc1",
   "metadata": {},
   "source": [
    "# 6. What happens to variables in a local scope when the function call returns?"
   ]
  },
  {
   "cell_type": "markdown",
   "id": "b67292d7",
   "metadata": {},
   "source": [
    "After the ececution of fucntion call returns local scope gets deleted and becomes ready to hold any new temporary value if the fucntion is executed again."
   ]
  },
  {
   "cell_type": "markdown",
   "id": "b6184ca3",
   "metadata": {},
   "source": [
    "# 7. What is the concept of a return value? Is it possible to have a return value in an expression?"
   ]
  },
  {
   "cell_type": "markdown",
   "id": "8f9e0c81",
   "metadata": {},
   "source": [
    "When a function is finished with its duty, it returns a value to the caller script or function. Any of the four variable types—handle, integer, object, or string—can be used as a return value. Your function's output is strongly influenced by the task it completes."
   ]
  },
  {
   "cell_type": "markdown",
   "id": "baa03041",
   "metadata": {},
   "source": [
    "# 8. If a function does not have a return statement, what is the return value of a call to that function?"
   ]
  },
  {
   "cell_type": "markdown",
   "id": "233a0d71",
   "metadata": {},
   "source": [
    "Python will implicitly return a default value for you if you completely omit the return statement. That return value's default is always None"
   ]
  },
  {
   "cell_type": "markdown",
   "id": "f3931aad",
   "metadata": {},
   "source": [
    "# 9. How do you make a function variable refer to the global variable?"
   ]
  },
  {
   "cell_type": "markdown",
   "id": "0bca0894",
   "metadata": {},
   "source": [
    "If the variable is defined inside a fucntion it is a local variable and will only execute when fucntionis called. To make fucntiona variable global, it needs to be defined outside the fucntion."
   ]
  },
  {
   "cell_type": "markdown",
   "id": "ea9d95fb",
   "metadata": {},
   "source": [
    "# 10. What is the data type of None?"
   ]
  },
  {
   "cell_type": "markdown",
   "id": "4e2df6e4",
   "metadata": {},
   "source": [
    "None is itself a data type in python and it is not equivalent to null or zero."
   ]
  },
  {
   "cell_type": "markdown",
   "id": "c94e64f1",
   "metadata": {},
   "source": [
    "# 11. What does the sentence import areallyourpetsnamederic do?"
   ]
  },
  {
   "cell_type": "markdown",
   "id": "0103b902",
   "metadata": {},
   "source": [
    "This sentence imports the a module named areallyourpetsnamederic."
   ]
  },
  {
   "cell_type": "markdown",
   "id": "2960f7d4",
   "metadata": {},
   "source": [
    "# 12. If you had a bacon() feature in a spam module, what would you call it after importing spam?"
   ]
  },
  {
   "cell_type": "markdown",
   "id": "3224f3a2",
   "metadata": {},
   "source": [
    "This can called as spam.bacon()"
   ]
  },
  {
   "cell_type": "markdown",
   "id": "2baa8e42",
   "metadata": {},
   "source": [
    "# 13. What can you do to save a programme from crashing if it encounters an error?"
   ]
  },
  {
   "cell_type": "markdown",
   "id": "ced7850f",
   "metadata": {},
   "source": [
    "If a program encounter an error, to save it fromcrashing it we write a block of code with try and exception handling statement."
   ]
  },
  {
   "cell_type": "markdown",
   "id": "c805a8ab",
   "metadata": {},
   "source": [
    "# 14. What is the purpose of the try clause? What is the purpose of the except clause?"
   ]
  },
  {
   "cell_type": "markdown",
   "id": "9d3d9c82",
   "metadata": {},
   "source": [
    "You are able to test a section of code for mistakes using the try clause. The exception or except clause block gives you the ability to handle any errors that occur."
   ]
  },
  {
   "cell_type": "code",
   "execution_count": null,
   "id": "20e139c8",
   "metadata": {},
   "outputs": [],
   "source": []
  }
 ],
 "metadata": {
  "kernelspec": {
   "display_name": "Python 3 (ipykernel)",
   "language": "python",
   "name": "python3"
  },
  "language_info": {
   "codemirror_mode": {
    "name": "ipython",
    "version": 3
   },
   "file_extension": ".py",
   "mimetype": "text/x-python",
   "name": "python",
   "nbconvert_exporter": "python",
   "pygments_lexer": "ipython3",
   "version": "3.9.12"
  }
 },
 "nbformat": 4,
 "nbformat_minor": 5
}
