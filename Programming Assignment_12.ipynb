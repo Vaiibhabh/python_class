{
 "cells": [
  {
   "cell_type": "markdown",
   "id": "2c44d23b",
   "metadata": {},
   "source": [
    "# 1.\tWrite a Python program to Extract Unique values dictionary values?"
   ]
  },
  {
   "cell_type": "code",
   "execution_count": 12,
   "id": "c16882d1",
   "metadata": {},
   "outputs": [
    {
     "name": "stdout",
     "output_type": "stream",
     "text": [
      "[2, 3, 4, 6, 7, 9, 10, 22, 23, 25, 31, 36, 45, 49, 61, 71, 72]\n"
     ]
    }
   ],
   "source": [
    "dict1= {'key1':[3,6,7,2,4],\n",
    "       'key2':[3,36,9,25,4],\n",
    "        'key3':[31,6,72,23,45],\n",
    "        'key4':[3,61,71,2,45],\n",
    "        'key5':[9,10,7,22,49],\n",
    "       }\n",
    "unique_values= []\n",
    "for i in dict1.keys():\n",
    "    unique_values.extend(dict1[i])\n",
    "    unique_values= list(set(unique_values))\n",
    "    unique_values.sort()\n",
    "print ((unique_values))"
   ]
  },
  {
   "cell_type": "markdown",
   "id": "b937b7c1",
   "metadata": {},
   "source": [
    "# 2.\tWrite a Python program to find the sum of all items in a dictionary?"
   ]
  },
  {
   "cell_type": "code",
   "execution_count": 21,
   "id": "b84eb327",
   "metadata": {},
   "outputs": [
    {
     "name": "stdout",
     "output_type": "stream",
     "text": [
      "588\n"
     ]
    }
   ],
   "source": [
    "dict1= {'key1':45,\n",
    "       'key2':90,\n",
    "        'key3':300,\n",
    "        'key4':30,\n",
    "        'key5':123,\n",
    "       }\n",
    "l=[]\n",
    "for i in dict1:\n",
    "    l.append(dict1[i])\n",
    "    final= sum(l)\n",
    "    \n",
    "print(final)"
   ]
  },
  {
   "cell_type": "markdown",
   "id": "f833ab62",
   "metadata": {},
   "source": [
    "# 3.\tWrite a Python program to Merging two Dictionaries?"
   ]
  },
  {
   "cell_type": "code",
   "execution_count": 25,
   "id": "ac3ec037",
   "metadata": {},
   "outputs": [
    {
     "name": "stdout",
     "output_type": "stream",
     "text": [
      "{'key1': [3, 6, 7, 2, 4], 'key2': [3, 36, 9, 25, 4], 'key3': [31, 6, 72, 23, 45], 'key4': [3, 61, 71, 2, 45], 'key5': [9, 10, 7, 22, 49], 'a': 45, 'b': 90, 'c': 300, 'd': 30, 'e': 123}\n"
     ]
    }
   ],
   "source": [
    "\n",
    "def Merge(dict1,dict2):\n",
    "    for i in dict2.keys():\n",
    "        dict1[i]= dict2[i]\n",
    "    return dict1\n",
    "dict1= {'key1':[3,6,7,2,4],\n",
    "       'key2':[3,36,9,25,4],\n",
    "        'key3':[31,6,72,23,45],\n",
    "        'key4':[3,61,71,2,45],\n",
    "        'key5':[9,10,7,22,49],\n",
    "       }\n",
    "dict2= {'a':45,\n",
    "       'b':90,\n",
    "        'c':300,\n",
    "        'd':30,\n",
    "        'e':123,\n",
    "       }\n",
    "dict3= Merge(dict1, dict2)\n",
    "print(dict3)"
   ]
  },
  {
   "cell_type": "code",
   "execution_count": 34,
   "id": "f15d7877",
   "metadata": {},
   "outputs": [
    {
     "name": "stdout",
     "output_type": "stream",
     "text": [
      "{'key1': [3, 6, 7, 2, 4], 'key2': [3, 36, 9, 25, 4], 'key3': [31, 6, 72, 23, 45], 'key4': [3, 61, 71, 2, 45], 'key5': [9, 10, 7, 22, 49], 'a': 45, 'b': 90, 'c': 300, 'd': 30, 'e': 123}\n"
     ]
    }
   ],
   "source": [
    "def Merge_1(dict1, dict2):\n",
    "    res= {**dict1,**dict2}\n",
    "    return res\n",
    "\n",
    "dict1= {'key1':[3,6,7,2,4],\n",
    "       'key2':[3,36,9,25,4],\n",
    "        'key3':[31,6,72,23,45],\n",
    "        'key4':[3,61,71,2,45],\n",
    "        'key5':[9,10,7,22,49]\n",
    "       }\n",
    "dict2= {'a':45,\n",
    "       'b':90,\n",
    "        'c':300,\n",
    "        'd':30,\n",
    "        'e':123\n",
    "       }\n",
    "\n",
    "dict3 = Merge_1(dict1, dict2)\n",
    "print(dict3)"
   ]
  },
  {
   "cell_type": "markdown",
   "id": "06b86e5a",
   "metadata": {},
   "source": [
    "# 4.\tWrite a Python program to convert key-values list to flat dictionary?"
   ]
  },
  {
   "cell_type": "code",
   "execution_count": 35,
   "id": "ccace371",
   "metadata": {},
   "outputs": [
    {
     "name": "stdout",
     "output_type": "stream",
     "text": [
      "{10: 'ram', 11: 'shyam', 12: 'radhesyam'}\n"
     ]
    }
   ],
   "source": [
    "test_dict = {'classes': [10,11,12], 'name':['ram', 'shyam', 'radhesyam']}\n",
    "# uding dict() and zip()\n",
    "flat_dict= dict(zip(test_dict['classes'], test_dict['name']))\n",
    "print(flat_dict)"
   ]
  },
  {
   "cell_type": "markdown",
   "id": "704404de",
   "metadata": {},
   "source": [
    "# 5.\tWrite a Python program to insertion at the beginning in OrderedDict?"
   ]
  },
  {
   "cell_type": "code",
   "execution_count": 42,
   "id": "7ffe9946",
   "metadata": {},
   "outputs": [
    {
     "name": "stdout",
     "output_type": "stream",
     "text": [
      "OrderedDict([('Ram', 'Halwa'), ('shyam', 'puri')])\n",
      "OrderedDict([('lala', 'Khichdi'), ('Ram', 'Halwa'), ('shyam', 'puri')])\n"
     ]
    }
   ],
   "source": [
    "# insertion of items in beginning of ordered dict\n",
    "from collections import OrderedDict\n",
    "\n",
    "insert_inordered_dict= OrderedDict([('Ram', 'Halwa'), ('shyam','puri')])\n",
    "print(insert_inordered_dict)\n",
    "insert_inordered_dict.update({'lala': 'Khichdi'})\n",
    "insert_inordered_dict.move_to_end('lala', last= False)\n",
    "print (insert_inordered_dict)"
   ]
  },
  {
   "cell_type": "markdown",
   "id": "37563ffb",
   "metadata": {},
   "source": [
    "# 6.\tWrite a Python program to check order of character in string using OrderedDict()?"
   ]
  },
  {
   "cell_type": "code",
   "execution_count": 45,
   "id": "7f8691cf",
   "metadata": {},
   "outputs": [
    {
     "name": "stdout",
     "output_type": "stream",
     "text": [
      "enter string : sab ka malik ek\n",
      "Enter Pattern : zz\n",
      "OrderedDict([('s', None), ('a', None), ('b', None), (' ', None), ('k', None), ('m', None), ('l', None), ('i', None), ('e', None)])\n",
      "Pattern matched\n"
     ]
    }
   ],
   "source": [
    "from collections import OrderedDict \n",
    "  \n",
    "def checkOrderofString(string, pattern): \n",
    "      \n",
    "    # create empty OrderedDict \n",
    "    dict1 = OrderedDict.fromkeys(string) \n",
    "    print(dict1)   \n",
    "    ptrlen = 0\n",
    "    for key,value in dict1.items(): \n",
    "        \n",
    "        if (key == pattern[ptrlen]): \n",
    "            ptrlen = ptrlen + 1\n",
    "          \n",
    "        # check if we have traverse complete pattern string \n",
    "        if (ptrlen == (len(pattern))):            \n",
    "            return 'true'\n",
    "  \n",
    "    # if we come out from for loop that means order was mismatched \n",
    "    return 'false'\n",
    "  \n",
    "\n",
    "string = input(\"enter string : \")\n",
    "pattern = input(\"Enter Pattern : \")\n",
    "if checkOrderofString(string,pattern):\n",
    "    print(\"Pattern matched\")\n",
    "else:\n",
    "    print(\"Pattern not matched\")"
   ]
  },
  {
   "cell_type": "markdown",
   "id": "7745d090",
   "metadata": {},
   "source": [
    "# 7.\tWrite a Python program to sort Python Dictionaries by Key or Value?"
   ]
  },
  {
   "cell_type": "code",
   "execution_count": 54,
   "id": "a0452da4",
   "metadata": {},
   "outputs": [
    {
     "name": "stdout",
     "output_type": "stream",
     "text": [
      "['key1', 'key2', 'key3', 'key4', 'key5'] \n",
      "\n",
      "[[3, 6, 7, 2, 4], [3, 36, 9, 25, 4], [3, 61, 71, 2, 45], [9, 10, 7, 22, 49], [31, 6, 72, 23, 45]] \n",
      "\n",
      "[('key1', [3, 6, 7, 2, 4]), ('key2', [3, 36, 9, 25, 4]), ('key3', [31, 6, 72, 23, 45]), ('key4', [3, 61, 71, 2, 45]), ('key5', [9, 10, 7, 22, 49])]\n"
     ]
    }
   ],
   "source": [
    "dict1= {'key1':[3,6,7,2,4],\n",
    "       'key2':[3,36,9,25,4],\n",
    "        'key3':[31,6,72,23,45],\n",
    "        'key4':[3,61,71,2,45],\n",
    "        'key5':[9,10,7,22,49]}\n",
    "print(sorted(dict1.keys()),'\\n')\n",
    "print(sorted(dict1.values()),'\\n')\n",
    "print(sorted(dict1.items()))"
   ]
  }
 ],
 "metadata": {
  "kernelspec": {
   "display_name": "Python 3 (ipykernel)",
   "language": "python",
   "name": "python3"
  },
  "language_info": {
   "codemirror_mode": {
    "name": "ipython",
    "version": 3
   },
   "file_extension": ".py",
   "mimetype": "text/x-python",
   "name": "python",
   "nbconvert_exporter": "python",
   "pygments_lexer": "ipython3",
   "version": "3.9.12"
  }
 },
 "nbformat": 4,
 "nbformat_minor": 5
}
