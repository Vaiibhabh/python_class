{
 "cells": [
  {
   "cell_type": "markdown",
   "id": "685f870d",
   "metadata": {},
   "source": [
    "# 1.\tWrite a Python Program to find sum of array?"
   ]
  },
  {
   "cell_type": "code",
   "execution_count": 3,
   "id": "d2a979d8",
   "metadata": {},
   "outputs": [],
   "source": [
    "def summ(l):\n",
    "    count=0\n",
    "    for i in l:\n",
    "        count= count+i\n",
    "    print(count)"
   ]
  },
  {
   "cell_type": "code",
   "execution_count": 4,
   "id": "2dd96805",
   "metadata": {},
   "outputs": [
    {
     "name": "stdout",
     "output_type": "stream",
     "text": [
      "95\n"
     ]
    }
   ],
   "source": [
    "summ([2,3,5,6,79,0])"
   ]
  },
  {
   "cell_type": "markdown",
   "id": "f9d5630c",
   "metadata": {},
   "source": [
    "# 2.\tWrite a Python Program to find largest element in an array?"
   ]
  },
  {
   "cell_type": "code",
   "execution_count": 9,
   "id": "53dc82d0",
   "metadata": {},
   "outputs": [],
   "source": [
    "def larg_of_array(l):\n",
    "    num=0\n",
    "    for i in l:\n",
    "        if i > num:\n",
    "            num=i\n",
    "    print(num)\n",
    "            "
   ]
  },
  {
   "cell_type": "code",
   "execution_count": 12,
   "id": "43a6e1cb",
   "metadata": {},
   "outputs": [
    {
     "name": "stdout",
     "output_type": "stream",
     "text": [
      "70\n"
     ]
    }
   ],
   "source": [
    "larg_of_array((3,6,4,9,33,60,45,29, 70))"
   ]
  },
  {
   "cell_type": "markdown",
   "id": "c1e16664",
   "metadata": {},
   "source": [
    "# 3.\tWrite a Python Program for array rotation?"
   ]
  },
  {
   "cell_type": "code",
   "execution_count": 55,
   "id": "7d92f815",
   "metadata": {},
   "outputs": [],
   "source": [
    "def rotation(l):\n",
    "    d= int(input('enter the value about which array is to  be rotated :'))\n",
    "    temp=[]\n",
    "\n",
    "    for i in range(d,len(l)): \n",
    "        temp.append(l[i])\n",
    "        \n",
    "    for j in range(0,d):\n",
    "        temp.append(l[j])\n",
    "    l= temp.copy()\n",
    "    return l"
   ]
  },
  {
   "cell_type": "code",
   "execution_count": 57,
   "id": "ac5fe2e9",
   "metadata": {},
   "outputs": [
    {
     "name": "stdout",
     "output_type": "stream",
     "text": [
      "enter the value about which array is to  be rotated :3\n"
     ]
    },
    {
     "data": {
      "text/plain": [
       "[43, 5, 65, 34, 87, 1, 25, 31]"
      ]
     },
     "execution_count": 57,
     "metadata": {},
     "output_type": "execute_result"
    }
   ],
   "source": [
    "rotation([1,25,31,43,5, 65,34,87])"
   ]
  },
  {
   "cell_type": "markdown",
   "id": "9221f483",
   "metadata": {},
   "source": [
    "# 4.\tWrite a Python Program to Split the array and add the first part to the end?"
   ]
  },
  {
   "cell_type": "code",
   "execution_count": 69,
   "id": "c07fd6d1",
   "metadata": {},
   "outputs": [],
   "source": [
    "def split(l):\n",
    "    n=len(l)\n",
    "    temp=[]\n",
    "    for i in range(int(n/2),n):\n",
    "        temp.append(l[i])\n",
    "        \n",
    "    for j in range(0,int(n/2)):\n",
    "        temp.append(l[j])\n",
    "    l=temp.copy()\n",
    "    return l"
   ]
  },
  {
   "cell_type": "code",
   "execution_count": 72,
   "id": "09dceef5",
   "metadata": {},
   "outputs": [
    {
     "data": {
      "text/plain": [
       "[5, 65, 34, 87, 90, 1, 25, 31, 43]"
      ]
     },
     "execution_count": 72,
     "metadata": {},
     "output_type": "execute_result"
    }
   ],
   "source": [
    "split([1,25,31,43,5, 65,34,87,90])\n"
   ]
  },
  {
   "cell_type": "markdown",
   "id": "36da1165",
   "metadata": {},
   "source": [
    "# 5.\tWrite a Python Program to check if given array is Monotonic?"
   ]
  },
  {
   "cell_type": "code",
   "execution_count": 95,
   "id": "d0bda79d",
   "metadata": {},
   "outputs": [],
   "source": [
    "def isMonotonic(l):\n",
    "    if len(l) <= 2:\n",
    "        return True\n",
    "    direction = l[1] - l[0]\n",
    "    for i in range(2, len(l)):\n",
    "        if direction == 0:\n",
    "            direction = l[i] - l[i - 1]\n",
    "            continue\n",
    "        if (direction > 0 and l[i] < l[i - 1]) or (direction < 0 and l[i] > l[i - 1]):\n",
    "            return False\n",
    "    return True\n",
    "        "
   ]
  },
  {
   "cell_type": "code",
   "execution_count": 96,
   "id": "82d02114",
   "metadata": {},
   "outputs": [
    {
     "data": {
      "text/plain": [
       "False"
      ]
     },
     "execution_count": 96,
     "metadata": {},
     "output_type": "execute_result"
    }
   ],
   "source": [
    "isMonotonic([7,6,5,46,3,2,1])"
   ]
  },
  {
   "cell_type": "code",
   "execution_count": 97,
   "id": "0953f165",
   "metadata": {},
   "outputs": [
    {
     "data": {
      "text/plain": [
       "True"
      ]
     },
     "execution_count": 97,
     "metadata": {},
     "output_type": "execute_result"
    }
   ],
   "source": [
    "isMonotonic([90,96, 105,107])"
   ]
  },
  {
   "cell_type": "code",
   "execution_count": 100,
   "id": "bb292f12",
   "metadata": {},
   "outputs": [
    {
     "data": {
      "text/plain": [
       "True"
      ]
     },
     "execution_count": 100,
     "metadata": {},
     "output_type": "execute_result"
    }
   ],
   "source": [
    "isMonotonic([7,7,5,5,3,2])"
   ]
  },
  {
   "cell_type": "code",
   "execution_count": null,
   "id": "f3b1008c",
   "metadata": {},
   "outputs": [],
   "source": []
  }
 ],
 "metadata": {
  "kernelspec": {
   "display_name": "Python 3 (ipykernel)",
   "language": "python",
   "name": "python3"
  },
  "language_info": {
   "codemirror_mode": {
    "name": "ipython",
    "version": 3
   },
   "file_extension": ".py",
   "mimetype": "text/x-python",
   "name": "python",
   "nbconvert_exporter": "python",
   "pygments_lexer": "ipython3",
   "version": "3.9.12"
  }
 },
 "nbformat": 4,
 "nbformat_minor": 5
}
