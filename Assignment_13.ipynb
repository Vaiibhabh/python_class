{
 "cells": [
  {
   "cell_type": "markdown",
   "id": "f72c6910",
   "metadata": {},
   "source": [
    "# 1. What advantages do Excel spreadsheets have over CSV spreadsheets?"
   ]
  },
  {
   "cell_type": "markdown",
   "id": "d0d88ba1",
   "metadata": {},
   "source": [
    "Ans.\n",
    "--A workbook's worksheet information is contained in a binary file.\n",
    "--Data can be stored and processed in an Excel spreadsheet.\n",
    "--Text editors are unable to open or edit Excel files.\n",
    "--Excel makes it considerably simpler for end users to work with enormous files. Also, you may import specific cells, automatically convert dates and times, read formulas and their results, apply filters, do sorting, and more.\n",
    "--In addition to text, data can also be stored as graphs and charts.\n",
    "--In order to retrieve data, Excel can connect to external data sources. Excel can have its capabilities increased by using a bespoke add-in.\n",
    "--Excel has a thorough monitoring and commenting tool that enables data review.\n",
    "--In Excel, spreadsheets can feature values other than strings, variable fonts, sizes, or colour options, varying cell widths and heights, and the ability to combine neighbouring cells."
   ]
  },
  {
   "cell_type": "markdown",
   "id": "47d412c3",
   "metadata": {},
   "source": [
    "# 2.What do you pass to csv.reader() and csv.writer() to create reader and writer objects?"
   ]
  },
  {
   "cell_type": "code",
   "execution_count": 2,
   "id": "cde74dbf",
   "metadata": {},
   "outputs": [
    {
     "data": {
      "text/plain": [
       "[['id',\n",
       "  'contact_id',\n",
       "  'location_id',\n",
       "  'organization_id',\n",
       "  'service_id',\n",
       "  'country_prefix',\n",
       "  'department',\n",
       "  'extension',\n",
       "  'number',\n",
       "  'number_type',\n",
       "  'vanity_number'],\n",
       " ['1', '', '1', '', '', '', '', '', '650 780-7525', 'voice', ''],\n",
       " ['2', '', '1', '', '', '', '', '', '650 701-0856', 'fax', ''],\n",
       " ['3', '', '2', '', '', '', '', '4385', '650 403-4300', 'voice', ''],\n",
       " ['4', '', '2', '', '', '', '', '', '650 403-4302', 'fax', ''],\n",
       " ['5', '', '3', '', '', '', 'English', '', '650 403-4300', 'voice', ''],\n",
       " ['6', '', '3', '', '', '', '', '', '650 403-4303', 'fax', ''],\n",
       " ['7', '', '4', '', '', '', '', '4500', '650 403-4300', 'voice', ''],\n",
       " ['8', '', '4', '', '', '', '', '', '650 403-4303', 'fax', ''],\n",
       " ['9', '', '5', '', '', '', '', '4100', '650 403-4300', 'voice', ''],\n",
       " ['10', '', '5', '', '', '', '', '', '650 403-4303', 'fax', ''],\n",
       " ['11', '', '6', '', '', '', '', '', '650 326-2025', 'voice', ''],\n",
       " ['12', '', '6', '', '', '', '', '', '650 326-9547', 'fax', ''],\n",
       " ['13', '', '7', '', '', '', '', '', '650 322-0126', 'voice', ''],\n",
       " ['14', '', '7', '', '', '', '', '', '650 322-4067', 'fax', ''],\n",
       " ['15', '', '8', '', '', '', '', '', '650 323-2022', 'voice', ''],\n",
       " ['16', '', '8', '', '', '', '', '', '650 326-9547', 'fax', ''],\n",
       " ['17', '', '9', '', '', '', '', '', '650 780-7261', 'voice', ''],\n",
       " ['18', '', '9', '', '', '', '', '', '650 569-3371', 'fax', ''],\n",
       " ['19', '', '10', '', '', '', 'Circulation', '', '650 780-7018', 'voice', ''],\n",
       " ['20', '', '10', '', '', '', '', '', '650 780-7069', 'fax', ''],\n",
       " ['21', '', '11', '', '', '', '', '', '650 780-7010', 'voice', ''],\n",
       " ['23', '', '12', '', '', '', '', '', '650 780-7077', 'voice', ''],\n",
       " ['24', '', '12', '', '', '', '', '', '650 780-7004', 'fax', ''],\n",
       " ['25', '', '13', '', '', '', '', '', '650 780-5740', 'voice', ''],\n",
       " ['26', '', '14', '', '', '', '', '', '650 368-4643', 'voice', ''],\n",
       " ['27', '', '14', '', '', '', '', '', '650 364-1712', 'fax', ''],\n",
       " ['28', '', '15', '', '', '', '', '', '415 643-8000', 'voice', ''],\n",
       " ['29', '', '15', '', '', '', '', '', '415 285-1391', 'fax', ''],\n",
       " ['30', '', '16', '', '', '', '', '', '408 720-0420', 'voice', ''],\n",
       " ['31', '', '16', '', '', '', '', '', '408 720-8075', 'fax', ''],\n",
       " ['32', '', '17', '', '', '', '', '', '650 266-4591', 'voice', ''],\n",
       " ['33', '', '17', '', '', '', '', '', '650 266-2594', 'fax', ''],\n",
       " ['34', '', '17', '', '', '', '', '', '650 266-4594', 'fax', ''],\n",
       " ['35', '', '18', '', '', '', '', '', '650 839-1447', 'voice', ''],\n",
       " ['36', '', '18', '', '', '', '', '', '650 839-1457', 'fax', ''],\n",
       " ['37', '', '19', '', '', '', '', '', '650 578-0400', 'voice', ''],\n",
       " ['38', '', '19', '', '', '', '', '', '650 578-0440', 'fax', ''],\n",
       " ['39',\n",
       "  '',\n",
       "  '21',\n",
       "  '',\n",
       "  '',\n",
       "  '',\n",
       "  'CalFresh',\n",
       "  '1223',\n",
       "  '7035551212',\n",
       "  'voice',\n",
       "  '703-555-ABCD'],\n",
       " ['40', '', '21', '', '', '', 'CalFresh', '', '2025551212', 'fax', ''],\n",
       " ['41',\n",
       "  '29',\n",
       "  '',\n",
       "  '',\n",
       "  '',\n",
       "  '+1',\n",
       "  'Referrals',\n",
       "  '1200',\n",
       "  '123-456-7890',\n",
       "  'voice',\n",
       "  ''],\n",
       " ['42', '29', '', '', '', '+1', 'Referrals', '', '202-555-1212', 'fax', ''],\n",
       " ['43',\n",
       "  '',\n",
       "  '22',\n",
       "  '',\n",
       "  '',\n",
       "  '',\n",
       "  'Information',\n",
       "  '123',\n",
       "  '650 372-6200',\n",
       "  'voice',\n",
       "  '222-555-INFO'],\n",
       " ['44', '', '22', '', '', '', 'Reservations', '', '650 627-8244', 'fax', ''],\n",
       " ['45', '', '22', '', '', '', 'Hotline', '', '800 372-6200', 'hotline', ''],\n",
       " ['46',\n",
       "  '',\n",
       "  '22',\n",
       "  '',\n",
       "  '',\n",
       "  '',\n",
       "  'Rental Assistance',\n",
       "  '202',\n",
       "  '650 372-6200',\n",
       "  'tty',\n",
       "  ''],\n",
       " ['52',\n",
       "  '36',\n",
       "  '',\n",
       "  '',\n",
       "  '',\n",
       "  '',\n",
       "  'CalFresh Applications',\n",
       "  '123',\n",
       "  '703-555-1212',\n",
       "  'voice',\n",
       "  ''],\n",
       " ['53', '', '', '8', '', '', 'Operations', '101', '123-456-7890', 'voice', ''],\n",
       " ['54', '32', '', '', '', '', 'Operations', '', '703-444-1234', 'fax', ''],\n",
       " ['55',\n",
       "  '32',\n",
       "  '',\n",
       "  '',\n",
       "  '',\n",
       "  '',\n",
       "  'Operations',\n",
       "  '101',\n",
       "  '650-555-1212',\n",
       "  'voice',\n",
       "  ''],\n",
       " ['56', '', '11', '', '', '', '', '', '650 365-3738', 'fax', ''],\n",
       " ['57',\n",
       "  '',\n",
       "  '',\n",
       "  '',\n",
       "  '22',\n",
       "  '',\n",
       "  'Passport Photos',\n",
       "  '123',\n",
       "  '123-456-7890',\n",
       "  'voice',\n",
       "  ''],\n",
       " ['58',\n",
       "  '',\n",
       "  '',\n",
       "  '',\n",
       "  '22',\n",
       "  '',\n",
       "  'Passport Photos Fax',\n",
       "  '',\n",
       "  '789-456-1230',\n",
       "  'fax',\n",
       "  ''],\n",
       " ['59',\n",
       "  '',\n",
       "  '',\n",
       "  '',\n",
       "  '22',\n",
       "  '',\n",
       "  'Passport Help via SMS',\n",
       "  '',\n",
       "  '650-222-5555',\n",
       "  'sms',\n",
       "  ''],\n",
       " ['60', '29', '', '', '', '', '', '', '650-555-1212', 'sms', '']]"
      ]
     },
     "execution_count": 2,
     "metadata": {},
     "output_type": "execute_result"
    }
   ],
   "source": [
    "\n",
    "#we pass a File object, obtained from a call to open().\n",
    "import csv\n",
    "file_csv = open('phones.csv')\n",
    "filereader = csv.reader(file_csv)\n",
    "fileData = list(filereader)\n",
    "fileData"
   ]
  },
  {
   "cell_type": "markdown",
   "id": "fcf9f538",
   "metadata": {},
   "source": [
    "# 3. What modes do File objects for reader and writer objects need to be opened in?"
   ]
  },
  {
   "cell_type": "markdown",
   "id": "6d105ea1",
   "metadata": {},
   "source": [
    "Ans. File objects need to be opened in read-binary ('rb') for Reader objects and write-binary ('wb') for Writer objects"
   ]
  },
  {
   "cell_type": "markdown",
   "id": "e296f71f",
   "metadata": {},
   "source": [
    "# 4. What method takes a list argument and writes it to a CSV file?"
   ]
  },
  {
   "cell_type": "code",
   "execution_count": 3,
   "id": "db7d5420",
   "metadata": {},
   "outputs": [
    {
     "data": {
      "text/plain": [
       "25"
      ]
     },
     "execution_count": 3,
     "metadata": {},
     "output_type": "execute_result"
    }
   ],
   "source": [
    " #The writerow() method\n",
    "File_abc = open('phones.csv','w')\n",
    "File_Writer = csv.writer(File_abc)\n",
    "csv.writer(File_abc).writerow(['vaibhav','jaiswal','Ineuron'])"
   ]
  },
  {
   "cell_type": "markdown",
   "id": "a6e45c79",
   "metadata": {},
   "source": [
    "# 5. What do the keyword arguments delimiter and line terminator do?"
   ]
  },
  {
   "cell_type": "code",
   "execution_count": null,
   "id": "180a5654",
   "metadata": {},
   "outputs": [],
   "source": [
    "Ans. \n",
    "The string used to divide the cells in a row is altered by the delimiter argument.\n",
    "The string used to divide rows is altered by the line terminator argument."
   ]
  },
  {
   "cell_type": "markdown",
   "id": "f1d16bd6",
   "metadata": {},
   "source": [
    "# 6. What function takes a string of JSON data and returns a Python data structure?"
   ]
  },
  {
   "cell_type": "markdown",
   "id": "c02b086d",
   "metadata": {},
   "source": [
    "Ans. json.loads()"
   ]
  },
  {
   "cell_type": "markdown",
   "id": "46788676",
   "metadata": {},
   "source": [
    "# 7. What function takes a Python data structure and returns a string of JSON data?"
   ]
  },
  {
   "cell_type": "markdown",
   "id": "d60984a8",
   "metadata": {},
   "source": [
    "Ans. json.dumps()"
   ]
  }
 ],
 "metadata": {
  "kernelspec": {
   "display_name": "Python 3 (ipykernel)",
   "language": "python",
   "name": "python3"
  },
  "language_info": {
   "codemirror_mode": {
    "name": "ipython",
    "version": 3
   },
   "file_extension": ".py",
   "mimetype": "text/x-python",
   "name": "python",
   "nbconvert_exporter": "python",
   "pygments_lexer": "ipython3",
   "version": "3.9.12"
  }
 },
 "nbformat": 4,
 "nbformat_minor": 5
}
