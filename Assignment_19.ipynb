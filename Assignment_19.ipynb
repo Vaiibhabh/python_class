{
 "cells": [
  {
   "cell_type": "markdown",
   "id": "9131932e",
   "metadata": {},
   "source": [
    "# 1. Make a class called Thing with no contents and print it. Then, create an object called example from this class and also print it. Are the printed values the same or different?"
   ]
  },
  {
   "cell_type": "code",
   "execution_count": 1,
   "id": "d3950485",
   "metadata": {},
   "outputs": [
    {
     "name": "stdout",
     "output_type": "stream",
     "text": [
      "<class '__main__.Thing'>\n"
     ]
    }
   ],
   "source": [
    "class Thing:\n",
    "    pass\n",
    "print(Thing)"
   ]
  },
  {
   "cell_type": "code",
   "execution_count": 2,
   "id": "73a70345",
   "metadata": {},
   "outputs": [
    {
     "name": "stdout",
     "output_type": "stream",
     "text": [
      "<__main__.Thing object at 0x000002753F2EC790>\n"
     ]
    }
   ],
   "source": [
    "example= Thing()\n",
    "print(example)\n",
    "# Both are different, one is a class and otheer is a object"
   ]
  },
  {
   "cell_type": "markdown",
   "id": "99885f98",
   "metadata": {},
   "source": [
    "# 2. Create a new class called Thing2 and add the value 'abc' to the letters class attribute. Letters should be printed."
   ]
  },
  {
   "cell_type": "code",
   "execution_count": 4,
   "id": "3b1568cb",
   "metadata": {},
   "outputs": [
    {
     "name": "stdout",
     "output_type": "stream",
     "text": [
      "abc\n"
     ]
    }
   ],
   "source": [
    "class Thing2:\n",
    "    letters='abc'\n",
    "print(Thing2.letters)"
   ]
  },
  {
   "cell_type": "markdown",
   "id": "22a18ec6",
   "metadata": {},
   "source": [
    "# 3. Make yet another class called, of course, Thing3. This time, assign the value 'xyz' to an instance (object) attribute called letters. Print letters. Do you need to make an object from the class to do this?"
   ]
  },
  {
   "cell_type": "code",
   "execution_count": 11,
   "id": "973ae410",
   "metadata": {},
   "outputs": [
    {
     "name": "stdout",
     "output_type": "stream",
     "text": [
      "xyz\n"
     ]
    }
   ],
   "source": [
    "class Thing3:\n",
    "    def __init__(self):\n",
    "        self.letters= 'xyz'\n",
    "\n",
    "\n"
   ]
  },
  {
   "cell_type": "code",
   "execution_count": 13,
   "id": "8ebb3d86",
   "metadata": {},
   "outputs": [
    {
     "ename": "AttributeError",
     "evalue": "type object 'Thing3' has no attribute 'letters'",
     "output_type": "error",
     "traceback": [
      "\u001b[1;31m---------------------------------------------------------------------------\u001b[0m",
      "\u001b[1;31mAttributeError\u001b[0m                            Traceback (most recent call last)",
      "Input \u001b[1;32mIn [13]\u001b[0m, in \u001b[0;36m<cell line: 1>\u001b[1;34m()\u001b[0m\n\u001b[1;32m----> 1\u001b[0m \u001b[38;5;28mprint\u001b[39m(\u001b[43mThing3\u001b[49m\u001b[38;5;241;43m.\u001b[39;49m\u001b[43mletters\u001b[49m)\n",
      "\u001b[1;31mAttributeError\u001b[0m: type object 'Thing3' has no attribute 'letters'"
     ]
    }
   ],
   "source": [
    "print(Thing3.letters)"
   ]
  },
  {
   "cell_type": "code",
   "execution_count": 8,
   "id": "88ae1708",
   "metadata": {},
   "outputs": [
    {
     "ename": "NameError",
     "evalue": "name 'Things' is not defined",
     "output_type": "error",
     "traceback": [
      "\u001b[1;31m---------------------------------------------------------------------------\u001b[0m",
      "\u001b[1;31mNameError\u001b[0m                                 Traceback (most recent call last)",
      "Input \u001b[1;32mIn [8]\u001b[0m, in \u001b[0;36m<cell line: 1>\u001b[1;34m()\u001b[0m\n\u001b[1;32m----> 1\u001b[0m E\u001b[38;5;241m=\u001b[39m \u001b[43mThings\u001b[49m()\n\u001b[0;32m      2\u001b[0m E\u001b[38;5;241m.\u001b[39mletters\u001b[38;5;241m=\u001b[39m \u001b[38;5;124m'\u001b[39m\u001b[38;5;124mxyz\u001b[39m\u001b[38;5;124m'\u001b[39m\n\u001b[0;32m      3\u001b[0m \u001b[38;5;28mprint\u001b[39m(E\u001b[38;5;241m.\u001b[39mletters)\n",
      "\u001b[1;31mNameError\u001b[0m: name 'Things' is not defined"
     ]
    }
   ],
   "source": [
    "E= Thing3()\n",
    "E.letters= 'xyz'\n",
    "print(E.letters)\n",
    "# yes if ypu are making and object attribute then you need to make an object separately-- \n",
    "# --which is not printed from the class attribute "
   ]
  },
  {
   "cell_type": "markdown",
   "id": "ab905862",
   "metadata": {},
   "source": [
    "# 4. Create an Element class with the instance attributes name, symbol, and number. Create a class object with the values 'Hydrogen,' 'H,' and 1."
   ]
  },
  {
   "cell_type": "code",
   "execution_count": 32,
   "id": "c57c975c",
   "metadata": {},
   "outputs": [],
   "source": [
    "class Element:\n",
    "    def __init__(self,name,symbol, number):\n",
    "        self.name= name\n",
    "        self.symbol= symbol\n",
    "        self.number = number"
   ]
  },
  {
   "cell_type": "code",
   "execution_count": 16,
   "id": "23957019",
   "metadata": {},
   "outputs": [],
   "source": [
    "object1= Element('Hydrogen', 'H', 1)"
   ]
  },
  {
   "cell_type": "code",
   "execution_count": 17,
   "id": "8471aef5",
   "metadata": {},
   "outputs": [
    {
     "data": {
      "text/plain": [
       "1"
      ]
     },
     "execution_count": 17,
     "metadata": {},
     "output_type": "execute_result"
    }
   ],
   "source": [
    "object1.number"
   ]
  },
  {
   "cell_type": "code",
   "execution_count": 18,
   "id": "3ecafc6a",
   "metadata": {},
   "outputs": [
    {
     "data": {
      "text/plain": [
       "'Hydrogen'"
      ]
     },
     "execution_count": 18,
     "metadata": {},
     "output_type": "execute_result"
    }
   ],
   "source": [
    "object1.name"
   ]
  },
  {
   "cell_type": "code",
   "execution_count": 19,
   "id": "1aa1b739",
   "metadata": {},
   "outputs": [
    {
     "data": {
      "text/plain": [
       "'H'"
      ]
     },
     "execution_count": 19,
     "metadata": {},
     "output_type": "execute_result"
    }
   ],
   "source": [
    "object1.symbol"
   ]
  },
  {
   "cell_type": "markdown",
   "id": "91ada110",
   "metadata": {},
   "source": [
    "# 5. Make a dictionary with these keys and values: 'name': 'Hydrogen', 'symbol': 'H', 'number': 1. Then, create an object called hydrogen from class Element using this dictionary."
   ]
  },
  {
   "cell_type": "code",
   "execution_count": 30,
   "id": "ee80da3a",
   "metadata": {},
   "outputs": [],
   "source": [
    "class Element:\n",
    "    def __init__(self,name,symbol, number):\n",
    "        self.name= name\n",
    "        self.symbol= symbol\n",
    "        self.number = number"
   ]
  },
  {
   "cell_type": "code",
   "execution_count": 28,
   "id": "85d8d306",
   "metadata": {},
   "outputs": [
    {
     "name": "stdout",
     "output_type": "stream",
     "text": [
      "{'name': 'Hydrogen', 'symbol': 'H', 'number': 1}\n"
     ]
    }
   ],
   "source": [
    "keys = ['name', 'symbol', 'number']\n",
    "values= ['Hydrogen', 'H', 1]\n",
    "element_dict= {keys:values for keys,values in zip(keys,values)}\n",
    "print(element_dict)"
   ]
  },
  {
   "cell_type": "code",
   "execution_count": 33,
   "id": "da6df274",
   "metadata": {},
   "outputs": [],
   "source": [
    "\n",
    "hydrogen= Element(element_dict['name'],element_dict['symbol'],element_dict['number'])"
   ]
  },
  {
   "cell_type": "code",
   "execution_count": 34,
   "id": "646c30db",
   "metadata": {},
   "outputs": [
    {
     "data": {
      "text/plain": [
       "'Hydrogen'"
      ]
     },
     "execution_count": 34,
     "metadata": {},
     "output_type": "execute_result"
    }
   ],
   "source": [
    "hydrogen.name"
   ]
  },
  {
   "cell_type": "code",
   "execution_count": 35,
   "id": "57c79341",
   "metadata": {},
   "outputs": [
    {
     "data": {
      "text/plain": [
       "1"
      ]
     },
     "execution_count": 35,
     "metadata": {},
     "output_type": "execute_result"
    }
   ],
   "source": [
    "hydrogen.number"
   ]
  },
  {
   "cell_type": "markdown",
   "id": "2f4a430b",
   "metadata": {},
   "source": [
    "# 6. For the Element class, define a method called dump() that prints the values of the object’s attributes (name, symbol, and number). Create the hydrogen object from this new definition and use dump() to print its attributes."
   ]
  },
  {
   "cell_type": "code",
   "execution_count": 50,
   "id": "34917e0b",
   "metadata": {},
   "outputs": [],
   "source": [
    "class Element:\n",
    "    def __init__(self, name,number,symbol):\n",
    "        self.name= name\n",
    "        self.number= number\n",
    "        self.symbol= symbol\n",
    "        \n",
    "    def dump(self):\n",
    "        print('the name of the element is: ',self.name)\n",
    "        print('the numbe of the elemenyt is: ', self.number)\n",
    "        print('the symbol from which it is represente by is : ',self.symbol)\n",
    "        \n",
    "        \n",
    "        "
   ]
  },
  {
   "cell_type": "code",
   "execution_count": 51,
   "id": "d86e95f1",
   "metadata": {},
   "outputs": [],
   "source": [
    "hydrogen= Element('Nitrogen', 14, 'N')"
   ]
  },
  {
   "cell_type": "code",
   "execution_count": 52,
   "id": "f26c266d",
   "metadata": {},
   "outputs": [
    {
     "name": "stdout",
     "output_type": "stream",
     "text": [
      "the name of the element is:  Nitrogen\n",
      "the numbe of the elemenyt is:  14\n",
      "the symbol from which it is represente by is :  N\n"
     ]
    }
   ],
   "source": [
    "hydrogen.dump()"
   ]
  },
  {
   "cell_type": "markdown",
   "id": "638461b9",
   "metadata": {},
   "source": [
    "# 7. Call print(hydrogen). In the definition of Element, change the name of method dump to __str__, create a new hydrogen object, and call print(hydrogen) again."
   ]
  },
  {
   "cell_type": "code",
   "execution_count": 53,
   "id": "7d39a69f",
   "metadata": {},
   "outputs": [
    {
     "name": "stdout",
     "output_type": "stream",
     "text": [
      "<__main__.Element object at 0x00000213A1098220>\n"
     ]
    }
   ],
   "source": [
    "print(hydrogen)"
   ]
  },
  {
   "cell_type": "code",
   "execution_count": 73,
   "id": "5e543257",
   "metadata": {},
   "outputs": [],
   "source": [
    "class Element:\n",
    "    def __init__(self, name,number,symbol):\n",
    "        self.name= name\n",
    "        self.number= number\n",
    "        self.symbol= symbol\n",
    "        \n",
    "    def __str__(self):\n",
    "        return ('name=%s, symbol=%s, number=%s' %(self.name, self.symbol, self.number))\n",
    "       "
   ]
  },
  {
   "cell_type": "code",
   "execution_count": 74,
   "id": "c1a3f552",
   "metadata": {},
   "outputs": [],
   "source": [
    "hydrogen= Element('Nitrogen', 14, 'N')"
   ]
  },
  {
   "cell_type": "code",
   "execution_count": 75,
   "id": "16b50e29",
   "metadata": {},
   "outputs": [
    {
     "name": "stdout",
     "output_type": "stream",
     "text": [
      "name=Nitrogen, symbol=N, number=14\n"
     ]
    }
   ],
   "source": [
    "print(hydrogen)"
   ]
  },
  {
   "cell_type": "markdown",
   "id": "4fd93201",
   "metadata": {},
   "source": [
    "# 8. Modify Element to make the attributes name, symbol, and number private. Define a getter property for each to return its value."
   ]
  },
  {
   "cell_type": "code",
   "execution_count": 83,
   "id": "edad4944",
   "metadata": {},
   "outputs": [],
   "source": [
    "class Element:\n",
    "    def __init__(self, name, symbol, number):\n",
    "        self.__name = name\n",
    "        self.__symbol = symbol\n",
    "        self.__number = number\n",
    "## define the getter property by using @property decorator function\n",
    "    @property   \n",
    "    def name(self):\n",
    "        return self.__name\n",
    "    @property\n",
    "    def symbol(self):\n",
    "        return self.__symbol\n",
    "    @property\n",
    "    def number(self):\n",
    "        return self.__number\n",
    "hydrogen = Element('Hydrogen', 'H', 1)"
   ]
  },
  {
   "cell_type": "code",
   "execution_count": 84,
   "id": "7d9fb098",
   "metadata": {},
   "outputs": [
    {
     "data": {
      "text/plain": [
       "'Hydrogen'"
      ]
     },
     "execution_count": 84,
     "metadata": {},
     "output_type": "execute_result"
    }
   ],
   "source": [
    "hydrogen.name"
   ]
  },
  {
   "cell_type": "markdown",
   "id": "061a740a",
   "metadata": {},
   "source": [
    "# 9. Define three classes: Bear, Rabbit, and Octothorpe. For each, define only one method: eats(). This should return 'berries' (Bear), 'clover' (Rabbit), or 'campers' (Octothorpe). Create one object from each and print what it eats."
   ]
  },
  {
   "cell_type": "code",
   "execution_count": 93,
   "id": "1f350cc7",
   "metadata": {},
   "outputs": [],
   "source": [
    "class Bear:\n",
    "    def eats(self):\n",
    "        return 'berries'\n",
    "    \n",
    "class Rabbit:\n",
    "    def eats(self):\n",
    "        return 'clover'\n",
    "    \n",
    "class Octothorpe:\n",
    "    def eats(self):\n",
    "        return 'campers'\n",
    "    "
   ]
  },
  {
   "cell_type": "code",
   "execution_count": 86,
   "id": "2560aae7",
   "metadata": {},
   "outputs": [],
   "source": [
    "animal1= Bear()"
   ]
  },
  {
   "cell_type": "code",
   "execution_count": 88,
   "id": "50d852d3",
   "metadata": {},
   "outputs": [
    {
     "data": {
      "text/plain": [
       "'berries'"
      ]
     },
     "execution_count": 88,
     "metadata": {},
     "output_type": "execute_result"
    }
   ],
   "source": [
    "animal1.eats()"
   ]
  },
  {
   "cell_type": "code",
   "execution_count": 89,
   "id": "6c7b6593",
   "metadata": {},
   "outputs": [],
   "source": [
    "animal2=Rabbit()"
   ]
  },
  {
   "cell_type": "code",
   "execution_count": 90,
   "id": "20b19919",
   "metadata": {},
   "outputs": [
    {
     "data": {
      "text/plain": [
       "'clover'"
      ]
     },
     "execution_count": 90,
     "metadata": {},
     "output_type": "execute_result"
    }
   ],
   "source": [
    "animal2.eats()"
   ]
  },
  {
   "cell_type": "code",
   "execution_count": 94,
   "id": "1ea3060d",
   "metadata": {},
   "outputs": [],
   "source": [
    "animal3= Octothorpe()"
   ]
  },
  {
   "cell_type": "code",
   "execution_count": 95,
   "id": "9ed61bb9",
   "metadata": {},
   "outputs": [
    {
     "data": {
      "text/plain": [
       "'campers'"
      ]
     },
     "execution_count": 95,
     "metadata": {},
     "output_type": "execute_result"
    }
   ],
   "source": [
    "animal3.eats()"
   ]
  },
  {
   "cell_type": "markdown",
   "id": "722fcd1b",
   "metadata": {},
   "source": [
    "# 10. Define these classes: Laser, Claw, and SmartPhone. Each has only one method: does(). This returns 'disintegrate' (Laser), 'crush' (Claw), or 'ring' (SmartPhone). Then, define the class Robot that has one instance (object) of each of these. Define a does() method for the Robot that prints what its component objects do."
   ]
  },
  {
   "cell_type": "code",
   "execution_count": 120,
   "id": "3e42eda0",
   "metadata": {},
   "outputs": [],
   "source": [
    "class Laser:\n",
    "    def does(self):\n",
    "        return 'disintegrate'\n",
    "\n",
    "class Claw:\n",
    "    def does(self):\n",
    "        return 'crush'\n",
    "    \n",
    "class SmartPhone:\n",
    "    def does(self):\n",
    "        return 'ring'\n",
    "    \n",
    "class Robot:\n",
    "    def __init__(self):\n",
    "        self.Laser = Laser()\n",
    "        self.Claw = Claw ()\n",
    "        self.Smartphone = SmartPhone()\n",
    "        \n",
    "    def does(self):\n",
    "        return  ''' My laser beam %s.\n",
    "        I have %s on my fried.\n",
    "        can you set your phone %s to silent mode?'''%(self.Laser.does(),self.Claw.does(),self.Smartphone.does() )"
   ]
  },
  {
   "cell_type": "code",
   "execution_count": 121,
   "id": "4709a0f2",
   "metadata": {},
   "outputs": [],
   "source": [
    "r1= Robot()"
   ]
  },
  {
   "cell_type": "code",
   "execution_count": 122,
   "id": "d6016d3b",
   "metadata": {},
   "outputs": [
    {
     "data": {
      "text/plain": [
       "' My laser beam disintegrate.\\n        I have crush on my fried.\\n        can you set your phone ring to silent mode?'"
      ]
     },
     "execution_count": 122,
     "metadata": {},
     "output_type": "execute_result"
    }
   ],
   "source": [
    "r1.does()"
   ]
  }
 ],
 "metadata": {
  "kernelspec": {
   "display_name": "Python 3 (ipykernel)",
   "language": "python",
   "name": "python3"
  },
  "language_info": {
   "codemirror_mode": {
    "name": "ipython",
    "version": 3
   },
   "file_extension": ".py",
   "mimetype": "text/x-python",
   "name": "python",
   "nbconvert_exporter": "python",
   "pygments_lexer": "ipython3",
   "version": "3.9.12"
  }
 },
 "nbformat": 4,
 "nbformat_minor": 5
}
